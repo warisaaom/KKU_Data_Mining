{
  "nbformat": 4,
  "nbformat_minor": 0,
  "metadata": {
    "colab": {
      "name": "Data103.ipynb",
      "provenance": [],
      "authorship_tag": "ABX9TyMeHNGoTnE26pTMwE/luKjB",
      "include_colab_link": true
    },
    "kernelspec": {
      "name": "python3",
      "display_name": "Python 3"
    }
  },
  "cells": [
    {
      "cell_type": "markdown",
      "metadata": {
        "id": "view-in-github",
        "colab_type": "text"
      },
      "source": [
        "<a href=\"https://colab.research.google.com/github/warisaaom/KKU_Data_Mining/blob/master/Data103.ipynb\" target=\"_parent\"><img src=\"https://colab.research.google.com/assets/colab-badge.svg\" alt=\"Open In Colab\"/></a>"
      ]
    },
    {
      "cell_type": "code",
      "metadata": {
        "id": "iWTweIuZsgkv",
        "colab_type": "code",
        "colab": {}
      },
      "source": [
        "import numpy as np\n"
      ],
      "execution_count": 1,
      "outputs": []
    },
    {
      "cell_type": "code",
      "metadata": {
        "id": "zKCBjcQmsw0h",
        "colab_type": "code",
        "colab": {
          "base_uri": "https://localhost:8080/",
          "height": 50
        },
        "outputId": "977f54ea-58ca-4134-d2c1-f1d1c43d0654"
      },
      "source": [
        "np1 = np.array([[1,3,5],[2,4,6]])\n",
        "np1"
      ],
      "execution_count": 2,
      "outputs": [
        {
          "output_type": "execute_result",
          "data": {
            "text/plain": [
              "array([[1, 3, 5],\n",
              "       [2, 4, 6]])"
            ]
          },
          "metadata": {
            "tags": []
          },
          "execution_count": 2
        }
      ]
    },
    {
      "cell_type": "code",
      "metadata": {
        "id": "V7SFCP2ts2SE",
        "colab_type": "code",
        "colab": {
          "base_uri": "https://localhost:8080/",
          "height": 84
        },
        "outputId": "967101e7-b95f-48a5-f207-83b70f2aa563"
      },
      "source": [
        "np2 = np.array([[1,2],[3,5],[2,0],[4,5]])\n",
        "np2"
      ],
      "execution_count": 4,
      "outputs": [
        {
          "output_type": "execute_result",
          "data": {
            "text/plain": [
              "array([[1, 2],\n",
              "       [3, 5],\n",
              "       [2, 0],\n",
              "       [4, 5]])"
            ]
          },
          "metadata": {
            "tags": []
          },
          "execution_count": 4
        }
      ]
    },
    {
      "cell_type": "code",
      "metadata": {
        "id": "zLSDKz1qs-3M",
        "colab_type": "code",
        "colab": {
          "base_uri": "https://localhost:8080/",
          "height": 50
        },
        "outputId": "435c293e-6cef-4edc-c01e-fda8095feb5c"
      },
      "source": [
        "np2.T\n"
      ],
      "execution_count": 5,
      "outputs": [
        {
          "output_type": "execute_result",
          "data": {
            "text/plain": [
              "array([[1, 3, 2, 4],\n",
              "       [2, 5, 0, 5]])"
            ]
          },
          "metadata": {
            "tags": []
          },
          "execution_count": 5
        }
      ]
    },
    {
      "cell_type": "code",
      "metadata": {
        "id": "otbfrT33s_it",
        "colab_type": "code",
        "colab": {
          "base_uri": "https://localhost:8080/",
          "height": 34
        },
        "outputId": "99ccbbec-0b62-4c52-e497-7fa9f9aec408"
      },
      "source": [
        "np2[0,:]\n"
      ],
      "execution_count": 7,
      "outputs": [
        {
          "output_type": "execute_result",
          "data": {
            "text/plain": [
              "array([1, 2])"
            ]
          },
          "metadata": {
            "tags": []
          },
          "execution_count": 7
        }
      ]
    },
    {
      "cell_type": "markdown",
      "metadata": {
        "id": "eLZpGWRRtJnc",
        "colab_type": "text"
      },
      "source": [
        "HW6 สร้าง distance matrix (Euclidean) ของ np2\n",
        "โดยสร้าง function สำหรับคำนวณ Euclidean Distance\n",
        "def Euclidean(data1,data2):\n",
        "#process\n",
        "return dist"
      ]
    },
    {
      "cell_type": "code",
      "metadata": {
        "id": "CgAUanT4tEQR",
        "colab_type": "code",
        "colab": {}
      },
      "source": [
        "def Manhattan(data1,data2):\n",
        "  distX = data1[0]-data2[0]\n",
        "  return distX"
      ],
      "execution_count": 8,
      "outputs": []
    },
    {
      "cell_type": "code",
      "metadata": {
        "id": "9otulSPrtNpi",
        "colab_type": "code",
        "colab": {
          "base_uri": "https://localhost:8080/",
          "height": 34
        },
        "outputId": "2ef05445-b7f5-4eaf-ee4f-4114cb02b000"
      },
      "source": [
        "Manhattan(np2[0,:],np2[1,:])\n"
      ],
      "execution_count": 9,
      "outputs": [
        {
          "output_type": "execute_result",
          "data": {
            "text/plain": [
              "-2"
            ]
          },
          "metadata": {
            "tags": []
          },
          "execution_count": 9
        }
      ]
    },
    {
      "cell_type": "code",
      "metadata": {
        "id": "fvHXJB4wtP01",
        "colab_type": "code",
        "colab": {}
      },
      "source": [
        "import math"
      ],
      "execution_count": 10,
      "outputs": []
    },
    {
      "cell_type": "code",
      "metadata": {
        "id": "Pb8K_TMetSNw",
        "colab_type": "code",
        "colab": {}
      },
      "source": [
        "def Manhattan(data1,data2):\n",
        "  distX = abs(data1[0]-data2[0])\n",
        "  return distX"
      ],
      "execution_count": 11,
      "outputs": []
    },
    {
      "cell_type": "code",
      "metadata": {
        "id": "ME8vWXQxtZwy",
        "colab_type": "code",
        "colab": {
          "base_uri": "https://localhost:8080/",
          "height": 34
        },
        "outputId": "1196b12f-6f6c-4db9-bec6-ad5e016b8293"
      },
      "source": [
        "Manhattan(np2[0,:],np2[1,:])"
      ],
      "execution_count": 12,
      "outputs": [
        {
          "output_type": "execute_result",
          "data": {
            "text/plain": [
              "2"
            ]
          },
          "metadata": {
            "tags": []
          },
          "execution_count": 12
        }
      ]
    },
    {
      "cell_type": "code",
      "metadata": {
        "id": "t7CqnD8FtcH6",
        "colab_type": "code",
        "colab": {}
      },
      "source": [
        "def Manhattan(data1,data2):\n",
        "  distX = abs(data1[0]-data2[0])\n",
        "  distY = abs(data1[1]-data2[1])\n",
        "  return distX+distY"
      ],
      "execution_count": 13,
      "outputs": []
    },
    {
      "cell_type": "code",
      "metadata": {
        "id": "n7NdnxUote_U",
        "colab_type": "code",
        "colab": {
          "base_uri": "https://localhost:8080/",
          "height": 34
        },
        "outputId": "17a21c56-db23-4287-c6ff-698e307e933e"
      },
      "source": [
        "Manhattan(np2[0,:],np2[1,:])"
      ],
      "execution_count": 14,
      "outputs": [
        {
          "output_type": "execute_result",
          "data": {
            "text/plain": [
              "5"
            ]
          },
          "metadata": {
            "tags": []
          },
          "execution_count": 14
        }
      ]
    },
    {
      "cell_type": "code",
      "metadata": {
        "id": "R-yJlA7GthWT",
        "colab_type": "code",
        "colab": {
          "base_uri": "https://localhost:8080/",
          "height": 84
        },
        "outputId": "c7290ddb-699a-419e-aa67-d1bcbef45a89"
      },
      "source": [
        "#ตัวอย่าง\n",
        "np.ones((4,4))"
      ],
      "execution_count": 15,
      "outputs": [
        {
          "output_type": "execute_result",
          "data": {
            "text/plain": [
              "array([[1., 1., 1., 1.],\n",
              "       [1., 1., 1., 1.],\n",
              "       [1., 1., 1., 1.],\n",
              "       [1., 1., 1., 1.]])"
            ]
          },
          "metadata": {
            "tags": []
          },
          "execution_count": 15
        }
      ]
    },
    {
      "cell_type": "code",
      "metadata": {
        "id": "GpyrIWsitj3u",
        "colab_type": "code",
        "colab": {
          "base_uri": "https://localhost:8080/",
          "height": 84
        },
        "outputId": "3cd98dc3-52e2-4298-d6c8-34c1bfc45f8e"
      },
      "source": [
        "#ตัวอย่าง\n",
        "5*np.ones((4,4))\n",
        "\n"
      ],
      "execution_count": 16,
      "outputs": [
        {
          "output_type": "execute_result",
          "data": {
            "text/plain": [
              "array([[5., 5., 5., 5.],\n",
              "       [5., 5., 5., 5.],\n",
              "       [5., 5., 5., 5.],\n",
              "       [5., 5., 5., 5.]])"
            ]
          },
          "metadata": {
            "tags": []
          },
          "execution_count": 16
        }
      ]
    },
    {
      "cell_type": "code",
      "metadata": {
        "id": "dq4qCia9tmwy",
        "colab_type": "code",
        "colab": {
          "base_uri": "https://localhost:8080/",
          "height": 84
        },
        "outputId": "f4083738-b86e-4ebc-ef7a-3f4d2a6fbe9f"
      },
      "source": [
        "#ข้อสอบ\n",
        "dist_mat = np.zeros((4,4))\n",
        "dist_mat"
      ],
      "execution_count": 17,
      "outputs": [
        {
          "output_type": "execute_result",
          "data": {
            "text/plain": [
              "array([[0., 0., 0., 0.],\n",
              "       [0., 0., 0., 0.],\n",
              "       [0., 0., 0., 0.],\n",
              "       [0., 0., 0., 0.]])"
            ]
          },
          "metadata": {
            "tags": []
          },
          "execution_count": 17
        }
      ]
    },
    {
      "cell_type": "code",
      "metadata": {
        "id": "OictSc8tto-3",
        "colab_type": "code",
        "colab": {
          "base_uri": "https://localhost:8080/",
          "height": 84
        },
        "outputId": "de565f0c-f7b9-49a2-8e41-46b5172cd4aa"
      },
      "source": [
        "for i in range(4):\n",
        "  for j in range(4):\n",
        "    dist_mat[i,j] = Manhattan(np2[i,:],np2[j,:])\n",
        "dist_mat\n"
      ],
      "execution_count": 18,
      "outputs": [
        {
          "output_type": "execute_result",
          "data": {
            "text/plain": [
              "array([[0., 5., 3., 6.],\n",
              "       [5., 0., 6., 1.],\n",
              "       [3., 6., 0., 7.],\n",
              "       [6., 1., 7., 0.]])"
            ]
          },
          "metadata": {
            "tags": []
          },
          "execution_count": 18
        }
      ]
    },
    {
      "cell_type": "code",
      "metadata": {
        "id": "QRR4Wa8vtrnA",
        "colab_type": "code",
        "colab": {
          "base_uri": "https://localhost:8080/",
          "height": 34
        },
        "outputId": "ef6b0673-7eda-4f0d-8100-ab092f1437b7"
      },
      "source": [
        "np2.shape\n"
      ],
      "execution_count": 19,
      "outputs": [
        {
          "output_type": "execute_result",
          "data": {
            "text/plain": [
              "(4, 2)"
            ]
          },
          "metadata": {
            "tags": []
          },
          "execution_count": 19
        }
      ]
    },
    {
      "cell_type": "code",
      "metadata": {
        "id": "fkQPhwhltt_G",
        "colab_type": "code",
        "colab": {}
      },
      "source": [
        ""
      ],
      "execution_count": null,
      "outputs": []
    }
  ]
}