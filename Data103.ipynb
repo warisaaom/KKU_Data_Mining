{
  "nbformat": 4,
  "nbformat_minor": 0,
  "metadata": {
    "colab": {
      "name": "Data103.ipynb",
      "provenance": [],
      "include_colab_link": true
    },
    "kernelspec": {
      "name": "python3",
      "display_name": "Python 3"
    }
  },
  "cells": [
    {
      "cell_type": "markdown",
      "metadata": {
        "id": "view-in-github",
        "colab_type": "text"
      },
      "source": [
        "<a href=\"https://colab.research.google.com/github/warisaaom/KKU_Data_Mining/blob/master/Data103.ipynb\" target=\"_parent\"><img src=\"https://colab.research.google.com/assets/colab-badge.svg\" alt=\"Open In Colab\"/></a>"
      ]
    },
    {
      "cell_type": "markdown",
      "metadata": {
        "id": "9adqn6u1JNEK"
      },
      "source": [
        "เรียกใช้ modu numpy"
      ]
    },
    {
      "cell_type": "code",
      "metadata": {
        "id": "iWTweIuZsgkv"
      },
      "source": [
        "import numpy as np\n"
      ],
      "execution_count": 14,
      "outputs": []
    },
    {
      "cell_type": "markdown",
      "metadata": {
        "id": "izzrPMlzJQRG"
      },
      "source": [
        "###numpy array"
      ]
    },
    {
      "cell_type": "markdown",
      "metadata": {
        "id": "0T4cdrl3JUh-"
      },
      "source": [
        "สร้าง arryด้วยคำสั่งnuppy"
      ]
    },
    {
      "cell_type": "code",
      "metadata": {
        "id": "zKCBjcQmsw0h",
        "colab": {
          "base_uri": "https://localhost:8080/"
        },
        "outputId": "8aa04b86-5163-4cfc-e62f-bfbf93fbc460"
      },
      "source": [
        "np1 = np.array([[1,3,5],[2,4,6]])\n",
        "np1"
      ],
      "execution_count": 15,
      "outputs": [
        {
          "output_type": "execute_result",
          "data": {
            "text/plain": [
              "array([[1, 3, 5],\n",
              "       [2, 4, 6]])"
            ]
          },
          "metadata": {
            "tags": []
          },
          "execution_count": 15
        }
      ]
    },
    {
      "cell_type": "code",
      "metadata": {
        "id": "V7SFCP2ts2SE",
        "colab": {
          "base_uri": "https://localhost:8080/"
        },
        "outputId": "aae8615d-8796-4a49-fa34-57600b700c07"
      },
      "source": [
        "np2 = np.array([[1,2],[3,5],[2,0],[4,5]])\n",
        "np2"
      ],
      "execution_count": 16,
      "outputs": [
        {
          "output_type": "execute_result",
          "data": {
            "text/plain": [
              "array([[1, 2],\n",
              "       [3, 5],\n",
              "       [2, 0],\n",
              "       [4, 5]])"
            ]
          },
          "metadata": {
            "tags": []
          },
          "execution_count": 16
        }
      ]
    },
    {
      "cell_type": "markdown",
      "metadata": {
        "id": "hlSm4LjNJXaY"
      },
      "source": [
        "ให้แสดงข้อมูลเป็นส่วนกลับ"
      ]
    },
    {
      "cell_type": "code",
      "metadata": {
        "id": "zLSDKz1qs-3M",
        "colab": {
          "base_uri": "https://localhost:8080/"
        },
        "outputId": "00c0a7c2-3613-456c-8295-d0f768049d01"
      },
      "source": [
        "np2.T\n"
      ],
      "execution_count": 17,
      "outputs": [
        {
          "output_type": "execute_result",
          "data": {
            "text/plain": [
              "array([[1, 3, 2, 4],\n",
              "       [2, 5, 0, 5]])"
            ]
          },
          "metadata": {
            "tags": []
          },
          "execution_count": 17
        }
      ]
    },
    {
      "cell_type": "code",
      "metadata": {
        "id": "otbfrT33s_it",
        "colab": {
          "base_uri": "https://localhost:8080/"
        },
        "outputId": "ff643d2f-1699-464c-82d8-5ae62a970abe"
      },
      "source": [
        "np2[0,:]\n"
      ],
      "execution_count": 18,
      "outputs": [
        {
          "output_type": "execute_result",
          "data": {
            "text/plain": [
              "array([1, 2])"
            ]
          },
          "metadata": {
            "tags": []
          },
          "execution_count": 18
        }
      ]
    },
    {
      "cell_type": "markdown",
      "metadata": {
        "id": "eLZpGWRRtJnc"
      },
      "source": [
        "HW6 สร้าง distance matrix (Euclidean) ของ np2\n",
        "โดยสร้าง function สำหรับคำนวณ Euclidean Distance\n",
        "def Euclidean(data1,data2):\n",
        "#process\n",
        "return dist"
      ]
    },
    {
      "cell_type": "code",
      "metadata": {
        "id": "CgAUanT4tEQR"
      },
      "source": [
        "def Manhattan(data1,data2):\n",
        "  distX = data1[0]-data2[0]\n",
        "  return distX"
      ],
      "execution_count": 19,
      "outputs": []
    },
    {
      "cell_type": "code",
      "metadata": {
        "id": "9otulSPrtNpi",
        "colab": {
          "base_uri": "https://localhost:8080/"
        },
        "outputId": "ef8bd02b-5b42-40a7-93de-53e3a4e38b89"
      },
      "source": [
        "Manhattan(np2[0,:],np2[1,:])\n"
      ],
      "execution_count": 20,
      "outputs": [
        {
          "output_type": "execute_result",
          "data": {
            "text/plain": [
              "-2"
            ]
          },
          "metadata": {
            "tags": []
          },
          "execution_count": 20
        }
      ]
    },
    {
      "cell_type": "markdown",
      "metadata": {
        "id": "CgNiiTl-Jdhd"
      },
      "source": [
        "import math เพื่อใช้คำสั่งทางคณิตศาสตร์"
      ]
    },
    {
      "cell_type": "code",
      "metadata": {
        "id": "fvHXJB4wtP01"
      },
      "source": [
        "import math"
      ],
      "execution_count": 21,
      "outputs": []
    },
    {
      "cell_type": "markdown",
      "metadata": {
        "id": "kTHT4rWhJgDK"
      },
      "source": [
        "กำหนดให้ Manhattan มีคำสั่งในการคำนวณดังที่แสดงข้างล่าง\n"
      ]
    },
    {
      "cell_type": "code",
      "metadata": {
        "id": "Pb8K_TMetSNw"
      },
      "source": [
        "def Manhattan(data1,data2):\n",
        "  distX = abs(data1[0]-data2[0])\n",
        "  return distX"
      ],
      "execution_count": 22,
      "outputs": []
    },
    {
      "cell_type": "markdown",
      "metadata": {
        "id": "mnrPdL6aJiqG"
      },
      "source": [
        "ตัวอย่างการคำนวณ โดยกำหนดค่าในตัวแปร np2 ที่อยู่ในrecordที่0 และ1 ของทุกคอลัมน์"
      ]
    },
    {
      "cell_type": "code",
      "metadata": {
        "id": "ME8vWXQxtZwy",
        "colab": {
          "base_uri": "https://localhost:8080/"
        },
        "outputId": "af6fe3c7-d816-46bc-8c64-4fe571c7cba0"
      },
      "source": [
        "Manhattan(np2[0,:],np2[1,:])"
      ],
      "execution_count": 23,
      "outputs": [
        {
          "output_type": "execute_result",
          "data": {
            "text/plain": [
              "2"
            ]
          },
          "metadata": {
            "tags": []
          },
          "execution_count": 23
        }
      ]
    },
    {
      "cell_type": "code",
      "metadata": {
        "id": "t7CqnD8FtcH6"
      },
      "source": [
        "def Manhattan(data1,data2):\n",
        "  distX = abs(data1[0]-data2[0])\n",
        "  distY = abs(data1[1]-data2[1])\n",
        "  return distX+distY"
      ],
      "execution_count": 24,
      "outputs": []
    },
    {
      "cell_type": "code",
      "metadata": {
        "id": "n7NdnxUote_U",
        "colab": {
          "base_uri": "https://localhost:8080/"
        },
        "outputId": "ffaa5245-9d5c-48a2-860a-ce5e0e1b94e6"
      },
      "source": [
        "Manhattan(np2[0,:],np2[1,:])"
      ],
      "execution_count": 25,
      "outputs": [
        {
          "output_type": "execute_result",
          "data": {
            "text/plain": [
              "5"
            ]
          },
          "metadata": {
            "tags": []
          },
          "execution_count": 25
        }
      ]
    },
    {
      "cell_type": "markdown",
      "metadata": {
        "id": "Y7ak04-sJlfd"
      },
      "source": [
        "สร้างตัวแปรแบบArray ไว้เก็บข้อมูลแบบ เมตริก 4*4"
      ]
    },
    {
      "cell_type": "code",
      "metadata": {
        "id": "R-yJlA7GthWT",
        "colab": {
          "base_uri": "https://localhost:8080/"
        },
        "outputId": "92eeba80-5c48-4033-d673-4f7249d0921a"
      },
      "source": [
        "#ตัวอย่าง\n",
        "np.ones((4,4))"
      ],
      "execution_count": 26,
      "outputs": [
        {
          "output_type": "execute_result",
          "data": {
            "text/plain": [
              "array([[1., 1., 1., 1.],\n",
              "       [1., 1., 1., 1.],\n",
              "       [1., 1., 1., 1.],\n",
              "       [1., 1., 1., 1.]])"
            ]
          },
          "metadata": {
            "tags": []
          },
          "execution_count": 26
        }
      ]
    },
    {
      "cell_type": "code",
      "metadata": {
        "id": "GpyrIWsitj3u",
        "colab": {
          "base_uri": "https://localhost:8080/"
        },
        "outputId": "9190c382-c194-4348-9c5c-09ecf626e780"
      },
      "source": [
        "#ตัวอย่าง\n",
        "5*np.ones((4,4))\n",
        "\n"
      ],
      "execution_count": 27,
      "outputs": [
        {
          "output_type": "execute_result",
          "data": {
            "text/plain": [
              "array([[5., 5., 5., 5.],\n",
              "       [5., 5., 5., 5.],\n",
              "       [5., 5., 5., 5.],\n",
              "       [5., 5., 5., 5.]])"
            ]
          },
          "metadata": {
            "tags": []
          },
          "execution_count": 27
        }
      ]
    },
    {
      "cell_type": "code",
      "metadata": {
        "id": "dq4qCia9tmwy",
        "colab": {
          "base_uri": "https://localhost:8080/"
        },
        "outputId": "d708949a-bc3d-4b73-ca3b-8d252ae63ca9"
      },
      "source": [
        "#ข้อสอบ\n",
        "dist_mat = np.zeros((4,4))\n",
        "dist_mat"
      ],
      "execution_count": 28,
      "outputs": [
        {
          "output_type": "execute_result",
          "data": {
            "text/plain": [
              "array([[0., 0., 0., 0.],\n",
              "       [0., 0., 0., 0.],\n",
              "       [0., 0., 0., 0.],\n",
              "       [0., 0., 0., 0.]])"
            ]
          },
          "metadata": {
            "tags": []
          },
          "execution_count": 28
        }
      ]
    },
    {
      "cell_type": "markdown",
      "metadata": {
        "id": "vw4bOIxXJp8m"
      },
      "source": [
        "ใช้คำสั่งการคำนวณใน Manhattan แล้วเก็บข้อมูลที่ได้ทั้งหมดไว้ในตัวแปร dist_math"
      ]
    },
    {
      "cell_type": "code",
      "metadata": {
        "id": "OictSc8tto-3",
        "colab": {
          "base_uri": "https://localhost:8080/"
        },
        "outputId": "b59c0d04-bbba-4626-b52c-29b8c7d81007"
      },
      "source": [
        "for i in range(4):\n",
        "  for j in range(4):\n",
        "    dist_mat[i,j] = Manhattan(np2[i,:],np2[j,:])\n",
        "dist_mat\n"
      ],
      "execution_count": 29,
      "outputs": [
        {
          "output_type": "execute_result",
          "data": {
            "text/plain": [
              "array([[0., 5., 3., 6.],\n",
              "       [5., 0., 6., 1.],\n",
              "       [3., 6., 0., 7.],\n",
              "       [6., 1., 7., 0.]])"
            ]
          },
          "metadata": {
            "tags": []
          },
          "execution_count": 29
        }
      ]
    },
    {
      "cell_type": "code",
      "metadata": {
        "id": "QRR4Wa8vtrnA",
        "colab": {
          "base_uri": "https://localhost:8080/"
        },
        "outputId": "93503a86-d193-4527-a3dd-13d056cff0a1"
      },
      "source": [
        "np2.shape\n"
      ],
      "execution_count": 30,
      "outputs": [
        {
          "output_type": "execute_result",
          "data": {
            "text/plain": [
              "(4, 2)"
            ]
          },
          "metadata": {
            "tags": []
          },
          "execution_count": 30
        }
      ]
    },
    {
      "cell_type": "markdown",
      "metadata": {
        "id": "L3FtagJUJuQC"
      },
      "source": [
        "###Distance of norminal or categorical features\n",
        "\n",
        "(extra) Phyton data structure (Dictoionary)"
      ]
    },
    {
      "cell_type": "code",
      "metadata": {
        "id": "fkQPhwhltt_G"
      },
      "source": [
        "d_A = {'a':1,2:3,3:5,'cat':6}"
      ],
      "execution_count": 31,
      "outputs": []
    },
    {
      "cell_type": "code",
      "metadata": {
        "id": "3YyrJ6rKKDkZ",
        "outputId": "e87c5f79-4f21-4293-ab4b-9a9935d67b62",
        "colab": {
          "base_uri": "https://localhost:8080/"
        }
      },
      "source": [
        "d_A"
      ],
      "execution_count": 32,
      "outputs": [
        {
          "output_type": "execute_result",
          "data": {
            "text/plain": [
              "{2: 3, 3: 5, 'a': 1, 'cat': 6}"
            ]
          },
          "metadata": {
            "tags": []
          },
          "execution_count": 32
        }
      ]
    },
    {
      "cell_type": "code",
      "metadata": {
        "id": "klayOyvsKGW3",
        "outputId": "a0caa304-82bc-4d64-aa1d-1a3e3804923f",
        "colab": {
          "base_uri": "https://localhost:8080/"
        }
      },
      "source": [
        "d_A['cat']"
      ],
      "execution_count": 33,
      "outputs": [
        {
          "output_type": "execute_result",
          "data": {
            "text/plain": [
              "6"
            ]
          },
          "metadata": {
            "tags": []
          },
          "execution_count": 33
        }
      ]
    },
    {
      "cell_type": "code",
      "metadata": {
        "id": "GHazIZ54KIDi"
      },
      "source": [
        "d_A['dog'] = [1,2,3,4,5]"
      ],
      "execution_count": 34,
      "outputs": []
    },
    {
      "cell_type": "code",
      "metadata": {
        "id": "RhlDsE6OKKM3",
        "outputId": "1f010fa9-a874-4ec5-ca5b-8c748cc6c4c3",
        "colab": {
          "base_uri": "https://localhost:8080/"
        }
      },
      "source": [
        "d_A"
      ],
      "execution_count": 35,
      "outputs": [
        {
          "output_type": "execute_result",
          "data": {
            "text/plain": [
              "{2: 3, 3: 5, 'a': 1, 'cat': 6, 'dog': [1, 2, 3, 4, 5]}"
            ]
          },
          "metadata": {
            "tags": []
          },
          "execution_count": 35
        }
      ]
    },
    {
      "cell_type": "code",
      "metadata": {
        "id": "1OAeHmYqKNDp"
      },
      "source": [
        "import pandas as pd"
      ],
      "execution_count": 36,
      "outputs": []
    },
    {
      "cell_type": "code",
      "metadata": {
        "id": "qlz14PvCKOu0",
        "outputId": "fa9db633-7fbc-45ad-af65-cf26ae6bb761",
        "colab": {
          "base_uri": "https://localhost:8080/"
        }
      },
      "source": [
        "data_dict = {'color' :['red','red','green'],\n",
        "             'status':['single','married','single']}\n",
        "data_dict"
      ],
      "execution_count": 37,
      "outputs": [
        {
          "output_type": "execute_result",
          "data": {
            "text/plain": [
              "{'color': ['red', 'red', 'green'], 'status': ['single', 'married', 'single']}"
            ]
          },
          "metadata": {
            "tags": []
          },
          "execution_count": 37
        }
      ]
    },
    {
      "cell_type": "markdown",
      "metadata": {
        "id": "ct3HRrhlKUHu"
      },
      "source": [
        "เก็บข้อมูลในตัวแปร data_pd ในรูปแบบของDataFrame"
      ]
    },
    {
      "cell_type": "code",
      "metadata": {
        "id": "b5LRF2t3KSSp",
        "outputId": "cc15c6d3-bdec-4037-d09f-0f312fbd93b2",
        "colab": {
          "base_uri": "https://localhost:8080/",
          "height": 141
        }
      },
      "source": [
        "data_pd = pd.DataFrame.from_dict(data_dict)\n",
        "data_pd"
      ],
      "execution_count": 38,
      "outputs": [
        {
          "output_type": "execute_result",
          "data": {
            "text/html": [
              "<div>\n",
              "<style scoped>\n",
              "    .dataframe tbody tr th:only-of-type {\n",
              "        vertical-align: middle;\n",
              "    }\n",
              "\n",
              "    .dataframe tbody tr th {\n",
              "        vertical-align: top;\n",
              "    }\n",
              "\n",
              "    .dataframe thead th {\n",
              "        text-align: right;\n",
              "    }\n",
              "</style>\n",
              "<table border=\"1\" class=\"dataframe\">\n",
              "  <thead>\n",
              "    <tr style=\"text-align: right;\">\n",
              "      <th></th>\n",
              "      <th>color</th>\n",
              "      <th>status</th>\n",
              "    </tr>\n",
              "  </thead>\n",
              "  <tbody>\n",
              "    <tr>\n",
              "      <th>0</th>\n",
              "      <td>red</td>\n",
              "      <td>single</td>\n",
              "    </tr>\n",
              "    <tr>\n",
              "      <th>1</th>\n",
              "      <td>red</td>\n",
              "      <td>married</td>\n",
              "    </tr>\n",
              "    <tr>\n",
              "      <th>2</th>\n",
              "      <td>green</td>\n",
              "      <td>single</td>\n",
              "    </tr>\n",
              "  </tbody>\n",
              "</table>\n",
              "</div>"
            ],
            "text/plain": [
              "   color   status\n",
              "0    red   single\n",
              "1    red  married\n",
              "2  green   single"
            ]
          },
          "metadata": {
            "tags": []
          },
          "execution_count": 38
        }
      ]
    },
    {
      "cell_type": "markdown",
      "metadata": {
        "id": "yd9qX_l6KYr7"
      },
      "source": [
        "###Categorical feature distance method#1\n"
      ]
    },
    {
      "cell_type": "markdown",
      "metadata": {
        "id": "BCBCj_YoKbDi"
      },
      "source": [
        "เก็บตัวแปรใน record ที่ 0 ในรูปแบบของlist"
      ]
    },
    {
      "cell_type": "code",
      "metadata": {
        "id": "YupYetnYKWgH",
        "outputId": "6e6fe28d-5236-4cc9-c262-5e96f9702838",
        "colab": {
          "base_uri": "https://localhost:8080/"
        }
      },
      "source": [
        "list(data_pd.iloc[0,:])"
      ],
      "execution_count": 39,
      "outputs": [
        {
          "output_type": "execute_result",
          "data": {
            "text/plain": [
              "['red', 'single']"
            ]
          },
          "metadata": {
            "tags": []
          },
          "execution_count": 39
        }
      ]
    },
    {
      "cell_type": "code",
      "metadata": {
        "id": "SJiF4J2zKc_d"
      },
      "source": [
        "def meth1_dist(data1,data2):\n",
        "    N = 0\n",
        "    print(f'data1 is {data1} and data2 is {data2}')\n",
        "    for i in range(len(data1)):\n",
        "      if data1[i] != data2[i]:\n",
        "          N = N+1\n",
        "    return N/len(data1)"
      ],
      "execution_count": 40,
      "outputs": []
    },
    {
      "cell_type": "code",
      "metadata": {
        "id": "5QpqRsssKfyB",
        "outputId": "dc731e17-a95e-429c-8fc6-11590d3fb6a6",
        "colab": {
          "base_uri": "https://localhost:8080/"
        }
      },
      "source": [
        "\n",
        "meth1_dist(list(data_pd.iloc[0,:]),list(data_pd.iloc[1,:]))"
      ],
      "execution_count": 41,
      "outputs": [
        {
          "output_type": "stream",
          "text": [
            "data1 is ['red', 'single'] and data2 is ['red', 'married']\n"
          ],
          "name": "stdout"
        },
        {
          "output_type": "execute_result",
          "data": {
            "text/plain": [
              "0.5"
            ]
          },
          "metadata": {
            "tags": []
          },
          "execution_count": 41
        }
      ]
    },
    {
      "cell_type": "markdown",
      "metadata": {
        "id": "8XHn9qwSKo6U"
      },
      "source": [
        "###HW7 Calculate distance matrix of data_pd using meth1_dist()"
      ]
    },
    {
      "cell_type": "markdown",
      "metadata": {
        "id": "2n7nYpk0KrzI"
      },
      "source": [
        "สร้างตัวแปรที่มีมิติ 3*3"
      ]
    },
    {
      "cell_type": "code",
      "metadata": {
        "id": "5ERFc_UpKlbO",
        "outputId": "fe4dfa61-b708-4377-c70f-4c6affa6a701",
        "colab": {
          "base_uri": "https://localhost:8080/"
        }
      },
      "source": [
        "dist_math2 = np.zeros((3,3))\n",
        "dist_math2"
      ],
      "execution_count": 42,
      "outputs": [
        {
          "output_type": "execute_result",
          "data": {
            "text/plain": [
              "array([[0., 0., 0.],\n",
              "       [0., 0., 0.],\n",
              "       [0., 0., 0.]])"
            ]
          },
          "metadata": {
            "tags": []
          },
          "execution_count": 42
        }
      ]
    },
    {
      "cell_type": "markdown",
      "metadata": {
        "id": "UZOTw6y1K1Yk"
      },
      "source": [
        "วนลูปคำนวนค่าโดยใช้สูตรที่กำหนดไว้ใน meth1_dist"
      ]
    },
    {
      "cell_type": "code",
      "metadata": {
        "id": "8qydi141KuJh",
        "outputId": "36975176-f34a-4bfa-ce16-21a610258e3a",
        "colab": {
          "base_uri": "https://localhost:8080/"
        }
      },
      "source": [
        "for i in range(3):\n",
        "    for j in range(3):\n",
        "        dist_math2[i,j] = meth1_dist(list(data_pd.iloc[i,:]),list(data_pd.iloc[j,:]))\n",
        "dist_math2"
      ],
      "execution_count": 43,
      "outputs": [
        {
          "output_type": "stream",
          "text": [
            "data1 is ['red', 'single'] and data2 is ['red', 'single']\n",
            "data1 is ['red', 'single'] and data2 is ['red', 'married']\n",
            "data1 is ['red', 'single'] and data2 is ['green', 'single']\n",
            "data1 is ['red', 'married'] and data2 is ['red', 'single']\n",
            "data1 is ['red', 'married'] and data2 is ['red', 'married']\n",
            "data1 is ['red', 'married'] and data2 is ['green', 'single']\n",
            "data1 is ['green', 'single'] and data2 is ['red', 'single']\n",
            "data1 is ['green', 'single'] and data2 is ['red', 'married']\n",
            "data1 is ['green', 'single'] and data2 is ['green', 'single']\n"
          ],
          "name": "stdout"
        },
        {
          "output_type": "execute_result",
          "data": {
            "text/plain": [
              "array([[0. , 0.5, 0.5],\n",
              "       [0.5, 0. , 1. ],\n",
              "       [0.5, 1. , 0. ]])"
            ]
          },
          "metadata": {
            "tags": []
          },
          "execution_count": 43
        }
      ]
    },
    {
      "cell_type": "markdown",
      "metadata": {
        "id": "a9by6LIaK44w"
      },
      "source": [
        "###Categorical feature distance method#2"
      ]
    },
    {
      "cell_type": "markdown",
      "metadata": {
        "id": "x6vNGM3DK9Xt"
      },
      "source": [
        "กำหนดให้ค่าที่อยู่ในตารางปรากฎเป็นลำดับตัวเลข"
      ]
    },
    {
      "cell_type": "code",
      "metadata": {
        "id": "F09Py_aeKyg2",
        "outputId": "e1552ff7-672c-444e-de52-4e709f8fa196",
        "colab": {
          "base_uri": "https://localhost:8080/",
          "height": 141
        }
      },
      "source": [
        "data_pd_binary = pd.get_dummies(data_pd)\n",
        "data_pd_binary"
      ],
      "execution_count": 44,
      "outputs": [
        {
          "output_type": "execute_result",
          "data": {
            "text/html": [
              "<div>\n",
              "<style scoped>\n",
              "    .dataframe tbody tr th:only-of-type {\n",
              "        vertical-align: middle;\n",
              "    }\n",
              "\n",
              "    .dataframe tbody tr th {\n",
              "        vertical-align: top;\n",
              "    }\n",
              "\n",
              "    .dataframe thead th {\n",
              "        text-align: right;\n",
              "    }\n",
              "</style>\n",
              "<table border=\"1\" class=\"dataframe\">\n",
              "  <thead>\n",
              "    <tr style=\"text-align: right;\">\n",
              "      <th></th>\n",
              "      <th>color_green</th>\n",
              "      <th>color_red</th>\n",
              "      <th>status_married</th>\n",
              "      <th>status_single</th>\n",
              "    </tr>\n",
              "  </thead>\n",
              "  <tbody>\n",
              "    <tr>\n",
              "      <th>0</th>\n",
              "      <td>0</td>\n",
              "      <td>1</td>\n",
              "      <td>0</td>\n",
              "      <td>1</td>\n",
              "    </tr>\n",
              "    <tr>\n",
              "      <th>1</th>\n",
              "      <td>0</td>\n",
              "      <td>1</td>\n",
              "      <td>1</td>\n",
              "      <td>0</td>\n",
              "    </tr>\n",
              "    <tr>\n",
              "      <th>2</th>\n",
              "      <td>1</td>\n",
              "      <td>0</td>\n",
              "      <td>0</td>\n",
              "      <td>1</td>\n",
              "    </tr>\n",
              "  </tbody>\n",
              "</table>\n",
              "</div>"
            ],
            "text/plain": [
              "   color_green  color_red  status_married  status_single\n",
              "0            0          1               0              1\n",
              "1            0          1               1              0\n",
              "2            1          0               0              1"
            ]
          },
          "metadata": {
            "tags": []
          },
          "execution_count": 44
        }
      ]
    },
    {
      "cell_type": "markdown",
      "metadata": {
        "id": "OXjGlhAhLCcS"
      },
      "source": [
        "กำหนดสูตรโดยใช้ binary_sym_dist จากนั้นวนลูปเพื่อคำนวณค่า"
      ]
    },
    {
      "cell_type": "code",
      "metadata": {
        "id": "sOhplf_ULACy"
      },
      "source": [
        "def binary_sym_dist(data1,data2):\n",
        "    q = 0\n",
        "    rs = 0\n",
        "    t = 0\n",
        "    for i in range(len(data1)):\n",
        "        if data1[i] == data2[i]:\n",
        "            if data1[i] == 1:\n",
        "               q = q + 1\n",
        "            else:\n",
        "                t = t + 1\n",
        "        if data1[i] != data2[i]:\n",
        "            rs = rs + 1    \n",
        "    return (rs)/(q+rs+t)"
      ],
      "execution_count": 45,
      "outputs": []
    },
    {
      "cell_type": "markdown",
      "metadata": {
        "id": "sLQj8CjYLGwp"
      },
      "source": [
        "แสดงค่าที่ได้จากการคำนวณ"
      ]
    },
    {
      "cell_type": "code",
      "metadata": {
        "id": "qgbOqsqzLEp2",
        "outputId": "3add9c1e-8bb7-432b-f4f0-293494bf059e",
        "colab": {
          "base_uri": "https://localhost:8080/"
        }
      },
      "source": [
        "binary_sym_dist(list(data_pd_binary.iloc[i,:]),list(data_pd_binary.iloc[j,:]))"
      ],
      "execution_count": 46,
      "outputs": [
        {
          "output_type": "execute_result",
          "data": {
            "text/plain": [
              "0.0"
            ]
          },
          "metadata": {
            "tags": []
          },
          "execution_count": 46
        }
      ]
    },
    {
      "cell_type": "markdown",
      "metadata": {
        "id": "PyY92LQFLL2o"
      },
      "source": [
        "###HW8 calculate distance matrix of data_pd_binary using binary_sym_dist()"
      ]
    },
    {
      "cell_type": "markdown",
      "metadata": {
        "id": "sz2qP6ZLLMQs"
      },
      "source": [
        "สร้างตัวแปรเก็บข้อมูลที่มีเมตริกแบบ 3*3"
      ]
    },
    {
      "cell_type": "code",
      "metadata": {
        "id": "ruYcImNQLJS_",
        "outputId": "e9029941-b6f1-435f-e1bd-6087a3cd2518",
        "colab": {
          "base_uri": "https://localhost:8080/"
        }
      },
      "source": [
        "binary_sym_dist1 = np.zeros((3,3))\n",
        "binary_sym_dist1"
      ],
      "execution_count": 47,
      "outputs": [
        {
          "output_type": "execute_result",
          "data": {
            "text/plain": [
              "array([[0., 0., 0.],\n",
              "       [0., 0., 0.],\n",
              "       [0., 0., 0.]])"
            ]
          },
          "metadata": {
            "tags": []
          },
          "execution_count": 47
        }
      ]
    },
    {
      "cell_type": "markdown",
      "metadata": {
        "id": "zsbEQUeYLV7k"
      },
      "source": [
        "วนลูปเพื่อคำนวณตาามสูตร binary_sym_dist แล้วเก็บค่าใน binary_sym_dist1"
      ]
    },
    {
      "cell_type": "code",
      "metadata": {
        "id": "UtMYHvEgLTEt",
        "outputId": "38475ac7-f84e-4f95-aa9a-ef711e45fa22",
        "colab": {
          "base_uri": "https://localhost:8080/"
        }
      },
      "source": [
        "for i in range(3):\n",
        "    for j in range(3):\n",
        "        binary_sym_dist1[i,j] = binary_sym_dist(list(data_pd_binary.iloc[i,:]),list(data_pd_binary.iloc[j,:]))\n",
        "binary_sym_dist1"
      ],
      "execution_count": 48,
      "outputs": [
        {
          "output_type": "execute_result",
          "data": {
            "text/plain": [
              "array([[0. , 0.5, 0.5],\n",
              "       [0.5, 0. , 1. ],\n",
              "       [0.5, 1. , 0. ]])"
            ]
          },
          "metadata": {
            "tags": []
          },
          "execution_count": 48
        }
      ]
    },
    {
      "cell_type": "code",
      "metadata": {
        "id": "COQeMweLLYmg"
      },
      "source": [
        ""
      ],
      "execution_count": null,
      "outputs": []
    }
  ]
}