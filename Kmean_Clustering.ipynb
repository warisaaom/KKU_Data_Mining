{
  "nbformat": 4,
  "nbformat_minor": 0,
  "metadata": {
    "colab": {
      "name": "Kmean Clustering.ipynb",
      "provenance": [],
      "include_colab_link": true
    },
    "kernelspec": {
      "name": "python3",
      "display_name": "Python 3"
    }
  },
  "cells": [
    {
      "cell_type": "markdown",
      "metadata": {
        "id": "view-in-github",
        "colab_type": "text"
      },
      "source": [
        "<a href=\"https://colab.research.google.com/github/warisaaom/KKU_Data_Mining/blob/master/Kmean_Clustering.ipynb\" target=\"_parent\"><img src=\"https://colab.research.google.com/assets/colab-badge.svg\" alt=\"Open In Colab\"/></a>"
      ]
    },
    {
      "cell_type": "markdown",
      "metadata": {
        "id": "_BwCZZ-z8_J0"
      },
      "source": [
        "##Generate Data"
      ]
    },
    {
      "cell_type": "markdown",
      "metadata": {
        "id": "WXaXpN6i-kMB"
      },
      "source": [
        "เรียกใช้คำสั่ง make_blobs เพื่อสร้างชุดข้อมูล"
      ]
    },
    {
      "cell_type": "code",
      "metadata": {
        "id": "UmVI-KC374bT"
      },
      "source": [
        "from sklearn.datasets import make_blobs"
      ],
      "execution_count": 2,
      "outputs": []
    },
    {
      "cell_type": "markdown",
      "metadata": {
        "id": "9xYUkAxx-otB"
      },
      "source": [
        "สร้างชุดข้อมูลจำนวน 300 ตัว มี3 กลุ่ม 2 มิติ"
      ]
    },
    {
      "cell_type": "code",
      "metadata": {
        "id": "nX71EjmT9JhR"
      },
      "source": [
        "X,y = make_blobs(n_samples=300, centers=3, n_features=2,random_state=6)"
      ],
      "execution_count": 3,
      "outputs": []
    },
    {
      "cell_type": "markdown",
      "metadata": {
        "id": "74pRCI7j-r8M"
      },
      "source": [
        "เรียกดูจำนวนข้อมูล"
      ]
    },
    {
      "cell_type": "code",
      "metadata": {
        "id": "yW8mL92D9cjM",
        "colab": {
          "base_uri": "https://localhost:8080/"
        },
        "outputId": "93162267-020a-405f-8428-92abb3cefdfc"
      },
      "source": [
        "X.shape"
      ],
      "execution_count": 4,
      "outputs": [
        {
          "output_type": "execute_result",
          "data": {
            "text/plain": [
              "(300, 2)"
            ]
          },
          "metadata": {
            "tags": []
          },
          "execution_count": 4
        }
      ]
    },
    {
      "cell_type": "markdown",
      "metadata": {
        "id": "DEW_fHnz-vgr"
      },
      "source": [
        "เรียกใช้คำสั่ง plot กราฟ\n",
        "จากนั้น plot กราฟออกมาดู"
      ]
    },
    {
      "cell_type": "code",
      "metadata": {
        "id": "3PN3Tagd-RxB",
        "colab": {
          "base_uri": "https://localhost:8080/",
          "height": 283
        },
        "outputId": "553d3fa5-3f65-4a80-ebdb-34cf85bc44b3"
      },
      "source": [
        "from matplotlib import pyplot as plt\n",
        "plt.scatter(X[:,0],X[:,1])"
      ],
      "execution_count": 5,
      "outputs": [
        {
          "output_type": "execute_result",
          "data": {
            "text/plain": [
              "<matplotlib.collections.PathCollection at 0x7ff3a938a6a0>"
            ]
          },
          "metadata": {
            "tags": []
          },
          "execution_count": 5
        },
        {
          "output_type": "display_data",
          "data": {
            "image/png": "[encoded data removed]",
            "text/plain": [
              "<Figure size 432x288 with 1 Axes>"
            ]
          },
          "metadata": {
            "tags": [],
            "needs_background": "light"
          }
        }
      ]
    },
    {
      "cell_type": "markdown",
      "metadata": {
        "id": "J7Dao-xK_gV2"
      },
      "source": [
        "##import"
      ]
    },
    {
      "cell_type": "markdown",
      "metadata": {
        "id": "JWoSrPWA-zsr"
      },
      "source": [
        "เรียกใช้คำสั่ง KMeans เพื่อสร้างโมเดล"
      ]
    },
    {
      "cell_type": "code",
      "metadata": {
        "id": "8qlpugvu-9iy"
      },
      "source": [
        "from sklearn.cluster import KMeans"
      ],
      "execution_count": 6,
      "outputs": []
    },
    {
      "cell_type": "markdown",
      "metadata": {
        "id": "1xnFXi9c_rw7"
      },
      "source": [
        "##Define"
      ]
    },
    {
      "cell_type": "markdown",
      "metadata": {
        "id": "fu0q-QUL-3MR"
      },
      "source": [
        "กำหนดค่าในโมเดล KMean ให้แบ่งข้อมูลออกเป็น 5 กลุ่ม"
      ]
    },
    {
      "cell_type": "code",
      "metadata": {
        "id": "B3JTtJ9t_o3T"
      },
      "source": [
        "KMclust = KMeans(n_clusters=5)"
      ],
      "execution_count": 7,
      "outputs": []
    },
    {
      "cell_type": "markdown",
      "metadata": {
        "id": "gimnRnG-_1bi"
      },
      "source": [
        "##Train"
      ]
    },
    {
      "cell_type": "markdown",
      "metadata": {
        "id": "XJO7bHU5-619"
      },
      "source": [
        "Train โมเดล"
      ]
    },
    {
      "cell_type": "code",
      "metadata": {
        "id": "lsYHF2Ph_0ND",
        "colab": {
          "base_uri": "https://localhost:8080/"
        },
        "outputId": "8f47328c-ff44-4dee-cda5-37d1c3fe91dc"
      },
      "source": [
        "KMclust.fit(X)"
      ],
      "execution_count": 8,
      "outputs": [
        {
          "output_type": "execute_result",
          "data": {
            "text/plain": [
              "KMeans(algorithm='auto', copy_x=True, init='k-means++', max_iter=300,\n",
              "       n_clusters=5, n_init=10, n_jobs=None, precompute_distances='auto',\n",
              "       random_state=None, tol=0.0001, verbose=0)"
            ]
          },
          "metadata": {
            "tags": []
          },
          "execution_count": 8
        }
      ]
    },
    {
      "cell_type": "markdown",
      "metadata": {
        "id": "cSUAHRGcAEMk"
      },
      "source": [
        "##Predict"
      ]
    },
    {
      "cell_type": "markdown",
      "metadata": {
        "id": "zWPoiLku--Wu"
      },
      "source": [
        "ทำนายการแบ่งกลุ่มและ plot กราฟ Scatter เพื่อดูการแบ่งกลุ่ม"
      ]
    },
    {
      "cell_type": "code",
      "metadata": {
        "id": "XRgsIAIqABXK"
      },
      "source": [
        "label = KMclust.predict(X)"
      ],
      "execution_count": 9,
      "outputs": []
    },
    {
      "cell_type": "code",
      "metadata": {
        "id": "9x3ccGMKAPnG",
        "colab": {
          "base_uri": "https://localhost:8080/",
          "height": 283
        },
        "outputId": "b8759700-52a8-4cf7-efcc-1a1008ff556e"
      },
      "source": [
        "plt.scatter(X[:, 0],X[:, 1], c=label)"
      ],
      "execution_count": 10,
      "outputs": [
        {
          "output_type": "execute_result",
          "data": {
            "text/plain": [
              "<matplotlib.collections.PathCollection at 0x7ff3a448b550>"
            ]
          },
          "metadata": {
            "tags": []
          },
          "execution_count": 10
        },
        {
          "output_type": "display_data",
          "data": {
            "image/png": "[encoded data removed]",
            "text/plain": [
              "<Figure size 432x288 with 1 Axes>"
            ]
          },
          "metadata": {
            "tags": [],
            "needs_background": "light"
          }
        }
      ]
    },
    {
      "cell_type": "markdown",
      "metadata": {
        "id": "mgU5af1eBnZG"
      },
      "source": [
        "##Color quantization (application of kmean)"
      ]
    },
    {
      "cell_type": "markdown",
      "metadata": {
        "id": "PWsQdSgS_CIv"
      },
      "source": [
        "เชื่อม Colab กับ drive ที่ต้องการ"
      ]
    },
    {
      "cell_type": "code",
      "metadata": {
        "id": "1Da8wRt9A4DC"
      },
      "source": [
        "from google.colab import drive\n",
        "drive.mount('/content/drive')\n",
        "path = '/content/drive/My Drive'"
      ],
      "execution_count": null,
      "outputs": []
    },
    {
      "cell_type": "code",
      "metadata": {
        "id": "HYhVY7TxDg5E"
      },
      "source": [
        "import cv2\n",
        "import os"
      ],
      "execution_count": null,
      "outputs": []
    },
    {
      "cell_type": "markdown",
      "metadata": {
        "id": "CftHMyeh_FuY"
      },
      "source": [
        "เรียกดูค่าสีในรูปที่ทำการ join เข้ามา"
      ]
    },
    {
      "cell_type": "code",
      "metadata": {
        "id": "LMS-gUJtDtYV"
      },
      "source": [
        "img = cv2.imread(os.path.join(path,'beautiful-mandrill-portrait-closeup-baboon-260nw-1242657010.webp'))"
      ],
      "execution_count": null,
      "outputs": []
    },
    {
      "cell_type": "code",
      "metadata": {
        "id": "AoMKy-vaFl8h"
      },
      "source": [
        "img"
      ],
      "execution_count": null,
      "outputs": []
    },
    {
      "cell_type": "code",
      "metadata": {
        "id": "ayzVS-TrEe3r"
      },
      "source": [
        "RGB_img = cv2.cvtColor(img, cv2.COLOR_BGR2RGB)\n",
        "plt.imshow(RGB_img)"
      ],
      "execution_count": null,
      "outputs": []
    },
    {
      "cell_type": "code",
      "metadata": {
        "id": "EuL7EZQlEy9t"
      },
      "source": [
        "RGB_img.shape"
      ],
      "execution_count": null,
      "outputs": []
    },
    {
      "cell_type": "markdown",
      "metadata": {
        "id": "OMyvPcaYHXOR"
      },
      "source": [
        "##Coun unique colors"
      ]
    },
    {
      "cell_type": "code",
      "metadata": {
        "id": "hhjQkVEIHQ3G"
      },
      "source": [
        "import numpy as np"
      ],
      "execution_count": null,
      "outputs": []
    },
    {
      "cell_type": "code",
      "metadata": {
        "id": "N-kiOWPwHhNS"
      },
      "source": [
        "np.unique(RGB_img).shape"
      ],
      "execution_count": null,
      "outputs": []
    },
    {
      "cell_type": "markdown",
      "metadata": {
        "id": "jsMypmpQK6hP"
      },
      "source": [
        "##Use K-mwan to reduce color from 256 colors to B colors"
      ]
    },
    {
      "cell_type": "markdown",
      "metadata": {
        "id": "TjQedtT5_NXP"
      },
      "source": [
        "กำหนดให้โมเดล KMean แบ่งกลุ่มออกเป็น 8 กลุ่มสี"
      ]
    },
    {
      "cell_type": "code",
      "metadata": {
        "id": "FZ4xi-KQK5-g"
      },
      "source": [
        "#Define\n",
        "myQuantize = KMeans(n_clusters=8)\n",
        "\n"
      ],
      "execution_count": null,
      "outputs": []
    },
    {
      "cell_type": "markdown",
      "metadata": {
        "id": "EYsDL4hl_SHs"
      },
      "source": [
        "เรียกดูค่าสีของภาพที่joinเข้ามา"
      ]
    },
    {
      "cell_type": "code",
      "metadata": {
        "id": "iJmzsgv0Holh"
      },
      "source": [
        "img_row = np.reshape(RGB_img,(280*320,3))\n",
        "img_row"
      ],
      "execution_count": null,
      "outputs": []
    },
    {
      "cell_type": "markdown",
      "metadata": {
        "id": "GVAVI9m5_VjA"
      },
      "source": [
        "Train โมเดล"
      ]
    },
    {
      "cell_type": "code",
      "metadata": {
        "id": "6YrRxoaRLiIu"
      },
      "source": [
        "#Train\n",
        "myQuantize.fit(img_row)"
      ],
      "execution_count": null,
      "outputs": []
    },
    {
      "cell_type": "markdown",
      "metadata": {
        "id": "ClWcP8oH_ZD9"
      },
      "source": [
        "Testการทำนายค่า"
      ]
    },
    {
      "cell_type": "code",
      "metadata": {
        "id": "imuAFfTJLlQw"
      },
      "source": [
        "#Predict\n",
        "res = myQuantize.predict(img_row)"
      ],
      "execution_count": null,
      "outputs": []
    },
    {
      "cell_type": "code",
      "metadata": {
        "id": "H05ig6RsLyKm"
      },
      "source": [
        "res"
      ],
      "execution_count": null,
      "outputs": []
    },
    {
      "cell_type": "markdown",
      "metadata": {
        "id": "y3PZb1OkM2oI"
      },
      "source": [
        "##Get cluster centers"
      ]
    },
    {
      "cell_type": "code",
      "metadata": {
        "id": "Ih-6EM0_L0EI"
      },
      "source": [
        "Clust_cen = myQuantize.cluster_centers_\n",
        "Clust_cen"
      ],
      "execution_count": null,
      "outputs": []
    },
    {
      "cell_type": "markdown",
      "metadata": {
        "id": "SCIBWgdvNKvG"
      },
      "source": [
        "##Map color name back to image"
      ]
    },
    {
      "cell_type": "markdown",
      "metadata": {
        "id": "_sWd_6PW_iti"
      },
      "source": [
        "Get cluster centers"
      ]
    },
    {
      "cell_type": "code",
      "metadata": {
        "id": "2a6LoGL4_oxY",
        "outputId": "c535d488-7506-471d-f8fe-a86aa3ef9fc0",
        "colab": {
          "base_uri": "https://localhost:8080/",
          "height": 183
        }
      },
      "source": [
        "clus_cen = myQuantize.cluster_centers_\n",
        "clus_cen"
      ],
      "execution_count": 1,
      "outputs": [
        {
          "output_type": "error",
          "ename": "NameError",
          "evalue": "ignored",
          "traceback": [
            "\u001b[0;31m---------------------------------------------------------------------------\u001b[0m",
            "\u001b[0;31mNameError\u001b[0m                                 Traceback (most recent call last)",
            "\u001b[0;32m<ipython-input-1-63d5a509bc9d>\u001b[0m in \u001b[0;36m<module>\u001b[0;34m()\u001b[0m\n\u001b[0;32m----> 1\u001b[0;31m \u001b[0mclus_cen\u001b[0m \u001b[0;34m=\u001b[0m \u001b[0mmyQuantize\u001b[0m\u001b[0;34m.\u001b[0m\u001b[0mcluster_centers_\u001b[0m\u001b[0;34m\u001b[0m\u001b[0;34m\u001b[0m\u001b[0m\n\u001b[0m\u001b[1;32m      2\u001b[0m \u001b[0mclus_cen\u001b[0m\u001b[0;34m\u001b[0m\u001b[0;34m\u001b[0m\u001b[0m\n",
            "\u001b[0;31mNameError\u001b[0m: name 'myQuantize' is not defined"
          ]
        }
      ]
    },
    {
      "cell_type": "code",
      "metadata": {
        "id": "elvaJFfFNFdB"
      },
      "source": [
        "new_img = np.zeros(RGB_img.shape)\n",
        "for i in range(RGB_img.shape[0]):\n",
        "  for j in range(RGB_img.shape[1]):\n",
        "    new_img[i,j,:] = Clus_cen[myQuantize.predict([RGB_img[i,j,:]]),:]"
      ],
      "execution_count": null,
      "outputs": []
    },
    {
      "cell_type": "markdown",
      "metadata": {
        "id": "VKl6oA0V_fOs"
      },
      "source": [
        "วนลูปเพื่อเก็บค่าสีไว้ในตัวแปร new_img แบบ Array"
      ]
    },
    {
      "cell_type": "code",
      "metadata": {
        "id": "vmuc3LIW_fir"
      },
      "source": [
        ""
      ],
      "execution_count": null,
      "outputs": []
    }
  ]
}