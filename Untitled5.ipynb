{
  "nbformat": 4,
  "nbformat_minor": 0,
  "metadata": {
    "colab": {
      "name": "Untitled5.ipynb",
      "provenance": [],
      "authorship_tag": "ABX9TyP3XyuHdZZ3hlYIj8GXlxun",
      "include_colab_link": true
    },
    "kernelspec": {
      "name": "python3",
      "display_name": "Python 3"
    }
  },
  "cells": [
    {
      "cell_type": "markdown",
      "metadata": {
        "id": "view-in-github",
        "colab_type": "text"
      },
      "source": [
        "<a href=\"https://colab.research.google.com/github/warisaaom/KKU_Data_Mining/blob/master/Untitled5.ipynb\" target=\"_parent\"><img src=\"https://colab.research.google.com/assets/colab-badge.svg\" alt=\"Open In Colab\"/></a>"
      ]
    },
    {
      "cell_type": "code",
      "metadata": {
        "id": "z14A8HOq8NuW"
      },
      "source": [
        "import pandas as pd"
      ],
      "execution_count": 8,
      "outputs": []
    },
    {
      "cell_type": "code",
      "metadata": {
        "id": "dgZHwNJn9nFC",
        "outputId": "6f5147e2-15e9-47b1-f196-45052b9ee4e8",
        "colab": {
          "base_uri": "https://localhost:8080/",
          "height": 34
        }
      },
      "source": [
        "from google.colab import drive\n",
        "drive.mount('/content/drive')"
      ],
      "execution_count": 9,
      "outputs": [
        {
          "output_type": "stream",
          "text": [
            "Drive already mounted at /content/drive; to attempt to forcibly remount, call drive.mount(\"/content/drive\", force_remount=True).\n"
          ],
          "name": "stdout"
        }
      ]
    },
    {
      "cell_type": "code",
      "metadata": {
        "id": "2tt2F2Di9q1o"
      },
      "source": [
        "path = '/content/drive/My Drive/DWDM_material'"
      ],
      "execution_count": 10,
      "outputs": []
    },
    {
      "cell_type": "markdown",
      "metadata": {
        "id": "22AThECv-xGQ"
      },
      "source": [
        "#EX ให้หาว่าแต่ละประเทศ ขายสินค้ารวมกันทั้งหมดได้ประเทศละกี่ชิ้น"
      ]
    },
    {
      "cell_type": "code",
      "metadata": {
        "id": "-Njvs_to_Vqp",
        "outputId": "7de2274b-0c2c-4d4e-ab41-6aa44955e3b6",
        "colab": {
          "base_uri": "https://localhost:8080/",
          "height": 1000
        }
      },
      "source": [
        "Sum_Quantity = data.groupby('Country').sum('Quantitty')\n",
        "Sum_Quantity.sort_values('Quantity')"
      ],
      "execution_count": 13,
      "outputs": [
        {
          "output_type": "execute_result",
          "data": {
            "text/html": [
              "<div>\n",
              "<style scoped>\n",
              "    .dataframe tbody tr th:only-of-type {\n",
              "        vertical-align: middle;\n",
              "    }\n",
              "\n",
              "    .dataframe tbody tr th {\n",
              "        vertical-align: top;\n",
              "    }\n",
              "\n",
              "    .dataframe thead th {\n",
              "        text-align: right;\n",
              "    }\n",
              "</style>\n",
              "<table border=\"1\" class=\"dataframe\">\n",
              "  <thead>\n",
              "    <tr style=\"text-align: right;\">\n",
              "      <th></th>\n",
              "      <th>Quantity</th>\n",
              "      <th>UnitPrice</th>\n",
              "      <th>CustomerID</th>\n",
              "    </tr>\n",
              "    <tr>\n",
              "      <th>Country</th>\n",
              "      <th></th>\n",
              "      <th></th>\n",
              "      <th></th>\n",
              "    </tr>\n",
              "  </thead>\n",
              "  <tbody>\n",
              "    <tr>\n",
              "      <th>Saudi Arabia</th>\n",
              "      <td>75</td>\n",
              "      <td>2.411000e+01</td>\n",
              "      <td>1.256500e+05</td>\n",
              "    </tr>\n",
              "    <tr>\n",
              "      <th>Bahrain</th>\n",
              "      <td>260</td>\n",
              "      <td>8.657000e+01</td>\n",
              "      <td>2.100270e+05</td>\n",
              "    </tr>\n",
              "    <tr>\n",
              "      <th>RSA</th>\n",
              "      <td>352</td>\n",
              "      <td>2.481000e+02</td>\n",
              "      <td>7.218680e+05</td>\n",
              "    </tr>\n",
              "    <tr>\n",
              "      <th>Brazil</th>\n",
              "      <td>356</td>\n",
              "      <td>1.426000e+02</td>\n",
              "      <td>4.086080e+05</td>\n",
              "    </tr>\n",
              "    <tr>\n",
              "      <th>Lebanon</th>\n",
              "      <td>386</td>\n",
              "      <td>2.424400e+02</td>\n",
              "      <td>5.743800e+05</td>\n",
              "    </tr>\n",
              "    <tr>\n",
              "      <th>European Community</th>\n",
              "      <td>497</td>\n",
              "      <td>2.940500e+02</td>\n",
              "      <td>9.215880e+05</td>\n",
              "    </tr>\n",
              "    <tr>\n",
              "      <th>Czech Republic</th>\n",
              "      <td>592</td>\n",
              "      <td>8.815000e+01</td>\n",
              "      <td>3.834300e+05</td>\n",
              "    </tr>\n",
              "    <tr>\n",
              "      <th>Lithuania</th>\n",
              "      <td>652</td>\n",
              "      <td>9.944000e+01</td>\n",
              "      <td>5.366200e+05</td>\n",
              "    </tr>\n",
              "    <tr>\n",
              "      <th>Malta</th>\n",
              "      <td>944</td>\n",
              "      <td>6.660100e+02</td>\n",
              "      <td>2.158496e+06</td>\n",
              "    </tr>\n",
              "    <tr>\n",
              "      <th>United Arab Emirates</th>\n",
              "      <td>982</td>\n",
              "      <td>2.298900e+02</td>\n",
              "      <td>1.018952e+06</td>\n",
              "    </tr>\n",
              "    <tr>\n",
              "      <th>USA</th>\n",
              "      <td>1034</td>\n",
              "      <td>6.449800e+02</td>\n",
              "      <td>3.672086e+06</td>\n",
              "    </tr>\n",
              "    <tr>\n",
              "      <th>Greece</th>\n",
              "      <td>1556</td>\n",
              "      <td>7.132900e+02</td>\n",
              "      <td>2.008584e+06</td>\n",
              "    </tr>\n",
              "    <tr>\n",
              "      <th>Iceland</th>\n",
              "      <td>2458</td>\n",
              "      <td>4.812100e+02</td>\n",
              "      <td>2.247154e+06</td>\n",
              "    </tr>\n",
              "    <tr>\n",
              "      <th>Canada</th>\n",
              "      <td>2763</td>\n",
              "      <td>9.105800e+02</td>\n",
              "      <td>2.615483e+06</td>\n",
              "    </tr>\n",
              "    <tr>\n",
              "      <th>Unspecified</th>\n",
              "      <td>3300</td>\n",
              "      <td>1.204010e+03</td>\n",
              "      <td>3.348046e+06</td>\n",
              "    </tr>\n",
              "    <tr>\n",
              "      <th>Poland</th>\n",
              "      <td>3653</td>\n",
              "      <td>1.422270e+03</td>\n",
              "      <td>4.341972e+06</td>\n",
              "    </tr>\n",
              "    <tr>\n",
              "      <th>Israel</th>\n",
              "      <td>4353</td>\n",
              "      <td>1.079040e+03</td>\n",
              "      <td>3.164467e+06</td>\n",
              "    </tr>\n",
              "    <tr>\n",
              "      <th>Hong Kong</th>\n",
              "      <td>4769</td>\n",
              "      <td>1.224150e+04</td>\n",
              "      <td>0.000000e+00</td>\n",
              "    </tr>\n",
              "    <tr>\n",
              "      <th>Austria</th>\n",
              "      <td>4827</td>\n",
              "      <td>1.701520e+03</td>\n",
              "      <td>5.021102e+06</td>\n",
              "    </tr>\n",
              "    <tr>\n",
              "      <th>Singapore</th>\n",
              "      <td>5234</td>\n",
              "      <td>2.510889e+04</td>\n",
              "      <td>2.918376e+06</td>\n",
              "    </tr>\n",
              "    <tr>\n",
              "      <th>Cyprus</th>\n",
              "      <td>6317</td>\n",
              "      <td>3.920070e+03</td>\n",
              "      <td>7.715880e+06</td>\n",
              "    </tr>\n",
              "    <tr>\n",
              "      <th>Italy</th>\n",
              "      <td>7999</td>\n",
              "      <td>3.879390e+03</td>\n",
              "      <td>1.015666e+07</td>\n",
              "    </tr>\n",
              "    <tr>\n",
              "      <th>Denmark</th>\n",
              "      <td>8188</td>\n",
              "      <td>1.266950e+03</td>\n",
              "      <td>4.876734e+06</td>\n",
              "    </tr>\n",
              "    <tr>\n",
              "      <th>Channel Islands</th>\n",
              "      <td>9479</td>\n",
              "      <td>3.738550e+03</td>\n",
              "      <td>1.128522e+07</td>\n",
              "    </tr>\n",
              "    <tr>\n",
              "      <th>Finland</th>\n",
              "      <td>10666</td>\n",
              "      <td>3.786850e+03</td>\n",
              "      <td>8.699324e+06</td>\n",
              "    </tr>\n",
              "    <tr>\n",
              "      <th>Portugal</th>\n",
              "      <td>16180</td>\n",
              "      <td>1.303754e+04</td>\n",
              "      <td>1.886480e+07</td>\n",
              "    </tr>\n",
              "    <tr>\n",
              "      <th>Norway</th>\n",
              "      <td>19247</td>\n",
              "      <td>6.529060e+03</td>\n",
              "      <td>1.350765e+07</td>\n",
              "    </tr>\n",
              "    <tr>\n",
              "      <th>Belgium</th>\n",
              "      <td>23152</td>\n",
              "      <td>7.540130e+03</td>\n",
              "      <td>2.571829e+07</td>\n",
              "    </tr>\n",
              "    <tr>\n",
              "      <th>Japan</th>\n",
              "      <td>25218</td>\n",
              "      <td>8.148600e+02</td>\n",
              "      <td>4.567292e+06</td>\n",
              "    </tr>\n",
              "    <tr>\n",
              "      <th>Spain</th>\n",
              "      <td>26824</td>\n",
              "      <td>1.263345e+04</td>\n",
              "      <td>3.268929e+07</td>\n",
              "    </tr>\n",
              "    <tr>\n",
              "      <th>Switzerland</th>\n",
              "      <td>30325</td>\n",
              "      <td>6.813690e+03</td>\n",
              "      <td>2.377592e+07</td>\n",
              "    </tr>\n",
              "    <tr>\n",
              "      <th>Sweden</th>\n",
              "      <td>35637</td>\n",
              "      <td>1.806830e+03</td>\n",
              "      <td>6.790083e+06</td>\n",
              "    </tr>\n",
              "    <tr>\n",
              "      <th>Australia</th>\n",
              "      <td>83653</td>\n",
              "      <td>4.054750e+03</td>\n",
              "      <td>1.569300e+07</td>\n",
              "    </tr>\n",
              "    <tr>\n",
              "      <th>France</th>\n",
              "      <td>110480</td>\n",
              "      <td>4.303199e+04</td>\n",
              "      <td>1.076489e+08</td>\n",
              "    </tr>\n",
              "    <tr>\n",
              "      <th>Germany</th>\n",
              "      <td>117448</td>\n",
              "      <td>3.766600e+04</td>\n",
              "      <td>1.200751e+08</td>\n",
              "    </tr>\n",
              "    <tr>\n",
              "      <th>EIRE</th>\n",
              "      <td>142637</td>\n",
              "      <td>4.844719e+04</td>\n",
              "      <td>1.103917e+08</td>\n",
              "    </tr>\n",
              "    <tr>\n",
              "      <th>Netherlands</th>\n",
              "      <td>200128</td>\n",
              "      <td>6.492550e+03</td>\n",
              "      <td>3.419054e+07</td>\n",
              "    </tr>\n",
              "    <tr>\n",
              "      <th>United Kingdom</th>\n",
              "      <td>4263829</td>\n",
              "      <td>2.245715e+06</td>\n",
              "      <td>5.626433e+09</td>\n",
              "    </tr>\n",
              "  </tbody>\n",
              "</table>\n",
              "</div>"
            ],
            "text/plain": [
              "                      Quantity     UnitPrice    CustomerID\n",
              "Country                                                   \n",
              "Saudi Arabia                75  2.411000e+01  1.256500e+05\n",
              "Bahrain                    260  8.657000e+01  2.100270e+05\n",
              "RSA                        352  2.481000e+02  7.218680e+05\n",
              "Brazil                     356  1.426000e+02  4.086080e+05\n",
              "Lebanon                    386  2.424400e+02  5.743800e+05\n",
              "European Community         497  2.940500e+02  9.215880e+05\n",
              "Czech Republic             592  8.815000e+01  3.834300e+05\n",
              "Lithuania                  652  9.944000e+01  5.366200e+05\n",
              "Malta                      944  6.660100e+02  2.158496e+06\n",
              "United Arab Emirates       982  2.298900e+02  1.018952e+06\n",
              "USA                       1034  6.449800e+02  3.672086e+06\n",
              "Greece                    1556  7.132900e+02  2.008584e+06\n",
              "Iceland                   2458  4.812100e+02  2.247154e+06\n",
              "Canada                    2763  9.105800e+02  2.615483e+06\n",
              "Unspecified               3300  1.204010e+03  3.348046e+06\n",
              "Poland                    3653  1.422270e+03  4.341972e+06\n",
              "Israel                    4353  1.079040e+03  3.164467e+06\n",
              "Hong Kong                 4769  1.224150e+04  0.000000e+00\n",
              "Austria                   4827  1.701520e+03  5.021102e+06\n",
              "Singapore                 5234  2.510889e+04  2.918376e+06\n",
              "Cyprus                    6317  3.920070e+03  7.715880e+06\n",
              "Italy                     7999  3.879390e+03  1.015666e+07\n",
              "Denmark                   8188  1.266950e+03  4.876734e+06\n",
              "Channel Islands           9479  3.738550e+03  1.128522e+07\n",
              "Finland                  10666  3.786850e+03  8.699324e+06\n",
              "Portugal                 16180  1.303754e+04  1.886480e+07\n",
              "Norway                   19247  6.529060e+03  1.350765e+07\n",
              "Belgium                  23152  7.540130e+03  2.571829e+07\n",
              "Japan                    25218  8.148600e+02  4.567292e+06\n",
              "Spain                    26824  1.263345e+04  3.268929e+07\n",
              "Switzerland              30325  6.813690e+03  2.377592e+07\n",
              "Sweden                   35637  1.806830e+03  6.790083e+06\n",
              "Australia                83653  4.054750e+03  1.569300e+07\n",
              "France                  110480  4.303199e+04  1.076489e+08\n",
              "Germany                 117448  3.766600e+04  1.200751e+08\n",
              "EIRE                    142637  4.844719e+04  1.103917e+08\n",
              "Netherlands             200128  6.492550e+03  3.419054e+07\n",
              "United Kingdom         4263829  2.245715e+06  5.626433e+09"
            ]
          },
          "metadata": {
            "tags": []
          },
          "execution_count": 13
        }
      ]
    },
    {
      "cell_type": "code",
      "metadata": {
        "id": "YBcqrjqLBLG7",
        "outputId": "50dfde7a-0b23-48d2-be07-66f686a7483e",
        "colab": {
          "base_uri": "https://localhost:8080/",
          "height": 238
        }
      },
      "source": [
        "transacs = data.groupby('InvoiceNo')['StockCode'].apply(list)\n",
        "transacs"
      ],
      "execution_count": 17,
      "outputs": [
        {
          "output_type": "execute_result",
          "data": {
            "text/plain": [
              "InvoiceNo\n",
              "536365     [85123A, 71053, 84406B, 84029G, 84029E, 22752,...\n",
              "536366                                        [22633, 22632]\n",
              "536367     [84879, 22745, 22748, 22749, 22310, 84969, 226...\n",
              "536368                          [22960, 22913, 22912, 22914]\n",
              "536369                                               [21756]\n",
              "                                 ...                        \n",
              "C581484                                              [23843]\n",
              "C581490                                       [22178, 23144]\n",
              "C581499                                                  [M]\n",
              "C581568                                              [21258]\n",
              "C581569                                       [84978, 20979]\n",
              "Name: StockCode, Length: 25900, dtype: object"
            ]
          },
          "metadata": {
            "tags": []
          },
          "execution_count": 17
        }
      ]
    },
    {
      "cell_type": "code",
      "metadata": {
        "id": "uwxl5CHU9xtY",
        "outputId": "be35c58c-0b64-47ea-c80d-7bb0baeacff9",
        "colab": {
          "base_uri": "https://localhost:8080/",
          "height": 419
        }
      },
      "source": [
        "import os\n",
        "data = pd.read_csv(os.path.join(path,'reduced_marketbasket.csv'),encoding='latin1')\n",
        "data"
      ],
      "execution_count": 11,
      "outputs": [
        {
          "output_type": "execute_result",
          "data": {
            "text/html": [
              "<div>\n",
              "<style scoped>\n",
              "    .dataframe tbody tr th:only-of-type {\n",
              "        vertical-align: middle;\n",
              "    }\n",
              "\n",
              "    .dataframe tbody tr th {\n",
              "        vertical-align: top;\n",
              "    }\n",
              "\n",
              "    .dataframe thead th {\n",
              "        text-align: right;\n",
              "    }\n",
              "</style>\n",
              "<table border=\"1\" class=\"dataframe\">\n",
              "  <thead>\n",
              "    <tr style=\"text-align: right;\">\n",
              "      <th></th>\n",
              "      <th>InvoiceNo</th>\n",
              "      <th>StockCode</th>\n",
              "      <th>Description</th>\n",
              "      <th>Quantity</th>\n",
              "      <th>InvoiceDate</th>\n",
              "      <th>UnitPrice</th>\n",
              "      <th>CustomerID</th>\n",
              "      <th>Country</th>\n",
              "    </tr>\n",
              "  </thead>\n",
              "  <tbody>\n",
              "    <tr>\n",
              "      <th>0</th>\n",
              "      <td>536365</td>\n",
              "      <td>85123A</td>\n",
              "      <td>WHITE HANGING HEART T-LIGHT HOLDER</td>\n",
              "      <td>6</td>\n",
              "      <td>12/01/2010 08:26</td>\n",
              "      <td>2.55</td>\n",
              "      <td>17850.0</td>\n",
              "      <td>United Kingdom</td>\n",
              "    </tr>\n",
              "    <tr>\n",
              "      <th>1</th>\n",
              "      <td>536365</td>\n",
              "      <td>71053</td>\n",
              "      <td>WHITE METAL LANTERN</td>\n",
              "      <td>6</td>\n",
              "      <td>12/01/2010 08:26</td>\n",
              "      <td>3.39</td>\n",
              "      <td>17850.0</td>\n",
              "      <td>United Kingdom</td>\n",
              "    </tr>\n",
              "    <tr>\n",
              "      <th>2</th>\n",
              "      <td>536365</td>\n",
              "      <td>84406B</td>\n",
              "      <td>CREAM CUPID HEARTS COAT HANGER</td>\n",
              "      <td>8</td>\n",
              "      <td>12/01/2010 08:26</td>\n",
              "      <td>2.75</td>\n",
              "      <td>17850.0</td>\n",
              "      <td>United Kingdom</td>\n",
              "    </tr>\n",
              "    <tr>\n",
              "      <th>3</th>\n",
              "      <td>536365</td>\n",
              "      <td>84029G</td>\n",
              "      <td>KNITTED UNION FLAG HOT WATER BOTTLE</td>\n",
              "      <td>6</td>\n",
              "      <td>12/01/2010 08:26</td>\n",
              "      <td>3.39</td>\n",
              "      <td>17850.0</td>\n",
              "      <td>United Kingdom</td>\n",
              "    </tr>\n",
              "    <tr>\n",
              "      <th>4</th>\n",
              "      <td>536365</td>\n",
              "      <td>84029E</td>\n",
              "      <td>RED WOOLLY HOTTIE WHITE HEART.</td>\n",
              "      <td>6</td>\n",
              "      <td>12/01/2010 08:26</td>\n",
              "      <td>3.39</td>\n",
              "      <td>17850.0</td>\n",
              "      <td>United Kingdom</td>\n",
              "    </tr>\n",
              "    <tr>\n",
              "      <th>...</th>\n",
              "      <td>...</td>\n",
              "      <td>...</td>\n",
              "      <td>...</td>\n",
              "      <td>...</td>\n",
              "      <td>...</td>\n",
              "      <td>...</td>\n",
              "      <td>...</td>\n",
              "      <td>...</td>\n",
              "    </tr>\n",
              "    <tr>\n",
              "      <th>541904</th>\n",
              "      <td>581587</td>\n",
              "      <td>22613</td>\n",
              "      <td>PACK OF 20 SPACEBOY NAPKINS</td>\n",
              "      <td>12</td>\n",
              "      <td>12/09/2011 12:50</td>\n",
              "      <td>0.85</td>\n",
              "      <td>12680.0</td>\n",
              "      <td>France</td>\n",
              "    </tr>\n",
              "    <tr>\n",
              "      <th>541905</th>\n",
              "      <td>581587</td>\n",
              "      <td>22899</td>\n",
              "      <td>CHILDREN'S APRON DOLLY GIRL</td>\n",
              "      <td>6</td>\n",
              "      <td>12/09/2011 12:50</td>\n",
              "      <td>2.10</td>\n",
              "      <td>12680.0</td>\n",
              "      <td>France</td>\n",
              "    </tr>\n",
              "    <tr>\n",
              "      <th>541906</th>\n",
              "      <td>581587</td>\n",
              "      <td>23254</td>\n",
              "      <td>CHILDRENS CUTLERY DOLLY GIRL</td>\n",
              "      <td>4</td>\n",
              "      <td>12/09/2011 12:50</td>\n",
              "      <td>4.15</td>\n",
              "      <td>12680.0</td>\n",
              "      <td>France</td>\n",
              "    </tr>\n",
              "    <tr>\n",
              "      <th>541907</th>\n",
              "      <td>581587</td>\n",
              "      <td>23255</td>\n",
              "      <td>CHILDRENS CUTLERY CIRCUS PARADE</td>\n",
              "      <td>4</td>\n",
              "      <td>12/09/2011 12:50</td>\n",
              "      <td>4.15</td>\n",
              "      <td>12680.0</td>\n",
              "      <td>France</td>\n",
              "    </tr>\n",
              "    <tr>\n",
              "      <th>541908</th>\n",
              "      <td>581587</td>\n",
              "      <td>22138</td>\n",
              "      <td>BAKING SET 9 PIECE RETROSPOT</td>\n",
              "      <td>3</td>\n",
              "      <td>12/09/2011 12:50</td>\n",
              "      <td>4.95</td>\n",
              "      <td>12680.0</td>\n",
              "      <td>France</td>\n",
              "    </tr>\n",
              "  </tbody>\n",
              "</table>\n",
              "<p>541909 rows × 8 columns</p>\n",
              "</div>"
            ],
            "text/plain": [
              "       InvoiceNo StockCode  ... CustomerID         Country\n",
              "0         536365    85123A  ...    17850.0  United Kingdom\n",
              "1         536365     71053  ...    17850.0  United Kingdom\n",
              "2         536365    84406B  ...    17850.0  United Kingdom\n",
              "3         536365    84029G  ...    17850.0  United Kingdom\n",
              "4         536365    84029E  ...    17850.0  United Kingdom\n",
              "...          ...       ...  ...        ...             ...\n",
              "541904    581587     22613  ...    12680.0          France\n",
              "541905    581587     22899  ...    12680.0          France\n",
              "541906    581587     23254  ...    12680.0          France\n",
              "541907    581587     23255  ...    12680.0          France\n",
              "541908    581587     22138  ...    12680.0          France\n",
              "\n",
              "[541909 rows x 8 columns]"
            ]
          },
          "metadata": {
            "tags": []
          },
          "execution_count": 11
        }
      ]
    },
    {
      "cell_type": "markdown",
      "metadata": {
        "id": "xXYDgJXfDJcJ"
      },
      "source": [
        "#Apriori"
      ]
    },
    {
      "cell_type": "code",
      "metadata": {
        "id": "xDWKFnu692IH",
        "outputId": "eb3438dc-002b-4219-cfd5-8c7f7eb17f46",
        "colab": {
          "base_uri": "https://localhost:8080/",
          "height": 34
        }
      },
      "source": [
        "!pip install apyori\n"
      ],
      "execution_count": 22,
      "outputs": [
        {
          "output_type": "stream",
          "text": [
            "Requirement already satisfied: apyori in /usr/local/lib/python3.6/dist-packages (1.1.2)\n"
          ],
          "name": "stdout"
        }
      ]
    },
    {
      "cell_type": "code",
      "metadata": {
        "id": "95z-hkmsDeCt"
      },
      "source": [
        "from apyori import apriori"
      ],
      "execution_count": 21,
      "outputs": []
    },
    {
      "cell_type": "code",
      "metadata": {
        "id": "2UYfCS7zDtHH",
        "outputId": "5cbdf6a3-8060-40c1-d574-6246e38795d2",
        "colab": {
          "base_uri": "https://localhost:8080/",
          "height": 71
        }
      },
      "source": [
        "list(apriori(transacs, min_support = 0.03, min_confidence = 0.1))"
      ],
      "execution_count": 24,
      "outputs": [
        {
          "output_type": "execute_result",
          "data": {
            "text/plain": [
              "[RelationRecord(items=frozenset({'85099B', '22386'}), support=0.03216216216216216, ordered_statistics=[OrderedStatistic(items_base=frozenset({'22386'}), items_add=frozenset({'85099B'}), confidence=0.6766856214459789, lift=8.20897311262335), OrderedStatistic(items_base=frozenset({'85099B'}), items_add=frozenset({'22386'}), confidence=0.39016393442622943, lift=8.20897311262335)]),\n",
              " RelationRecord(items=frozenset({'22697', '22699'}), support=0.03027027027027027, ordered_statistics=[OrderedStatistic(items_base=frozenset({'22697'}), items_add=frozenset({'22699'}), confidence=0.7417218543046358, lift=17.1523178807947), OrderedStatistic(items_base=frozenset({'22699'}), items_add=frozenset({'22697'}), confidence=0.7, lift=17.1523178807947)])]"
            ]
          },
          "metadata": {
            "tags": []
          },
          "execution_count": 24
        }
      ]
    },
    {
      "cell_type": "markdown",
      "metadata": {
        "id": "bz9r404kKM2a"
      },
      "source": [
        "## Quiz หา k-itemset ที่มีความน่าสนใจ(โดยพิจารณาลูกค้าเป็นรายคน)พร้อมทั้งอธิบายว่าน่าสนใจยังไง"
      ]
    },
    {
      "cell_type": "markdown",
      "metadata": {
        "id": "igPN56ILN1bY"
      },
      "source": [
        "แนวข้อสอบ เปรียบเทียบ รูปแบบที่น่าสนใจของสองประเทศ"
      ]
    },
    {
      "cell_type": "code",
      "metadata": {
        "id": "0i3pa8vrEJrW",
        "outputId": "33db6677-3e6f-4d5c-f1c4-01aff4d4ae62",
        "colab": {
          "base_uri": "https://localhost:8080/",
          "height": 238
        }
      },
      "source": [
        "Deja = data.groupby('CustomerID')['StockCode'].apply(list)\n",
        "Deja"
      ],
      "execution_count": 25,
      "outputs": [
        {
          "output_type": "execute_result",
          "data": {
            "text/plain": [
              "CustomerID\n",
              "12346.0                                       [23166, 23166]\n",
              "12347.0    [85116, 22375, 71477, 22492, 22771, 22772, 227...\n",
              "12348.0    [84992, 22951, 84991, 84991, 21213, 21213, 226...\n",
              "12349.0    [23112, 23460, 21564, 21411, 21563, 22131, 221...\n",
              "12350.0    [21908, 22412, 79066K, 79191C, 22348, 84086C, ...\n",
              "                                 ...                        \n",
              "18280.0    [82484, 22180, 22467, 22725, 22727, 22495, 223...\n",
              "18281.0    [22037, 22716, 22028, 23007, 23008, 23209, 22467]\n",
              "18282.0    [21270, 23187, 23295, 22089, 21108, 21109, 224...\n",
              "18283.0    [22356, 20726, 22384, 22386, 20717, 20718, 850...\n",
              "18287.0    [22755, 22754, 22753, 22756, 22758, 22757, 227...\n",
              "Name: StockCode, Length: 4372, dtype: object"
            ]
          },
          "metadata": {
            "tags": []
          },
          "execution_count": 25
        }
      ]
    },
    {
      "cell_type": "code",
      "metadata": {
        "id": "hVH31hOvMLE1",
        "outputId": "0c8f75f4-9f23-4af9-e066-3be792b2b6fd",
        "colab": {
          "base_uri": "https://localhost:8080/",
          "height": 1000
        }
      },
      "source": [
        "list(apriori(Deja, min_support = 0.07, min_confidenc = 0.1))"
      ],
      "execution_count": 26,
      "outputs": [
        {
          "output_type": "execute_result",
          "data": {
            "text/plain": [
              "[RelationRecord(items=frozenset({'20685'}), support=0.0752516010978957, ordered_statistics=[OrderedStatistic(items_base=frozenset(), items_add=frozenset({'20685'}), confidence=0.0752516010978957, lift=1.0)]),\n",
              " RelationRecord(items=frozenset({'20724'}), support=0.07662397072278133, ordered_statistics=[OrderedStatistic(items_base=frozenset(), items_add=frozenset({'20724'}), confidence=0.07662397072278133, lift=1.0)]),\n",
              " RelationRecord(items=frozenset({'20725'}), support=0.12168344007319305, ordered_statistics=[OrderedStatistic(items_base=frozenset(), items_add=frozenset({'20725'}), confidence=0.12168344007319305, lift=1.0)]),\n",
              " RelationRecord(items=frozenset({'20726'}), support=0.0853156450137237, ordered_statistics=[OrderedStatistic(items_base=frozenset(), items_add=frozenset({'20726'}), confidence=0.0853156450137237, lift=1.0)]),\n",
              " RelationRecord(items=frozenset({'20727'}), support=0.10475754803293687, ordered_statistics=[OrderedStatistic(items_base=frozenset(), items_add=frozenset({'20727'}), confidence=0.10475754803293687, lift=1.0)]),\n",
              " RelationRecord(items=frozenset({'20728'}), support=0.11001829826166515, ordered_statistics=[OrderedStatistic(items_base=frozenset(), items_add=frozenset({'20728'}), confidence=0.11001829826166515, lift=1.0)]),\n",
              " RelationRecord(items=frozenset({'20914'}), support=0.08234217749313816, ordered_statistics=[OrderedStatistic(items_base=frozenset(), items_add=frozenset({'20914'}), confidence=0.08234217749313816, lift=1.0)]),\n",
              " RelationRecord(items=frozenset({'20972'}), support=0.07136322049405307, ordered_statistics=[OrderedStatistic(items_base=frozenset(), items_add=frozenset({'20972'}), confidence=0.07136322049405307, lift=1.0)]),\n",
              " RelationRecord(items=frozenset({'21034'}), support=0.10978956999085086, ordered_statistics=[OrderedStatistic(items_base=frozenset(), items_add=frozenset({'21034'}), confidence=0.10978956999085086, lift=1.0)]),\n",
              " RelationRecord(items=frozenset({'21080'}), support=0.09766697163769442, ordered_statistics=[OrderedStatistic(items_base=frozenset(), items_add=frozenset({'21080'}), confidence=0.09766697163769442, lift=1.0)]),\n",
              " RelationRecord(items=frozenset({'21175'}), support=0.07845379688929552, ordered_statistics=[OrderedStatistic(items_base=frozenset(), items_add=frozenset({'21175'}), confidence=0.07845379688929552, lift=1.0)]),\n",
              " RelationRecord(items=frozenset({'21181'}), support=0.08257090576395243, ordered_statistics=[OrderedStatistic(items_base=frozenset(), items_add=frozenset({'21181'}), confidence=0.08257090576395243, lift=1.0)]),\n",
              " RelationRecord(items=frozenset({'21212'}), support=0.1454711802378774, ordered_statistics=[OrderedStatistic(items_base=frozenset(), items_add=frozenset({'21212'}), confidence=0.1454711802378774, lift=1.0)]),\n",
              " RelationRecord(items=frozenset({'21232'}), support=0.07182067703568161, ordered_statistics=[OrderedStatistic(items_base=frozenset(), items_add=frozenset({'21232'}), confidence=0.07182067703568161, lift=1.0)]),\n",
              " RelationRecord(items=frozenset({'21485'}), support=0.08508691674290943, ordered_statistics=[OrderedStatistic(items_base=frozenset(), items_add=frozenset({'21485'}), confidence=0.08508691674290943, lift=1.0)]),\n",
              " RelationRecord(items=frozenset({'21733'}), support=0.08806038426349497, ordered_statistics=[OrderedStatistic(items_base=frozenset(), items_add=frozenset({'21733'}), confidence=0.08806038426349497, lift=1.0)]),\n",
              " RelationRecord(items=frozenset({'21754'}), support=0.08234217749313816, ordered_statistics=[OrderedStatistic(items_base=frozenset(), items_add=frozenset({'21754'}), confidence=0.08234217749313816, lift=1.0)]),\n",
              " RelationRecord(items=frozenset({'21755'}), support=0.07708142726440988, ordered_statistics=[OrderedStatistic(items_base=frozenset(), items_add=frozenset({'21755'}), confidence=0.07708142726440988, lift=1.0)]),\n",
              " RelationRecord(items=frozenset({'21790'}), support=0.10269899359560841, ordered_statistics=[OrderedStatistic(items_base=frozenset(), items_add=frozenset({'21790'}), confidence=0.10269899359560841, lift=1.0)]),\n",
              " RelationRecord(items=frozenset({'21791'}), support=0.07822506861848125, ordered_statistics=[OrderedStatistic(items_base=frozenset(), items_add=frozenset({'21791'}), confidence=0.07822506861848125, lift=1.0)]),\n",
              " RelationRecord(items=frozenset({'21889'}), support=0.0768526989935956, ordered_statistics=[OrderedStatistic(items_base=frozenset(), items_add=frozenset({'21889'}), confidence=0.0768526989935956, lift=1.0)]),\n",
              " RelationRecord(items=frozenset({'21914'}), support=0.0702195791399817, ordered_statistics=[OrderedStatistic(items_base=frozenset(), items_add=frozenset({'21914'}), confidence=0.0702195791399817, lift=1.0)]),\n",
              " RelationRecord(items=frozenset({'21915'}), support=0.08005489478499543, ordered_statistics=[OrderedStatistic(items_base=frozenset(), items_add=frozenset({'21915'}), confidence=0.08005489478499543, lift=1.0)]),\n",
              " RelationRecord(items=frozenset({'21929'}), support=0.07044830741079597, ordered_statistics=[OrderedStatistic(items_base=frozenset(), items_add=frozenset({'21929'}), confidence=0.07044830741079597, lift=1.0)]),\n",
              " RelationRecord(items=frozenset({'21931'}), support=0.07639524245196706, ordered_statistics=[OrderedStatistic(items_base=frozenset(), items_add=frozenset({'21931'}), confidence=0.07639524245196706, lift=1.0)]),\n",
              " RelationRecord(items=frozenset({'21977'}), support=0.09400731930466606, ordered_statistics=[OrderedStatistic(items_base=frozenset(), items_add=frozenset({'21977'}), confidence=0.09400731930466606, lift=1.0)]),\n",
              " RelationRecord(items=frozenset({'22077'}), support=0.0944647758462946, ordered_statistics=[OrderedStatistic(items_base=frozenset(), items_add=frozenset({'22077'}), confidence=0.0944647758462946, lift=1.0)]),\n",
              " RelationRecord(items=frozenset({'22086'}), support=0.14066788655077767, ordered_statistics=[OrderedStatistic(items_base=frozenset(), items_add=frozenset({'22086'}), confidence=0.14066788655077767, lift=1.0)]),\n",
              " RelationRecord(items=frozenset({'22090'}), support=0.07433668801463861, ordered_statistics=[OrderedStatistic(items_base=frozenset(), items_add=frozenset({'22090'}), confidence=0.07433668801463861, lift=1.0)]),\n",
              " RelationRecord(items=frozenset({'22111'}), support=0.09766697163769442, ordered_statistics=[OrderedStatistic(items_base=frozenset(), items_add=frozenset({'22111'}), confidence=0.09766697163769442, lift=1.0)]),\n",
              " RelationRecord(items=frozenset({'22112'}), support=0.08760292772186642, ordered_statistics=[OrderedStatistic(items_base=frozenset(), items_add=frozenset({'22112'}), confidence=0.08760292772186642, lift=1.0)]),\n",
              " RelationRecord(items=frozenset({'22113'}), support=0.07753888380603842, ordered_statistics=[OrderedStatistic(items_base=frozenset(), items_add=frozenset({'22113'}), confidence=0.07753888380603842, lift=1.0)]),\n",
              " RelationRecord(items=frozenset({'22114'}), support=0.07433668801463861, ordered_statistics=[OrderedStatistic(items_base=frozenset(), items_add=frozenset({'22114'}), confidence=0.07433668801463861, lift=1.0)]),\n",
              " RelationRecord(items=frozenset({'22138'}), support=0.1338060384263495, ordered_statistics=[OrderedStatistic(items_base=frozenset(), items_add=frozenset({'22138'}), confidence=0.1338060384263495, lift=1.0)]),\n",
              " RelationRecord(items=frozenset({'22139'}), support=0.11184812442817932, ordered_statistics=[OrderedStatistic(items_base=frozenset(), items_add=frozenset({'22139'}), confidence=0.11184812442817932, lift=1.0)]),\n",
              " RelationRecord(items=frozenset({'22144'}), support=0.07296431838975298, ordered_statistics=[OrderedStatistic(items_base=frozenset(), items_add=frozenset({'22144'}), confidence=0.07296431838975298, lift=1.0)]),\n",
              " RelationRecord(items=frozenset({'22149'}), support=0.07708142726440988, ordered_statistics=[OrderedStatistic(items_base=frozenset(), items_add=frozenset({'22149'}), confidence=0.07708142726440988, lift=1.0)]),\n",
              " RelationRecord(items=frozenset({'22178'}), support=0.09217749313815188, ordered_statistics=[OrderedStatistic(items_base=frozenset(), items_add=frozenset({'22178'}), confidence=0.09217749313815188, lift=1.0)]),\n",
              " RelationRecord(items=frozenset({'22197'}), support=0.09309240622140896, ordered_statistics=[OrderedStatistic(items_base=frozenset(), items_add=frozenset({'22197'}), confidence=0.09309240622140896, lift=1.0)]),\n",
              " RelationRecord(items=frozenset({'22382'}), support=0.11230558096980787, ordered_statistics=[OrderedStatistic(items_base=frozenset(), items_add=frozenset({'22382'}), confidence=0.11230558096980787, lift=1.0)]),\n",
              " RelationRecord(items=frozenset({'22383'}), support=0.0994967978042086, ordered_statistics=[OrderedStatistic(items_base=frozenset(), items_add=frozenset({'22383'}), confidence=0.0994967978042086, lift=1.0)]),\n",
              " RelationRecord(items=frozenset({'22384'}), support=0.10178408051235133, ordered_statistics=[OrderedStatistic(items_base=frozenset(), items_add=frozenset({'22384'}), confidence=0.10178408051235133, lift=1.0)]),\n",
              " RelationRecord(items=frozenset({'22386'}), support=0.08508691674290943, ordered_statistics=[OrderedStatistic(items_base=frozenset(), items_add=frozenset({'22386'}), confidence=0.08508691674290943, lift=1.0)]),\n",
              " RelationRecord(items=frozenset({'22411'}), support=0.08577310155535224, ordered_statistics=[OrderedStatistic(items_base=frozenset(), items_add=frozenset({'22411'}), confidence=0.08577310155535224, lift=1.0)]),\n",
              " RelationRecord(items=frozenset({'22423'}), support=0.20288197621225984, ordered_statistics=[OrderedStatistic(items_base=frozenset(), items_add=frozenset({'22423'}), confidence=0.20288197621225984, lift=1.0)]),\n",
              " RelationRecord(items=frozenset({'22427'}), support=0.0711344922232388, ordered_statistics=[OrderedStatistic(items_base=frozenset(), items_add=frozenset({'22427'}), confidence=0.0711344922232388, lift=1.0)]),\n",
              " RelationRecord(items=frozenset({'22457'}), support=0.13494967978042086, ordered_statistics=[OrderedStatistic(items_base=frozenset(), items_add=frozenset({'22457'}), confidence=0.13494967978042086, lift=1.0)]),\n",
              " RelationRecord(items=frozenset({'22469'}), support=0.13106129917657822, ordered_statistics=[OrderedStatistic(items_base=frozenset(), items_add=frozenset({'22469'}), confidence=0.13106129917657822, lift=1.0)]),\n",
              " RelationRecord(items=frozenset({'22470'}), support=0.11139066788655078, ordered_statistics=[OrderedStatistic(items_base=frozenset(), items_add=frozenset({'22470'}), confidence=0.11139066788655078, lift=1.0)]),\n",
              " RelationRecord(items=frozenset({'22551'}), support=0.07753888380603842, ordered_statistics=[OrderedStatistic(items_base=frozenset(), items_add=frozenset({'22551'}), confidence=0.07753888380603842, lift=1.0)]),\n",
              " RelationRecord(items=frozenset({'22554'}), support=0.08051235132662397, ordered_statistics=[OrderedStatistic(items_base=frozenset(), items_add=frozenset({'22554'}), confidence=0.08051235132662397, lift=1.0)]),\n",
              " RelationRecord(items=frozenset({'22557'}), support=0.07227813357731015, ordered_statistics=[OrderedStatistic(items_base=frozenset(), items_add=frozenset({'22557'}), confidence=0.07227813357731015, lift=1.0)]),\n",
              " RelationRecord(items=frozenset({'22558'}), support=0.08325709057639524, ordered_statistics=[OrderedStatistic(items_base=frozenset(), items_add=frozenset({'22558'}), confidence=0.08325709057639524, lift=1.0)]),\n",
              " RelationRecord(items=frozenset({'22577'}), support=0.07868252516010979, ordered_statistics=[OrderedStatistic(items_base=frozenset(), items_add=frozenset({'22577'}), confidence=0.07868252516010979, lift=1.0)]),\n",
              " RelationRecord(items=frozenset({'22578'}), support=0.07639524245196706, ordered_statistics=[OrderedStatistic(items_base=frozenset(), items_add=frozenset({'22578'}), confidence=0.07639524245196706, lift=1.0)]),\n",
              " RelationRecord(items=frozenset({'22621'}), support=0.08371454711802379, ordered_statistics=[OrderedStatistic(items_base=frozenset(), items_add=frozenset({'22621'}), confidence=0.08371454711802379, lift=1.0)]),\n",
              " RelationRecord(items=frozenset({'22624'}), support=0.08600182982616651, ordered_statistics=[OrderedStatistic(items_base=frozenset(), items_add=frozenset({'22624'}), confidence=0.08600182982616651, lift=1.0)]),\n",
              " RelationRecord(items=frozenset({'22629'}), support=0.0736505032021958, ordered_statistics=[OrderedStatistic(items_base=frozenset(), items_add=frozenset({'22629'}), confidence=0.0736505032021958, lift=1.0)]),\n",
              " RelationRecord(items=frozenset({'22662'}), support=0.07136322049405307, ordered_statistics=[OrderedStatistic(items_base=frozenset(), items_add=frozenset({'22662'}), confidence=0.07136322049405307, lift=1.0)]),\n",
              " RelationRecord(items=frozenset({'22666'}), support=0.10818847209515096, ordered_statistics=[OrderedStatistic(items_base=frozenset(), items_add=frozenset({'22666'}), confidence=0.10818847209515096, lift=1.0)]),\n",
              " RelationRecord(items=frozenset({'22697'}), support=0.08920402561756634, ordered_statistics=[OrderedStatistic(items_base=frozenset(), items_add=frozenset({'22697'}), confidence=0.08920402561756634, lift=1.0)]),\n",
              " RelationRecord(items=frozenset({'22698'}), support=0.07342177493138152, ordered_statistics=[OrderedStatistic(items_base=frozenset(), items_add=frozenset({'22698'}), confidence=0.07342177493138152, lift=1.0)]),\n",
              " RelationRecord(items=frozenset({'22699'}), support=0.09766697163769442, ordered_statistics=[OrderedStatistic(items_base=frozenset(), items_add=frozenset({'22699'}), confidence=0.09766697163769442, lift=1.0)]),\n",
              " RelationRecord(items=frozenset({'22720'}), support=0.1463860933211345, ordered_statistics=[OrderedStatistic(items_base=frozenset(), items_add=frozenset({'22720'}), confidence=0.1463860933211345, lift=1.0)]),\n",
              " RelationRecord(items=frozenset({'22722'}), support=0.08989021043000915, ordered_statistics=[OrderedStatistic(items_base=frozenset(), items_add=frozenset({'22722'}), confidence=0.08989021043000915, lift=1.0)]),\n",
              " RelationRecord(items=frozenset({'22726'}), support=0.07387923147301007, ordered_statistics=[OrderedStatistic(items_base=frozenset(), items_add=frozenset({'22726'}), confidence=0.07387923147301007, lift=1.0)]),\n",
              " RelationRecord(items=frozenset({'22727'}), support=0.08943275388838061, ordered_statistics=[OrderedStatistic(items_base=frozenset(), items_add=frozenset({'22727'}), confidence=0.08943275388838061, lift=1.0)]),\n",
              " RelationRecord(items=frozenset({'22776'}), support=0.07616651418115279, ordered_statistics=[OrderedStatistic(items_base=frozenset(), items_add=frozenset({'22776'}), confidence=0.07616651418115279, lift=1.0)]),\n",
              " RelationRecord(items=frozenset({'22835'}), support=0.07250686184812442, ordered_statistics=[OrderedStatistic(items_base=frozenset(), items_add=frozenset({'22835'}), confidence=0.07250686184812442, lift=1.0)]),\n",
              " RelationRecord(items=frozenset({'22865'}), support=0.08577310155535224, ordered_statistics=[OrderedStatistic(items_base=frozenset(), items_add=frozenset({'22865'}), confidence=0.08577310155535224, lift=1.0)]),\n",
              " RelationRecord(items=frozenset({'22866'}), support=0.07548032936870998, ordered_statistics=[OrderedStatistic(items_base=frozenset(), items_add=frozenset({'22866'}), confidence=0.07548032936870998, lift=1.0)]),\n",
              " RelationRecord(items=frozenset({'22867'}), support=0.07616651418115279, ordered_statistics=[OrderedStatistic(items_base=frozenset(), items_add=frozenset({'22867'}), confidence=0.07616651418115279, lift=1.0)]),\n",
              " RelationRecord(items=frozenset({'22907'}), support=0.08165599268069533, ordered_statistics=[OrderedStatistic(items_base=frozenset(), items_add=frozenset({'22907'}), confidence=0.08165599268069533, lift=1.0)]),\n",
              " RelationRecord(items=frozenset({'22909'}), support=0.08417200365965233, ordered_statistics=[OrderedStatistic(items_base=frozenset(), items_add=frozenset({'22909'}), confidence=0.08417200365965233, lift=1.0)]),\n",
              " RelationRecord(items=frozenset({'22910'}), support=0.10750228728270814, ordered_statistics=[OrderedStatistic(items_base=frozenset(), items_add=frozenset({'22910'}), confidence=0.10750228728270814, lift=1.0)]),\n",
              " RelationRecord(items=frozenset({'22952'}), support=0.07845379688929552, ordered_statistics=[OrderedStatistic(items_base=frozenset(), items_add=frozenset({'22952'}), confidence=0.07845379688929552, lift=1.0)]),\n",
              " RelationRecord(items=frozenset({'22960'}), support=0.1312900274473925, ordered_statistics=[OrderedStatistic(items_base=frozenset(), items_add=frozenset({'22960'}), confidence=0.1312900274473925, lift=1.0)]),\n",
              " RelationRecord(items=frozenset({'22961'}), support=0.12305580969807868, ordered_statistics=[OrderedStatistic(items_base=frozenset(), items_add=frozenset({'22961'}), confidence=0.12305580969807868, lift=1.0)]),\n",
              " RelationRecord(items=frozenset({'22966'}), support=0.08874656907593778, ordered_statistics=[OrderedStatistic(items_base=frozenset(), items_add=frozenset({'22966'}), confidence=0.08874656907593778, lift=1.0)]),\n",
              " RelationRecord(items=frozenset({'22969'}), support=0.09812442817932296, ordered_statistics=[OrderedStatistic(items_base=frozenset(), items_add=frozenset({'22969'}), confidence=0.09812442817932296, lift=1.0)]),\n",
              " RelationRecord(items=frozenset({'22993'}), support=0.09858188472095152, ordered_statistics=[OrderedStatistic(items_base=frozenset(), items_add=frozenset({'22993'}), confidence=0.09858188472095152, lift=1.0)]),\n",
              " RelationRecord(items=frozenset({'23084'}), support=0.10292772186642268, ordered_statistics=[OrderedStatistic(items_base=frozenset(), items_add=frozenset({'23084'}), confidence=0.10292772186642268, lift=1.0)]),\n",
              " RelationRecord(items=frozenset({'23199'}), support=0.07868252516010979, ordered_statistics=[OrderedStatistic(items_base=frozenset(), items_add=frozenset({'23199'}), confidence=0.07868252516010979, lift=1.0)]),\n",
              " RelationRecord(items=frozenset({'23201'}), support=0.09057639524245197, ordered_statistics=[OrderedStatistic(items_base=frozenset(), items_add=frozenset({'23201'}), confidence=0.09057639524245197, lift=1.0)]),\n",
              " RelationRecord(items=frozenset({'23202'}), support=0.08623055809698078, ordered_statistics=[OrderedStatistic(items_base=frozenset(), items_add=frozenset({'23202'}), confidence=0.08623055809698078, lift=1.0)]),\n",
              " RelationRecord(items=frozenset({'23203'}), support=0.11550777676120769, ordered_statistics=[OrderedStatistic(items_base=frozenset(), items_add=frozenset({'23203'}), confidence=0.11550777676120769, lift=1.0)]),\n",
              " RelationRecord(items=frozenset({'23206'}), support=0.09172003659652334, ordered_statistics=[OrderedStatistic(items_base=frozenset(), items_add=frozenset({'23206'}), confidence=0.09172003659652334, lift=1.0)]),\n",
              " RelationRecord(items=frozenset({'23207'}), support=0.08623055809698078, ordered_statistics=[OrderedStatistic(items_base=frozenset(), items_add=frozenset({'23207'}), confidence=0.08623055809698078, lift=1.0)]),\n",
              " RelationRecord(items=frozenset({'23209'}), support=0.10727355901189387, ordered_statistics=[OrderedStatistic(items_base=frozenset(), items_add=frozenset({'23209'}), confidence=0.10727355901189387, lift=1.0)]),\n",
              " RelationRecord(items=frozenset({'23240'}), support=0.07387923147301007, ordered_statistics=[OrderedStatistic(items_base=frozenset(), items_add=frozenset({'23240'}), confidence=0.07387923147301007, lift=1.0)]),\n",
              " RelationRecord(items=frozenset({'23245'}), support=0.10795974382433669, ordered_statistics=[OrderedStatistic(items_base=frozenset(), items_add=frozenset({'23245'}), confidence=0.10795974382433669, lift=1.0)]),\n",
              " RelationRecord(items=frozenset({'23284'}), support=0.08645928636779505, ordered_statistics=[OrderedStatistic(items_base=frozenset(), items_add=frozenset({'23284'}), confidence=0.08645928636779505, lift=1.0)]),\n",
              " RelationRecord(items=frozenset({'23293'}), support=0.07387923147301007, ordered_statistics=[OrderedStatistic(items_base=frozenset(), items_add=frozenset({'23293'}), confidence=0.07387923147301007, lift=1.0)]),\n",
              " RelationRecord(items=frozenset({'23298'}), support=0.13106129917657822, ordered_statistics=[OrderedStatistic(items_base=frozenset(), items_add=frozenset({'23298'}), confidence=0.13106129917657822, lift=1.0)]),\n",
              " RelationRecord(items=frozenset({'23300'}), support=0.0802836230558097, ordered_statistics=[OrderedStatistic(items_base=frozenset(), items_add=frozenset({'23300'}), confidence=0.0802836230558097, lift=1.0)]),\n",
              " RelationRecord(items=frozenset({'23301'}), support=0.09263494967978042, ordered_statistics=[OrderedStatistic(items_base=frozenset(), items_add=frozenset({'23301'}), confidence=0.09263494967978042, lift=1.0)]),\n",
              " RelationRecord(items=frozenset({'23307'}), support=0.08371454711802379, ordered_statistics=[OrderedStatistic(items_base=frozenset(), items_add=frozenset({'23307'}), confidence=0.08371454711802379, lift=1.0)]),\n",
              " RelationRecord(items=frozenset({'23321'}), support=0.08645928636779505, ordered_statistics=[OrderedStatistic(items_base=frozenset(), items_add=frozenset({'23321'}), confidence=0.08645928636779505, lift=1.0)]),\n",
              " RelationRecord(items=frozenset({'23322'}), support=0.08005489478499543, ordered_statistics=[OrderedStatistic(items_base=frozenset(), items_add=frozenset({'23322'}), confidence=0.08005489478499543, lift=1.0)]),\n",
              " RelationRecord(items=frozenset({'23344'}), support=0.08943275388838061, ordered_statistics=[OrderedStatistic(items_base=frozenset(), items_add=frozenset({'23344'}), confidence=0.08943275388838061, lift=1.0)]),\n",
              " RelationRecord(items=frozenset({'23355'}), support=0.10841720036596524, ordered_statistics=[OrderedStatistic(items_base=frozenset(), items_add=frozenset({'23355'}), confidence=0.10841720036596524, lift=1.0)]),\n",
              " RelationRecord(items=frozenset({'23356'}), support=0.07227813357731015, ordered_statistics=[OrderedStatistic(items_base=frozenset(), items_add=frozenset({'23356'}), confidence=0.07227813357731015, lift=1.0)]),\n",
              " RelationRecord(items=frozenset({'47566'}), support=0.16193961573650503, ordered_statistics=[OrderedStatistic(items_base=frozenset(), items_add=frozenset({'47566'}), confidence=0.16193961573650503, lift=1.0)]),\n",
              " RelationRecord(items=frozenset({'48138'}), support=0.07182067703568161, ordered_statistics=[OrderedStatistic(items_base=frozenset(), items_add=frozenset({'48138'}), confidence=0.07182067703568161, lift=1.0)]),\n",
              " RelationRecord(items=frozenset({'48187'}), support=0.07204940530649588, ordered_statistics=[OrderedStatistic(items_base=frozenset(), items_add=frozenset({'48187'}), confidence=0.07204940530649588, lift=1.0)]),\n",
              " RelationRecord(items=frozenset({'82482'}), support=0.09400731930466606, ordered_statistics=[OrderedStatistic(items_base=frozenset(), items_add=frozenset({'82482'}), confidence=0.09400731930466606, lift=1.0)]),\n",
              " RelationRecord(items=frozenset({'82494L'}), support=0.08966148215919488, ordered_statistics=[OrderedStatistic(items_base=frozenset(), items_add=frozenset({'82494L'}), confidence=0.08966148215919488, lift=1.0)]),\n",
              " RelationRecord(items=frozenset({'84077'}), support=0.0702195791399817, ordered_statistics=[OrderedStatistic(items_base=frozenset(), items_add=frozenset({'84077'}), confidence=0.0702195791399817, lift=1.0)]),\n",
              " RelationRecord(items=frozenset({'84378'}), support=0.08600182982616651, ordered_statistics=[OrderedStatistic(items_base=frozenset(), items_add=frozenset({'84378'}), confidence=0.08600182982616651, lift=1.0)]),\n",
              " RelationRecord(items=frozenset({'84380'}), support=0.07433668801463861, ordered_statistics=[OrderedStatistic(items_base=frozenset(), items_add=frozenset({'84380'}), confidence=0.07433668801463861, lift=1.0)]),\n",
              " RelationRecord(items=frozenset({'84755'}), support=0.0727355901189387, ordered_statistics=[OrderedStatistic(items_base=frozenset(), items_add=frozenset({'84755'}), confidence=0.0727355901189387, lift=1.0)]),\n",
              " RelationRecord(items=frozenset({'84836'}), support=0.0711344922232388, ordered_statistics=[OrderedStatistic(items_base=frozenset(), items_add=frozenset({'84836'}), confidence=0.0711344922232388, lift=1.0)]),\n",
              " RelationRecord(items=frozenset({'84879'}), support=0.15530649588289114, ordered_statistics=[OrderedStatistic(items_base=frozenset(), items_add=frozenset({'84879'}), confidence=0.15530649588289114, lift=1.0)]),\n",
              " RelationRecord(items=frozenset({'84946'}), support=0.09537968892955169, ordered_statistics=[OrderedStatistic(items_base=frozenset(), items_add=frozenset({'84946'}), confidence=0.09537968892955169, lift=1.0)]),\n",
              " RelationRecord(items=frozenset({'84991'}), support=0.09492223238792315, ordered_statistics=[OrderedStatistic(items_base=frozenset(), items_add=frozenset({'84991'}), confidence=0.09492223238792315, lift=1.0)]),\n",
              " RelationRecord(items=frozenset({'84992'}), support=0.07433668801463861, ordered_statistics=[OrderedStatistic(items_base=frozenset(), items_add=frozenset({'84992'}), confidence=0.07433668801463861, lift=1.0)]),\n",
              " RelationRecord(items=frozenset({'85099B'}), support=0.1454711802378774, ordered_statistics=[OrderedStatistic(items_base=frozenset(), items_add=frozenset({'85099B'}), confidence=0.1454711802378774, lift=1.0)]),\n",
              " RelationRecord(items=frozenset({'85099F'}), support=0.07250686184812442, ordered_statistics=[OrderedStatistic(items_base=frozenset(), items_add=frozenset({'85099F'}), confidence=0.07250686184812442, lift=1.0)]),\n",
              " RelationRecord(items=frozenset({'85123A'}), support=0.19624885635864592, ordered_statistics=[OrderedStatistic(items_base=frozenset(), items_add=frozenset({'85123A'}), confidence=0.19624885635864592, lift=1.0)]),\n",
              " RelationRecord(items=frozenset({'POST'}), support=0.08668801463860933, ordered_statistics=[OrderedStatistic(items_base=frozenset(), items_add=frozenset({'POST'}), confidence=0.08668801463860933, lift=1.0)]),\n",
              " RelationRecord(items=frozenset({'20728', '20725'}), support=0.07044830741079597, ordered_statistics=[OrderedStatistic(items_base=frozenset(), items_add=frozenset({'20728', '20725'}), confidence=0.07044830741079597, lift=1.0), OrderedStatistic(items_base=frozenset({'20725'}), items_add=frozenset({'20728'}), confidence=0.5789473684210525, lift=5.262282525440419), OrderedStatistic(items_base=frozenset({'20728'}), items_add=frozenset({'20725'}), confidence=0.6403326403326403, lift=5.262282525440419)]),\n",
              " RelationRecord(items=frozenset({'85123A', '21733'}), support=0.07136322049405307, ordered_statistics=[OrderedStatistic(items_base=frozenset(), items_add=frozenset({'85123A', '21733'}), confidence=0.07136322049405307, lift=1.0), OrderedStatistic(items_base=frozenset({'21733'}), items_add=frozenset({'85123A'}), confidence=0.8103896103896104, lift=4.129397874852421), OrderedStatistic(items_base=frozenset({'85123A'}), items_add=frozenset({'21733'}), confidence=0.36363636363636365, lift=4.129397874852421)]),\n",
              " RelationRecord(items=frozenset({'22910', '22086'}), support=0.07479414455626715, ordered_statistics=[OrderedStatistic(items_base=frozenset(), items_add=frozenset({'22910', '22086'}), confidence=0.07479414455626715, lift=1.0), OrderedStatistic(items_base=frozenset({'22086'}), items_add=frozenset({'22910'}), confidence=0.5317073170731708, lift=4.946009340944474), OrderedStatistic(items_base=frozenset({'22910'}), items_add=frozenset({'22086'}), confidence=0.6957446808510638, lift=4.946009340944474)]),\n",
              " RelationRecord(items=frozenset({'22699', '22423'}), support=0.07410795974382434, ordered_statistics=[OrderedStatistic(items_base=frozenset(), items_add=frozenset({'22699', '22423'}), confidence=0.07410795974382434, lift=1.0), OrderedStatistic(items_base=frozenset({'22423'}), items_add=frozenset({'22699'}), confidence=0.36527621195039456, lift=3.7400177954265224), OrderedStatistic(items_base=frozenset({'22699'}), items_add=frozenset({'22423'}), confidence=0.7587822014051523, lift=3.740017795426523)]),\n",
              " RelationRecord(items=frozenset({'22470', '22469'}), support=0.07067703568161025, ordered_statistics=[OrderedStatistic(items_base=frozenset(), items_add=frozenset({'22470', '22469'}), confidence=0.07067703568161025, lift=1.0), OrderedStatistic(items_base=frozenset({'22469'}), items_add=frozenset({'22470'}), confidence=0.5392670157068064, lift=4.8412225722179825), OrderedStatistic(items_base=frozenset({'22470'}), items_add=frozenset({'22469'}), confidence=0.6344969199178645, lift=4.8412225722179825)]),\n",
              " RelationRecord(items=frozenset({'22697', '22699'}), support=0.07410795974382434, ordered_statistics=[OrderedStatistic(items_base=frozenset(), items_add=frozenset({'22697', '22699'}), confidence=0.07410795974382434, lift=1.0), OrderedStatistic(items_base=frozenset({'22697'}), items_add=frozenset({'22699'}), confidence=0.8307692307692307, lift=8.506143037290578), OrderedStatistic(items_base=frozenset({'22699'}), items_add=frozenset({'22697'}), confidence=0.7587822014051523, lift=8.506143037290578)]),\n",
              " RelationRecord(items=frozenset({'85099B', '23203'}), support=0.07044830741079597, ordered_statistics=[OrderedStatistic(items_base=frozenset(), items_add=frozenset({'85099B', '23203'}), confidence=0.07044830741079597, lift=1.0), OrderedStatistic(items_base=frozenset({'23203'}), items_add=frozenset({'85099B'}), confidence=0.6099009900990099, lift=4.192589825020238), OrderedStatistic(items_base=frozenset({'85099B'}), items_add=frozenset({'23203'}), confidence=0.48427672955974843, lift=4.192589825020238)])]"
            ]
          },
          "metadata": {
            "tags": []
          },
          "execution_count": 26
        }
      ]
    },
    {
      "cell_type": "markdown",
      "metadata": {
        "id": "CxGEZMlYOAI1"
      },
      "source": [
        "### k- = itemset ({'22697', '22699'}) น่าสนใจ จากการดูค่า confidence จะเห็นได้ว่า ลูกค้าจะซื้อ สินค้ารหัส 22697 ก่อนค่อยซื้อสินค้ารหัส 22699 ถึง 83% \n",
        "###เเละ ซื้อ สินค้ารหัส 22699 ก่อนสินค้ารหัส 22697 เเค่ 75%\n",
        "### ดังนั้น หากอยากจัดโปรโมชั่นควร จับคู่สินค้านี้"
      ]
    },
    {
      "cell_type": "code",
      "metadata": {
        "id": "5KqW4YkaMPB5"
      },
      "source": [
        ""
      ],
      "execution_count": null,
      "outputs": []
    }
  ]
}