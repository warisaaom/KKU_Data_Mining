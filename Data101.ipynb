{
  "nbformat": 4,
  "nbformat_minor": 0,
  "metadata": {
    "colab": {
      "name": "Data101.ipynb",
      "provenance": [],
      "include_colab_link": true
    },
    "kernelspec": {
      "name": "python3",
      "display_name": "Python 3"
    }
  },
  "cells": [
    {
      "cell_type": "markdown",
      "metadata": {
        "id": "view-in-github",
        "colab_type": "text"
      },
      "source": [
        "<a href=\"https://colab.research.google.com/github/warisaaom/KKU_Data_Mining/blob/master/Data101.ipynb\" target=\"_parent\"><img src=\"https://colab.research.google.com/assets/colab-badge.svg\" alt=\"Open In Colab\"/></a>"
      ]
    },
    {
      "cell_type": "markdown",
      "metadata": {
        "id": "GHwfPPKhckNG"
      },
      "source": [
        "ตัวอย่างการเลือกใช้ package ที่ชื่อว่า pandas"
      ]
    },
    {
      "cell_type": "code",
      "metadata": {
        "id": "yep66CQxW35Y"
      },
      "source": [
        "import pandas"
      ],
      "execution_count": null,
      "outputs": []
    },
    {
      "cell_type": "markdown",
      "metadata": {
        "id": "vx3JWhlGcvOF"
      },
      "source": [
        "ตัวอย่างการเลือกใช้ package โดยทำให้สั้นลงโดยใช้ pd"
      ]
    },
    {
      "cell_type": "code",
      "metadata": {
        "id": "STPQ1suVYuDx"
      },
      "source": [
        "import pandas as pd"
      ],
      "execution_count": null,
      "outputs": []
    },
    {
      "cell_type": "markdown",
      "metadata": {
        "id": "M5qsu-qzc6q2"
      },
      "source": [
        "ตัวอย่างการเรียกใช้ drive โดยเลือก drive ที่เราจะเชื่อมต่อ แล้วก็อปปี้ password มาใส่เพื่อทำการเชื่อมต่อกับ driver"
      ]
    },
    {
      "cell_type": "code",
      "metadata": {
        "id": "Pw9b2d0-Y7ME",
        "colab": {
          "base_uri": "https://localhost:8080/",
          "height": 122
        },
        "outputId": "57b8d31b-7c8f-4971-c481-3cfee66f4382"
      },
      "source": [
        "from google.colab import drive\n",
        "drive.mount('/content/drive')"
      ],
      "execution_count": null,
      "outputs": [
        {
          "output_type": "stream",
          "text": [
            "Go to this URL in a browser: https://accounts.google.com/o/oauth2/auth?client_id=947318989803-6bn6qk8qdgf4n4g3pfee6491hc0brc4i.apps.googleusercontent.com&redirect_uri=urn%3aietf%3awg%3aoauth%3a2.0%3aoob&response_type=code&scope=email%20https%3a%2f%2fwww.googleapis.com%2fauth%2fdocs.test%20https%3a%2f%2fwww.googleapis.com%2fauth%2fdrive%20https%3a%2f%2fwww.googleapis.com%2fauth%2fdrive.photos.readonly%20https%3a%2f%2fwww.googleapis.com%2fauth%2fpeopleapi.readonly\n",
            "\n",
            "Enter your authorization code:\n",
            "··········\n",
            "Mounted at /content/drive\n"
          ],
          "name": "stdout"
        }
      ]
    },
    {
      "cell_type": "markdown",
      "metadata": {
        "id": "YQ4jTX0-CbhC"
      },
      "source": [
        "ตัวอย่างการเรียกใช้ package os"
      ]
    },
    {
      "cell_type": "code",
      "metadata": {
        "id": "sLNDnR_cZkoD"
      },
      "source": [
        "import os"
      ],
      "execution_count": null,
      "outputs": []
    },
    {
      "cell_type": "markdown",
      "metadata": {
        "id": "yPO2fvnrCeqC"
      },
      "source": [
        "การตั้งตัวแปรเพื่อนเรียกใช้ข้อมูลในโฟลเดอร์จาก driveที่เชื่อมต่อ โดยตัวแปรชื่อ path"
      ]
    },
    {
      "cell_type": "code",
      "metadata": {
        "id": "Hciq6kNrfP-9"
      },
      "source": [
        "path = ('/content/drive/My Drive/DWDM_material')"
      ],
      "execution_count": null,
      "outputs": []
    },
    {
      "cell_type": "markdown",
      "metadata": {
        "id": "gkOUwLFRChgV"
      },
      "source": [
        "การแสดงข้อมูลในโฟลเดอร์จาก drive ที่เลือก"
      ]
    },
    {
      "cell_type": "code",
      "metadata": {
        "id": "suGZv3w7dfxW",
        "colab": {
          "base_uri": "https://localhost:8080/",
          "height": 34
        },
        "outputId": "ff19a7d3-a480-4128-ff5c-021125cb6408"
      },
      "source": [
        "os.listdir(path)"
      ],
      "execution_count": null,
      "outputs": [
        {
          "output_type": "execute_result",
          "data": {
            "text/plain": [
              "['test.csv']"
            ]
          },
          "metadata": {
            "tags": []
          },
          "execution_count": 5
        }
      ]
    },
    {
      "cell_type": "markdown",
      "metadata": {
        "id": "MUQXXM7MClI0"
      },
      "source": [
        "ตัวอย่างการเรียกใช้ package ที่ชื่อว่า pandas แต่เปลี่ยนชื่อเป็น pd"
      ]
    },
    {
      "cell_type": "code",
      "metadata": {
        "id": "ZNnqT3sEd1QK"
      },
      "source": [
        "import pandas as pd"
      ],
      "execution_count": null,
      "outputs": []
    },
    {
      "cell_type": "markdown",
      "metadata": {
        "id": "JVJTTzYTCokn"
      },
      "source": [
        "การสร้างตัวแปรไฟลล์งานเพื่อที่จะนำมาใช้ และแสดงที่มาของไฟล์ โดยตัวแปรชื่อ file_path"
      ]
    },
    {
      "cell_type": "code",
      "metadata": {
        "id": "32izAu0khIBN",
        "colab": {
          "base_uri": "https://localhost:8080/",
          "height": 34
        },
        "outputId": "e0271e10-fc44-40ed-d5de-c6df2f50d2e5"
      },
      "source": [
        "file_path = os.path.join(path,'test.csv')\n",
        "print(file_path)"
      ],
      "execution_count": null,
      "outputs": [
        {
          "output_type": "stream",
          "text": [
            "/content/drive/My Drive/DWDM_material/test.csv\n"
          ],
          "name": "stdout"
        }
      ]
    },
    {
      "cell_type": "markdown",
      "metadata": {
        "id": "4PlBfeF6CrSQ"
      },
      "source": [
        "การแสดงข้อมูลจากในไฟล์งานcsv"
      ]
    },
    {
      "cell_type": "code",
      "metadata": {
        "id": "sYhnjBezgZbI",
        "colab": {
          "base_uri": "https://localhost:8080/",
          "height": 204
        },
        "outputId": "45efb401-8425-4dce-a78f-cc39304a1cd4"
      },
      "source": [
        "pd.read_csv(file_path).head()"
      ],
      "execution_count": null,
      "outputs": [
        {
          "output_type": "execute_result",
          "data": {
            "text/html": [
              "<div>\n",
              "<style scoped>\n",
              "    .dataframe tbody tr th:only-of-type {\n",
              "        vertical-align: middle;\n",
              "    }\n",
              "\n",
              "    .dataframe tbody tr th {\n",
              "        vertical-align: top;\n",
              "    }\n",
              "\n",
              "    .dataframe thead th {\n",
              "        text-align: right;\n",
              "    }\n",
              "</style>\n",
              "<table border=\"1\" class=\"dataframe\">\n",
              "  <thead>\n",
              "    <tr style=\"text-align: right;\">\n",
              "      <th></th>\n",
              "      <th>Unnamed: 0</th>\n",
              "      <th>x</th>\n",
              "      <th>y</th>\n",
              "    </tr>\n",
              "  </thead>\n",
              "  <tbody>\n",
              "    <tr>\n",
              "      <th>0</th>\n",
              "      <td>0</td>\n",
              "      <td>55.3846</td>\n",
              "      <td>97.1795</td>\n",
              "    </tr>\n",
              "    <tr>\n",
              "      <th>1</th>\n",
              "      <td>1</td>\n",
              "      <td>51.5385</td>\n",
              "      <td>96.0256</td>\n",
              "    </tr>\n",
              "    <tr>\n",
              "      <th>2</th>\n",
              "      <td>2</td>\n",
              "      <td>46.1538</td>\n",
              "      <td>94.4872</td>\n",
              "    </tr>\n",
              "    <tr>\n",
              "      <th>3</th>\n",
              "      <td>3</td>\n",
              "      <td>42.8205</td>\n",
              "      <td>91.4103</td>\n",
              "    </tr>\n",
              "    <tr>\n",
              "      <th>4</th>\n",
              "      <td>4</td>\n",
              "      <td>40.7692</td>\n",
              "      <td>88.3333</td>\n",
              "    </tr>\n",
              "  </tbody>\n",
              "</table>\n",
              "</div>"
            ],
            "text/plain": [
              "   Unnamed: 0        x        y\n",
              "0           0  55.3846  97.1795\n",
              "1           1  51.5385  96.0256\n",
              "2           2  46.1538  94.4872\n",
              "3           3  42.8205  91.4103\n",
              "4           4  40.7692  88.3333"
            ]
          },
          "metadata": {
            "tags": []
          },
          "execution_count": 13
        }
      ]
    },
    {
      "cell_type": "markdown",
      "metadata": {
        "id": "0GEa5W1gkwSP"
      },
      "source": [
        "การสร้างตัวแปรแทนโค้ดตารางเพื่อเรียกใช้งาน โดยตัวแปรชื่อ table"
      ]
    },
    {
      "cell_type": "code",
      "metadata": {
        "id": "ppVxAWt8lW-F"
      },
      "source": [
        "table = pd.read_csv(file_path)"
      ],
      "execution_count": null,
      "outputs": []
    },
    {
      "cell_type": "markdown",
      "metadata": {
        "id": "dbgCn_e7CyZS"
      },
      "source": [
        "การแสดงตาราง"
      ]
    },
    {
      "cell_type": "code",
      "metadata": {
        "id": "x4zBJs4ppT1N",
        "colab": {
          "base_uri": "https://localhost:8080/",
          "height": 419
        },
        "outputId": "040f51cb-01b5-447f-af93-8767ca9bc6f8"
      },
      "source": [
        "table"
      ],
      "execution_count": null,
      "outputs": [
        {
          "output_type": "execute_result",
          "data": {
            "text/html": [
              "<div>\n",
              "<style scoped>\n",
              "    .dataframe tbody tr th:only-of-type {\n",
              "        vertical-align: middle;\n",
              "    }\n",
              "\n",
              "    .dataframe tbody tr th {\n",
              "        vertical-align: top;\n",
              "    }\n",
              "\n",
              "    .dataframe thead th {\n",
              "        text-align: right;\n",
              "    }\n",
              "</style>\n",
              "<table border=\"1\" class=\"dataframe\">\n",
              "  <thead>\n",
              "    <tr style=\"text-align: right;\">\n",
              "      <th></th>\n",
              "      <th>Unnamed: 0</th>\n",
              "      <th>x</th>\n",
              "      <th>y</th>\n",
              "    </tr>\n",
              "  </thead>\n",
              "  <tbody>\n",
              "    <tr>\n",
              "      <th>0</th>\n",
              "      <td>0</td>\n",
              "      <td>55.3846</td>\n",
              "      <td>97.1795</td>\n",
              "    </tr>\n",
              "    <tr>\n",
              "      <th>1</th>\n",
              "      <td>1</td>\n",
              "      <td>51.5385</td>\n",
              "      <td>96.0256</td>\n",
              "    </tr>\n",
              "    <tr>\n",
              "      <th>2</th>\n",
              "      <td>2</td>\n",
              "      <td>46.1538</td>\n",
              "      <td>94.4872</td>\n",
              "    </tr>\n",
              "    <tr>\n",
              "      <th>3</th>\n",
              "      <td>3</td>\n",
              "      <td>42.8205</td>\n",
              "      <td>91.4103</td>\n",
              "    </tr>\n",
              "    <tr>\n",
              "      <th>4</th>\n",
              "      <td>4</td>\n",
              "      <td>40.7692</td>\n",
              "      <td>88.3333</td>\n",
              "    </tr>\n",
              "    <tr>\n",
              "      <th>...</th>\n",
              "      <td>...</td>\n",
              "      <td>...</td>\n",
              "      <td>...</td>\n",
              "    </tr>\n",
              "    <tr>\n",
              "      <th>137</th>\n",
              "      <td>137</td>\n",
              "      <td>39.4872</td>\n",
              "      <td>25.3846</td>\n",
              "    </tr>\n",
              "    <tr>\n",
              "      <th>138</th>\n",
              "      <td>138</td>\n",
              "      <td>91.2821</td>\n",
              "      <td>41.5385</td>\n",
              "    </tr>\n",
              "    <tr>\n",
              "      <th>139</th>\n",
              "      <td>139</td>\n",
              "      <td>50.0000</td>\n",
              "      <td>95.7692</td>\n",
              "    </tr>\n",
              "    <tr>\n",
              "      <th>140</th>\n",
              "      <td>140</td>\n",
              "      <td>47.9487</td>\n",
              "      <td>95.0000</td>\n",
              "    </tr>\n",
              "    <tr>\n",
              "      <th>141</th>\n",
              "      <td>141</td>\n",
              "      <td>44.1026</td>\n",
              "      <td>92.6923</td>\n",
              "    </tr>\n",
              "  </tbody>\n",
              "</table>\n",
              "<p>142 rows × 3 columns</p>\n",
              "</div>"
            ],
            "text/plain": [
              "     Unnamed: 0        x        y\n",
              "0             0  55.3846  97.1795\n",
              "1             1  51.5385  96.0256\n",
              "2             2  46.1538  94.4872\n",
              "3             3  42.8205  91.4103\n",
              "4             4  40.7692  88.3333\n",
              "..          ...      ...      ...\n",
              "137         137  39.4872  25.3846\n",
              "138         138  91.2821  41.5385\n",
              "139         139  50.0000  95.7692\n",
              "140         140  47.9487  95.0000\n",
              "141         141  44.1026  92.6923\n",
              "\n",
              "[142 rows x 3 columns]"
            ]
          },
          "metadata": {
            "tags": []
          },
          "execution_count": 14
        }
      ]
    },
    {
      "cell_type": "markdown",
      "metadata": {
        "id": "6KunvnC_C3_f"
      },
      "source": [
        "เป็นคำสั่งแสดงข้อมูล5ตัวแรก"
      ]
    },
    {
      "cell_type": "code",
      "metadata": {
        "id": "BJkac3ispZDU",
        "colab": {
          "base_uri": "https://localhost:8080/",
          "height": 204
        },
        "outputId": "908c1e21-3355-4403-9838-e45ffc169ca0"
      },
      "source": [
        "table.head()"
      ],
      "execution_count": null,
      "outputs": [
        {
          "output_type": "execute_result",
          "data": {
            "text/html": [
              "<div>\n",
              "<style scoped>\n",
              "    .dataframe tbody tr th:only-of-type {\n",
              "        vertical-align: middle;\n",
              "    }\n",
              "\n",
              "    .dataframe tbody tr th {\n",
              "        vertical-align: top;\n",
              "    }\n",
              "\n",
              "    .dataframe thead th {\n",
              "        text-align: right;\n",
              "    }\n",
              "</style>\n",
              "<table border=\"1\" class=\"dataframe\">\n",
              "  <thead>\n",
              "    <tr style=\"text-align: right;\">\n",
              "      <th></th>\n",
              "      <th>Unnamed: 0</th>\n",
              "      <th>x</th>\n",
              "      <th>y</th>\n",
              "    </tr>\n",
              "  </thead>\n",
              "  <tbody>\n",
              "    <tr>\n",
              "      <th>0</th>\n",
              "      <td>0</td>\n",
              "      <td>55.3846</td>\n",
              "      <td>97.1795</td>\n",
              "    </tr>\n",
              "    <tr>\n",
              "      <th>1</th>\n",
              "      <td>1</td>\n",
              "      <td>51.5385</td>\n",
              "      <td>96.0256</td>\n",
              "    </tr>\n",
              "    <tr>\n",
              "      <th>2</th>\n",
              "      <td>2</td>\n",
              "      <td>46.1538</td>\n",
              "      <td>94.4872</td>\n",
              "    </tr>\n",
              "    <tr>\n",
              "      <th>3</th>\n",
              "      <td>3</td>\n",
              "      <td>42.8205</td>\n",
              "      <td>91.4103</td>\n",
              "    </tr>\n",
              "    <tr>\n",
              "      <th>4</th>\n",
              "      <td>4</td>\n",
              "      <td>40.7692</td>\n",
              "      <td>88.3333</td>\n",
              "    </tr>\n",
              "  </tbody>\n",
              "</table>\n",
              "</div>"
            ],
            "text/plain": [
              "   Unnamed: 0        x        y\n",
              "0           0  55.3846  97.1795\n",
              "1           1  51.5385  96.0256\n",
              "2           2  46.1538  94.4872\n",
              "3           3  42.8205  91.4103\n",
              "4           4  40.7692  88.3333"
            ]
          },
          "metadata": {
            "tags": []
          },
          "execution_count": 15
        }
      ]
    },
    {
      "cell_type": "markdown",
      "metadata": {
        "id": "pRJoXu2rC6ou"
      },
      "source": [
        "คำสั่งเรียกใช้ package pyplot โดยเปลี่ยนชื่อเป็น plt"
      ]
    },
    {
      "cell_type": "code",
      "metadata": {
        "id": "G-zqKNZUhyRx"
      },
      "source": [
        "from matplotlib import pyplot as plt"
      ],
      "execution_count": null,
      "outputs": []
    },
    {
      "cell_type": "code",
      "metadata": {
        "id": "j6vPkawqkvXy",
        "colab": {
          "base_uri": "https://localhost:8080/",
          "height": 282
        },
        "outputId": "5572ab35-6c14-4938-d456-8e1b43572a5d"
      },
      "source": [
        "plt.scatter(table['x'],table['y'])"
      ],
      "execution_count": null,
      "outputs": [
        {
          "output_type": "execute_result",
          "data": {
            "text/plain": [
              "<matplotlib.collections.PathCollection at 0x7f3134c4df28>"
            ]
          },
          "metadata": {
            "tags": []
          },
          "execution_count": 12
        },
        {
          "output_type": "display_data",
          "data": {
            "image/png": "[encoded data removed]",
            "text/plain": [
              "<Figure size 432x288 with 1 Axes>"
            ]
          },
          "metadata": {
            "tags": [],
            "needs_background": "light"
          }
        }
      ]
    },
    {
      "cell_type": "markdown",
      "metadata": {
        "id": "fEJiQTkADA1p"
      },
      "source": [
        "###Centrality"
      ]
    },
    {
      "cell_type": "markdown",
      "metadata": {
        "id": "m3U8VI7vDPjE"
      },
      "source": [
        "เรียกดูข้อมูลในตัวแปร table1"
      ]
    },
    {
      "cell_type": "code",
      "metadata": {
        "id": "AYyWRgwNob8L",
        "colab": {
          "base_uri": "https://localhost:8080/",
          "height": 183
        },
        "outputId": "acb21eee-2518-426b-cf2a-659b11301479"
      },
      "source": [
        "\n",
        "table"
      ],
      "execution_count": 1,
      "outputs": [
        {
          "output_type": "error",
          "ename": "NameError",
          "evalue": "ignored",
          "traceback": [
            "\u001b[0;31m---------------------------------------------------------------------------\u001b[0m",
            "\u001b[0;31mNameError\u001b[0m                                 Traceback (most recent call last)",
            "\u001b[0;32m<ipython-input-1-8dccb4b9079f>\u001b[0m in \u001b[0;36m<module>\u001b[0;34m()\u001b[0m\n\u001b[1;32m      1\u001b[0m \u001b[0;34m\u001b[0m\u001b[0m\n\u001b[0;32m----> 2\u001b[0;31m \u001b[0mtable\u001b[0m\u001b[0;34m\u001b[0m\u001b[0;34m\u001b[0m\u001b[0m\n\u001b[0m",
            "\u001b[0;31mNameError\u001b[0m: name 'table' is not defined"
          ]
        }
      ]
    },
    {
      "cell_type": "code",
      "metadata": {
        "id": "549K1tiWDGC-",
        "outputId": "c7bca2e4-5e11-4357-ddf7-809595c377ad",
        "colab": {
          "base_uri": "https://localhost:8080/",
          "height": 166
        }
      },
      "source": [
        "table1['x']"
      ],
      "execution_count": 2,
      "outputs": [
        {
          "output_type": "error",
          "ename": "NameError",
          "evalue": "ignored",
          "traceback": [
            "\u001b[0;31m---------------------------------------------------------------------------\u001b[0m",
            "\u001b[0;31mNameError\u001b[0m                                 Traceback (most recent call last)",
            "\u001b[0;32m<ipython-input-2-eca32ea592bd>\u001b[0m in \u001b[0;36m<module>\u001b[0;34m()\u001b[0m\n\u001b[0;32m----> 1\u001b[0;31m \u001b[0mtable1\u001b[0m\u001b[0;34m[\u001b[0m\u001b[0;34m'x'\u001b[0m\u001b[0;34m]\u001b[0m\u001b[0;34m\u001b[0m\u001b[0;34m\u001b[0m\u001b[0m\n\u001b[0m",
            "\u001b[0;31mNameError\u001b[0m: name 'table1' is not defined"
          ]
        }
      ]
    },
    {
      "cell_type": "code",
      "metadata": {
        "id": "zGoQ1_N4DJlP"
      },
      "source": [
        ""
      ],
      "execution_count": null,
      "outputs": []
    },
    {
      "cell_type": "markdown",
      "metadata": {
        "id": "Gd76sKwXDZQ5"
      },
      "source": [
        "###Python Data Structure"
      ]
    },
    {
      "cell_type": "markdown",
      "metadata": {
        "id": "IOVMzMTaDchG"
      },
      "source": [
        "variable"
      ]
    },
    {
      "cell_type": "code",
      "metadata": {
        "id": "MMoRBv0CDamV"
      },
      "source": [
        "a = 1\n",
        "b = 3"
      ],
      "execution_count": 3,
      "outputs": []
    },
    {
      "cell_type": "code",
      "metadata": {
        "id": "-MTcgWgKDhRp"
      },
      "source": [
        "c = a + b"
      ],
      "execution_count": 4,
      "outputs": []
    },
    {
      "cell_type": "code",
      "metadata": {
        "id": "_rVBgJfUDi55",
        "outputId": "063d1f36-4428-4773-86fa-f1c0df9df77b",
        "colab": {
          "base_uri": "https://localhost:8080/"
        }
      },
      "source": [
        "c"
      ],
      "execution_count": 5,
      "outputs": [
        {
          "output_type": "execute_result",
          "data": {
            "text/plain": [
              "4"
            ]
          },
          "metadata": {
            "tags": []
          },
          "execution_count": 5
        }
      ]
    },
    {
      "cell_type": "code",
      "metadata": {
        "id": "dkA5NbPqDkaz"
      },
      "source": [
        "name = 'a'"
      ],
      "execution_count": 6,
      "outputs": []
    },
    {
      "cell_type": "code",
      "metadata": {
        "id": "NCIlCjMrDmVa",
        "outputId": "219c2793-9f24-4d63-ea98-4a557751bac9",
        "colab": {
          "base_uri": "https://localhost:8080/",
          "height": 35
        }
      },
      "source": [
        "name"
      ],
      "execution_count": 7,
      "outputs": [
        {
          "output_type": "execute_result",
          "data": {
            "application/vnd.google.colaboratory.intrinsic+json": {
              "type": "string"
            },
            "text/plain": [
              "'a'"
            ]
          },
          "metadata": {
            "tags": []
          },
          "execution_count": 7
        }
      ]
    },
    {
      "cell_type": "code",
      "metadata": {
        "id": "nnwUI8jxDoAZ"
      },
      "source": [
        "one = '1'"
      ],
      "execution_count": 8,
      "outputs": []
    },
    {
      "cell_type": "code",
      "metadata": {
        "id": "-zhLfUeeDpyy",
        "outputId": "51e2910d-a54c-46fa-dafc-b1d690491c26",
        "colab": {
          "base_uri": "https://localhost:8080/",
          "height": 166
        }
      },
      "source": [
        "k = a + one"
      ],
      "execution_count": 9,
      "outputs": [
        {
          "output_type": "error",
          "ename": "TypeError",
          "evalue": "ignored",
          "traceback": [
            "\u001b[0;31m---------------------------------------------------------------------------\u001b[0m",
            "\u001b[0;31mTypeError\u001b[0m                                 Traceback (most recent call last)",
            "\u001b[0;32m<ipython-input-9-ae3d1eecddba>\u001b[0m in \u001b[0;36m<module>\u001b[0;34m()\u001b[0m\n\u001b[0;32m----> 1\u001b[0;31m \u001b[0mk\u001b[0m \u001b[0;34m=\u001b[0m \u001b[0ma\u001b[0m \u001b[0;34m+\u001b[0m \u001b[0mone\u001b[0m\u001b[0;34m\u001b[0m\u001b[0;34m\u001b[0m\u001b[0m\n\u001b[0m",
            "\u001b[0;31mTypeError\u001b[0m: unsupported operand type(s) for +: 'int' and 'str'"
          ]
        }
      ]
    },
    {
      "cell_type": "code",
      "metadata": {
        "id": "o9E-Mhx-Drpr"
      },
      "source": [
        "\n",
        "k = a + int(one)"
      ],
      "execution_count": 10,
      "outputs": []
    },
    {
      "cell_type": "code",
      "metadata": {
        "id": "fPO1eb3oDt0L",
        "outputId": "bd59e7fb-89b8-46fc-f9c7-8878ed137ad4",
        "colab": {
          "base_uri": "https://localhost:8080/"
        }
      },
      "source": [
        "k"
      ],
      "execution_count": 11,
      "outputs": [
        {
          "output_type": "execute_result",
          "data": {
            "text/plain": [
              "2"
            ]
          },
          "metadata": {
            "tags": []
          },
          "execution_count": 11
        }
      ]
    },
    {
      "cell_type": "code",
      "metadata": {
        "id": "zYFVwyeVDv-u"
      },
      "source": [
        "เด็ก = 5"
      ],
      "execution_count": 12,
      "outputs": []
    },
    {
      "cell_type": "code",
      "metadata": {
        "id": "qTg8qbSwDxsr"
      },
      "source": [
        "นาย = เด็ก + a"
      ],
      "execution_count": 13,
      "outputs": []
    },
    {
      "cell_type": "code",
      "metadata": {
        "id": "2NfB1UpuDzRo",
        "outputId": "c06c4fd4-0e6b-4a69-bf45-4e7973ad3e18",
        "colab": {
          "base_uri": "https://localhost:8080/"
        }
      },
      "source": [
        "นาย"
      ],
      "execution_count": 14,
      "outputs": [
        {
          "output_type": "execute_result",
          "data": {
            "text/plain": [
              "6"
            ]
          },
          "metadata": {
            "tags": []
          },
          "execution_count": 14
        }
      ]
    },
    {
      "cell_type": "code",
      "metadata": {
        "id": "vcjUnkGUD1Ct"
      },
      "source": [
        "num = 112.77"
      ],
      "execution_count": 15,
      "outputs": []
    },
    {
      "cell_type": "markdown",
      "metadata": {
        "id": "ZIL6eRtCD48U"
      },
      "source": [
        "###Cast int() float() str()\n",
        "\n",
        "###เป็นการกำหนด Type ให้ข้อมูล"
      ]
    },
    {
      "cell_type": "code",
      "metadata": {
        "id": "6dRnz17wD2uf",
        "outputId": "25fd704c-31bb-4c99-d314-ad7db3b06ea6",
        "colab": {
          "base_uri": "https://localhost:8080/"
        }
      },
      "source": [
        "int(num)"
      ],
      "execution_count": 16,
      "outputs": [
        {
          "output_type": "execute_result",
          "data": {
            "text/plain": [
              "112"
            ]
          },
          "metadata": {
            "tags": []
          },
          "execution_count": 16
        }
      ]
    },
    {
      "cell_type": "code",
      "metadata": {
        "id": "nQcXRLyMEBEY",
        "outputId": "54b487ff-0764-40f4-8774-424f53584d6e",
        "colab": {
          "base_uri": "https://localhost:8080/"
        }
      },
      "source": [
        "float(num)"
      ],
      "execution_count": 17,
      "outputs": [
        {
          "output_type": "execute_result",
          "data": {
            "text/plain": [
              "112.77"
            ]
          },
          "metadata": {
            "tags": []
          },
          "execution_count": 17
        }
      ]
    },
    {
      "cell_type": "code",
      "metadata": {
        "id": "ud50sQReEDDR",
        "outputId": "3434322d-0d35-4734-d55b-8af86ddfb059",
        "colab": {
          "base_uri": "https://localhost:8080/",
          "height": 35
        }
      },
      "source": [
        "str(float(num))"
      ],
      "execution_count": 18,
      "outputs": [
        {
          "output_type": "execute_result",
          "data": {
            "application/vnd.google.colaboratory.intrinsic+json": {
              "type": "string"
            },
            "text/plain": [
              "'112.77'"
            ]
          },
          "metadata": {
            "tags": []
          },
          "execution_count": 18
        }
      ]
    },
    {
      "cell_type": "code",
      "metadata": {
        "id": "fiPbB_iAEElW"
      },
      "source": [
        "num2 = '112.76887'"
      ],
      "execution_count": 19,
      "outputs": []
    },
    {
      "cell_type": "code",
      "metadata": {
        "id": "Af_9lOAyEGXH",
        "outputId": "5b84ebb0-1668-4481-84b8-e22a67766d31",
        "colab": {
          "base_uri": "https://localhost:8080/",
          "height": 35
        }
      },
      "source": [
        "str(num2)"
      ],
      "execution_count": 20,
      "outputs": [
        {
          "output_type": "execute_result",
          "data": {
            "application/vnd.google.colaboratory.intrinsic+json": {
              "type": "string"
            },
            "text/plain": [
              "'112.76887'"
            ]
          },
          "metadata": {
            "tags": []
          },
          "execution_count": 20
        }
      ]
    },
    {
      "cell_type": "code",
      "metadata": {
        "id": "JHAKAd0gEIlQ",
        "outputId": "5183df3c-7460-4237-ed61-253323a01b05",
        "colab": {
          "base_uri": "https://localhost:8080/"
        }
      },
      "source": [
        "float(str(num2))"
      ],
      "execution_count": 21,
      "outputs": [
        {
          "output_type": "execute_result",
          "data": {
            "text/plain": [
              "112.76887"
            ]
          },
          "metadata": {
            "tags": []
          },
          "execution_count": 21
        }
      ]
    },
    {
      "cell_type": "code",
      "metadata": {
        "id": "a1X6Z74oEKj4",
        "outputId": "e0e140f6-d5f9-4413-93a4-6bf0f4b59ca4",
        "colab": {
          "base_uri": "https://localhost:8080/"
        }
      },
      "source": [
        "int(float(str(num2)))"
      ],
      "execution_count": 22,
      "outputs": [
        {
          "output_type": "execute_result",
          "data": {
            "text/plain": [
              "112"
            ]
          },
          "metadata": {
            "tags": []
          },
          "execution_count": 22
        }
      ]
    },
    {
      "cell_type": "markdown",
      "metadata": {
        "id": "r2RgyqHpEOyY"
      },
      "source": [
        "###list()"
      ]
    },
    {
      "cell_type": "markdown",
      "metadata": {
        "id": "E6oghcDTESop"
      },
      "source": [
        "สรา้าง list_a"
      ]
    },
    {
      "cell_type": "code",
      "metadata": {
        "id": "TuXB48dpEM-w"
      },
      "source": [
        "list_a = [1,3,7,19]"
      ],
      "execution_count": 23,
      "outputs": []
    },
    {
      "cell_type": "markdown",
      "metadata": {
        "id": "Rj706z0IEXEO"
      },
      "source": [
        "เรียกดูข้อมูลใน list_a"
      ]
    },
    {
      "cell_type": "code",
      "metadata": {
        "id": "bDKd7gFVEVcP",
        "outputId": "da5ace24-db6b-4790-899c-67d899714468",
        "colab": {
          "base_uri": "https://localhost:8080/"
        }
      },
      "source": [
        "list_a[0]"
      ],
      "execution_count": 24,
      "outputs": [
        {
          "output_type": "execute_result",
          "data": {
            "text/plain": [
              "1"
            ]
          },
          "metadata": {
            "tags": []
          },
          "execution_count": 24
        }
      ]
    },
    {
      "cell_type": "code",
      "metadata": {
        "id": "RzVhlTPSEZA3",
        "outputId": "c4e39b08-32a8-4ceb-fbad-ca11e26b6d13",
        "colab": {
          "base_uri": "https://localhost:8080/"
        }
      },
      "source": [
        "list_a[-1]"
      ],
      "execution_count": 25,
      "outputs": [
        {
          "output_type": "execute_result",
          "data": {
            "text/plain": [
              "19"
            ]
          },
          "metadata": {
            "tags": []
          },
          "execution_count": 25
        }
      ]
    },
    {
      "cell_type": "markdown",
      "metadata": {
        "id": "ntafwRKKEeF4"
      },
      "source": [
        "เรียกดูจำนวนใน list_a"
      ]
    },
    {
      "cell_type": "code",
      "metadata": {
        "id": "XiTbTucPEa0T",
        "outputId": "3a1da816-a6aa-41bb-c61b-a0a76eaf3fe6",
        "colab": {
          "base_uri": "https://localhost:8080/"
        }
      },
      "source": [
        "len(list_a)"
      ],
      "execution_count": 26,
      "outputs": [
        {
          "output_type": "execute_result",
          "data": {
            "text/plain": [
              "4"
            ]
          },
          "metadata": {
            "tags": []
          },
          "execution_count": 26
        }
      ]
    },
    {
      "cell_type": "code",
      "metadata": {
        "id": "sXn6tmIaEgP5"
      },
      "source": [
        "list_b = [1,4,'thai',['a',3,9]]"
      ],
      "execution_count": 27,
      "outputs": []
    },
    {
      "cell_type": "code",
      "metadata": {
        "id": "8IiVnz_HEiWJ",
        "outputId": "d11d996b-2dcb-4473-9e01-7267fef66b07",
        "colab": {
          "base_uri": "https://localhost:8080/",
          "height": 35
        }
      },
      "source": [
        "list_b[-1][0]"
      ],
      "execution_count": 28,
      "outputs": [
        {
          "output_type": "execute_result",
          "data": {
            "application/vnd.google.colaboratory.intrinsic+json": {
              "type": "string"
            },
            "text/plain": [
              "'a'"
            ]
          },
          "metadata": {
            "tags": []
          },
          "execution_count": 28
        }
      ]
    },
    {
      "cell_type": "code",
      "metadata": {
        "id": "ziMfVR87EkKy"
      },
      "source": [
        "list_c = list_a + list_b"
      ],
      "execution_count": 29,
      "outputs": []
    },
    {
      "cell_type": "code",
      "metadata": {
        "id": "ei_Djb_TEl9O",
        "outputId": "d2405b79-9581-4622-dd79-dc12ed705f2f",
        "colab": {
          "base_uri": "https://localhost:8080/"
        }
      },
      "source": [
        "list_c"
      ],
      "execution_count": 30,
      "outputs": [
        {
          "output_type": "execute_result",
          "data": {
            "text/plain": [
              "[1, 3, 7, 19, 1, 4, 'thai', ['a', 3, 9]]"
            ]
          },
          "metadata": {
            "tags": []
          },
          "execution_count": 30
        }
      ]
    },
    {
      "cell_type": "code",
      "metadata": {
        "id": "303FlGeyEn1m"
      },
      "source": [
        "list_a1 = []"
      ],
      "execution_count": 31,
      "outputs": []
    },
    {
      "cell_type": "code",
      "metadata": {
        "id": "O8ItTj6wEqoY"
      },
      "source": [
        "list_a2 = list()"
      ],
      "execution_count": 32,
      "outputs": []
    },
    {
      "cell_type": "markdown",
      "metadata": {
        "id": "F_MtwYWGEvMp"
      },
      "source": [
        "เก็บค่า 666 ใส่ลงใน list_a1"
      ]
    },
    {
      "cell_type": "code",
      "metadata": {
        "id": "Zk4DArQ0Es03",
        "outputId": "975cf871-7cfb-44c1-ec94-4d6aad56a8f6",
        "colab": {
          "base_uri": "https://localhost:8080/"
        }
      },
      "source": [
        "list_a1.append(666)\n",
        "list_a1"
      ],
      "execution_count": 33,
      "outputs": [
        {
          "output_type": "execute_result",
          "data": {
            "text/plain": [
              "[666]"
            ]
          },
          "metadata": {
            "tags": []
          },
          "execution_count": 33
        }
      ]
    },
    {
      "cell_type": "code",
      "metadata": {
        "id": "XL6rj2ZoExPZ",
        "outputId": "597c4310-ad49-440e-d2dd-772e88601e26",
        "colab": {
          "base_uri": "https://localhost:8080/"
        }
      },
      "source": [
        "print(list_c)\n",
        "list_c.append(1234)\n",
        "print(list_c)"
      ],
      "execution_count": 34,
      "outputs": [
        {
          "output_type": "stream",
          "text": [
            "[1, 3, 7, 19, 1, 4, 'thai', ['a', 3, 9]]\n",
            "[1, 3, 7, 19, 1, 4, 'thai', ['a', 3, 9], 1234]\n"
          ],
          "name": "stdout"
        }
      ]
    },
    {
      "cell_type": "code",
      "metadata": {
        "id": "pTn0b1CjEzE5"
      },
      "source": [
        "word_a = 'statistics kku'"
      ],
      "execution_count": 35,
      "outputs": []
    },
    {
      "cell_type": "code",
      "metadata": {
        "id": "wlA1iSg5E1q6",
        "outputId": "ec35ace8-40d0-4074-dafa-a6bbdd504b65",
        "colab": {
          "base_uri": "https://localhost:8080/",
          "height": 35
        }
      },
      "source": [
        "word_a[-1]"
      ],
      "execution_count": 36,
      "outputs": [
        {
          "output_type": "execute_result",
          "data": {
            "application/vnd.google.colaboratory.intrinsic+json": {
              "type": "string"
            },
            "text/plain": [
              "'u'"
            ]
          },
          "metadata": {
            "tags": []
          },
          "execution_count": 36
        }
      ]
    },
    {
      "cell_type": "code",
      "metadata": {
        "id": "J42Yi0BiE3h7",
        "outputId": "53d9558c-219d-4aab-b7fc-3a902b22800e",
        "colab": {
          "base_uri": "https://localhost:8080/",
          "height": 35
        }
      },
      "source": [
        "word_a + 'thailand'"
      ],
      "execution_count": 37,
      "outputs": [
        {
          "output_type": "execute_result",
          "data": {
            "application/vnd.google.colaboratory.intrinsic+json": {
              "type": "string"
            },
            "text/plain": [
              "'statistics kkuthailand'"
            ]
          },
          "metadata": {
            "tags": []
          },
          "execution_count": 37
        }
      ]
    },
    {
      "cell_type": "code",
      "metadata": {
        "id": "7kx90ZAiE5TQ",
        "outputId": "bdd64075-af77-4c78-9a64-4d016d8021ed",
        "colab": {
          "base_uri": "https://localhost:8080/"
        }
      },
      "source": [
        "len(word_a)"
      ],
      "execution_count": 38,
      "outputs": [
        {
          "output_type": "execute_result",
          "data": {
            "text/plain": [
              "14"
            ]
          },
          "metadata": {
            "tags": []
          },
          "execution_count": 38
        }
      ]
    },
    {
      "cell_type": "code",
      "metadata": {
        "id": "dPEIYbG4E6vo",
        "outputId": "ba13707d-fc11-4146-a8d4-1f1d597a170b",
        "colab": {
          "base_uri": "https://localhost:8080/",
          "height": 35
        }
      },
      "source": [
        "st_x = f'list_c = {list_c}'\n",
        "st_x"
      ],
      "execution_count": 39,
      "outputs": [
        {
          "output_type": "execute_result",
          "data": {
            "application/vnd.google.colaboratory.intrinsic+json": {
              "type": "string"
            },
            "text/plain": [
              "\"list_c = [1, 3, 7, 19, 1, 4, 'thai', ['a', 3, 9], 1234]\""
            ]
          },
          "metadata": {
            "tags": []
          },
          "execution_count": 39
        }
      ]
    },
    {
      "cell_type": "code",
      "metadata": {
        "id": "w_gfOma2E8MW",
        "outputId": "436e0270-a2f0-4858-eb39-4d629fe0735f",
        "colab": {
          "base_uri": "https://localhost:8080/",
          "height": 35
        }
      },
      "source": [
        "f'modulo example -> 4 mod 3 = {4%3}'"
      ],
      "execution_count": 40,
      "outputs": [
        {
          "output_type": "execute_result",
          "data": {
            "application/vnd.google.colaboratory.intrinsic+json": {
              "type": "string"
            },
            "text/plain": [
              "'modulo example -> 4 mod 3 = 1'"
            ]
          },
          "metadata": {
            "tags": []
          },
          "execution_count": 40
        }
      ]
    },
    {
      "cell_type": "code",
      "metadata": {
        "id": "JaXHqzMuE91k",
        "outputId": "3caa51b8-cd2f-493e-9e69-feafd0ef70be",
        "colab": {
          "base_uri": "https://localhost:8080/"
        }
      },
      "source": [
        "print(st_x)\n",
        "st_x.split()"
      ],
      "execution_count": 41,
      "outputs": [
        {
          "output_type": "stream",
          "text": [
            "list_c = [1, 3, 7, 19, 1, 4, 'thai', ['a', 3, 9], 1234]\n"
          ],
          "name": "stdout"
        },
        {
          "output_type": "execute_result",
          "data": {
            "text/plain": [
              "['list_c',\n",
              " '=',\n",
              " '[1,',\n",
              " '3,',\n",
              " '7,',\n",
              " '19,',\n",
              " '1,',\n",
              " '4,',\n",
              " \"'thai',\",\n",
              " \"['a',\",\n",
              " '3,',\n",
              " '9],',\n",
              " '1234]']"
            ]
          },
          "metadata": {
            "tags": []
          },
          "execution_count": 41
        }
      ]
    },
    {
      "cell_type": "code",
      "metadata": {
        "id": "P0IegByUE_MF",
        "outputId": "fc3457e1-f6ca-4295-8f1a-751b3102ba5d",
        "colab": {
          "base_uri": "https://localhost:8080/"
        }
      },
      "source": [
        "print(st_x)\n",
        "st_x.split(',')"
      ],
      "execution_count": 42,
      "outputs": [
        {
          "output_type": "stream",
          "text": [
            "list_c = [1, 3, 7, 19, 1, 4, 'thai', ['a', 3, 9], 1234]\n"
          ],
          "name": "stdout"
        },
        {
          "output_type": "execute_result",
          "data": {
            "text/plain": [
              "['list_c = [1',\n",
              " ' 3',\n",
              " ' 7',\n",
              " ' 19',\n",
              " ' 1',\n",
              " ' 4',\n",
              " \" 'thai'\",\n",
              " \" ['a'\",\n",
              " ' 3',\n",
              " ' 9]',\n",
              " ' 1234]']"
            ]
          },
          "metadata": {
            "tags": []
          },
          "execution_count": 42
        }
      ]
    },
    {
      "cell_type": "markdown",
      "metadata": {
        "id": "4SWOqKc5FD0E"
      },
      "source": [
        "###Lop"
      ]
    },
    {
      "cell_type": "markdown",
      "metadata": {
        "id": "nLloR3_aFHQG"
      },
      "source": [
        "วนลูปด้วยlist"
      ]
    },
    {
      "cell_type": "code",
      "metadata": {
        "id": "rpDHSk3ZFB_M",
        "outputId": "115792d3-589c-4563-89be-5af526f9f804",
        "colab": {
          "base_uri": "https://localhost:8080/"
        }
      },
      "source": [
        "for i in [1,2,3,4]:\n",
        "  print(f'first line {i}')\n",
        "  print(f'second line {2*i}')"
      ],
      "execution_count": 43,
      "outputs": [
        {
          "output_type": "stream",
          "text": [
            "first line 1\n",
            "second line 2\n",
            "first line 2\n",
            "second line 4\n",
            "first line 3\n",
            "second line 6\n",
            "first line 4\n",
            "second line 8\n"
          ],
          "name": "stdout"
        }
      ]
    },
    {
      "cell_type": "code",
      "metadata": {
        "id": "scKfJaiMFI-S",
        "outputId": "48f85eca-53f0-4901-8187-6c05449f8ea3",
        "colab": {
          "base_uri": "https://localhost:8080/"
        }
      },
      "source": [
        "for i in [1,2,3,4]:\n",
        "  print('HaHaHaHa')"
      ],
      "execution_count": 44,
      "outputs": [
        {
          "output_type": "stream",
          "text": [
            "HaHaHaHa\n",
            "HaHaHaHa\n",
            "HaHaHaHa\n",
            "HaHaHaHa\n"
          ],
          "name": "stdout"
        }
      ]
    },
    {
      "cell_type": "code",
      "metadata": {
        "id": "6nwfYzRTFNLT",
        "outputId": "0148e321-ab9e-4db7-8ee1-bd126d147eea",
        "colab": {
          "base_uri": "https://localhost:8080/"
        }
      },
      "source": [
        "for x in list_a:\n",
        "  print(x)"
      ],
      "execution_count": 45,
      "outputs": [
        {
          "output_type": "stream",
          "text": [
            "1\n",
            "3\n",
            "7\n",
            "19\n"
          ],
          "name": "stdout"
        }
      ]
    },
    {
      "cell_type": "code",
      "metadata": {
        "id": "2aFWM_AkFPNJ",
        "outputId": "3d083e91-ba54-4a6c-cca0-7f9299aba964",
        "colab": {
          "base_uri": "https://localhost:8080/"
        }
      },
      "source": [
        "range(6)"
      ],
      "execution_count": 46,
      "outputs": [
        {
          "output_type": "execute_result",
          "data": {
            "text/plain": [
              "range(0, 6)"
            ]
          },
          "metadata": {
            "tags": []
          },
          "execution_count": 46
        }
      ]
    },
    {
      "cell_type": "markdown",
      "metadata": {
        "id": "1gS-QDhoFTFR"
      },
      "source": [
        "วนลูปด้วย range"
      ]
    },
    {
      "cell_type": "code",
      "metadata": {
        "id": "k3PZ3DZsFREt",
        "outputId": "2dfaa630-4a96-4047-a827-9fa6b9525b25",
        "colab": {
          "base_uri": "https://localhost:8080/"
        }
      },
      "source": [
        "for i in range(6):\n",
        "  print(i)"
      ],
      "execution_count": 47,
      "outputs": [
        {
          "output_type": "stream",
          "text": [
            "0\n",
            "1\n",
            "2\n",
            "3\n",
            "4\n",
            "5\n"
          ],
          "name": "stdout"
        }
      ]
    },
    {
      "cell_type": "code",
      "metadata": {
        "id": "DfYFzXYOFXyc",
        "outputId": "b03fcfa4-5c5f-4d0f-852c-7f6f2aff075b",
        "colab": {
          "base_uri": "https://localhost:8080/"
        }
      },
      "source": [
        "for i in range(3):\n",
        "  for j in range(3):\n",
        "    print(f'i = {i} j = {j} ixj = i*j')"
      ],
      "execution_count": 48,
      "outputs": [
        {
          "output_type": "stream",
          "text": [
            "i = 0 j = 0 ixj = i*j\n",
            "i = 0 j = 1 ixj = i*j\n",
            "i = 0 j = 2 ixj = i*j\n",
            "i = 1 j = 0 ixj = i*j\n",
            "i = 1 j = 1 ixj = i*j\n",
            "i = 1 j = 2 ixj = i*j\n",
            "i = 2 j = 0 ixj = i*j\n",
            "i = 2 j = 1 ixj = i*j\n",
            "i = 2 j = 2 ixj = i*j\n"
          ],
          "name": "stdout"
        }
      ]
    },
    {
      "cell_type": "code",
      "metadata": {
        "id": "b9XuK789FdVt",
        "outputId": "24b0415b-ded1-4c73-b14d-ee3fd7d2bc18",
        "colab": {
          "base_uri": "https://localhost:8080/"
        }
      },
      "source": [
        "for i in range(3):\n",
        "  print('start inner')\n",
        "  for j in range(3):\n",
        "    print(f'i = {i} j = {j} ixj = {i*j}')\n",
        "  print('end inner')"
      ],
      "execution_count": 49,
      "outputs": [
        {
          "output_type": "stream",
          "text": [
            "start inner\n",
            "i = 0 j = 0 ixj = 0\n",
            "i = 0 j = 1 ixj = 0\n",
            "i = 0 j = 2 ixj = 0\n",
            "end inner\n",
            "start inner\n",
            "i = 1 j = 0 ixj = 0\n",
            "i = 1 j = 1 ixj = 1\n",
            "i = 1 j = 2 ixj = 2\n",
            "end inner\n",
            "start inner\n",
            "i = 2 j = 0 ixj = 0\n",
            "i = 2 j = 1 ixj = 2\n",
            "i = 2 j = 2 ixj = 4\n",
            "end inner\n"
          ],
          "name": "stdout"
        }
      ]
    },
    {
      "cell_type": "markdown",
      "metadata": {
        "id": "upwZCIpgFiiq"
      },
      "source": [
        "###\n",
        "If statement"
      ]
    },
    {
      "cell_type": "markdown",
      "metadata": {
        "id": "d8pY2_HcFrZX"
      },
      "source": [
        "\n",
        "ถ้า จำนวนข้อมูลของตัวแปร stringX > 6 ให้แสดงคำว่า stringX is longer than 6"
      ]
    },
    {
      "cell_type": "code",
      "metadata": {
        "id": "UgU1LjgDFgHz",
        "outputId": "c3004254-7ef5-45fa-de54-c7e64f7dafb8",
        "colab": {
          "base_uri": "https://localhost:8080/"
        }
      },
      "source": [
        "stringX = 'abcergihdo;kd;afhrlf'\n",
        "if len(stringX) > 6:\n",
        "  print('stringX  is longer than 6')"
      ],
      "execution_count": 50,
      "outputs": [
        {
          "output_type": "stream",
          "text": [
            "stringX  is longer than 6\n"
          ],
          "name": "stdout"
        }
      ]
    },
    {
      "cell_type": "markdown",
      "metadata": {
        "id": "Q0foNaiaFxWL"
      },
      "source": [
        "stringX  is longer than 6\n",
        "ถ้า จำนวนข้อมูลของตัวแปร stringX > 100 ให้แสดงคำว่า stringX is longer than 6 แต่ถ้าไม่ให้ แสดง xxx"
      ]
    },
    {
      "cell_type": "code",
      "metadata": {
        "id": "r9a_yDpwFuTx",
        "outputId": "a5a2e309-9298-4a4a-f810-890586338071",
        "colab": {
          "base_uri": "https://localhost:8080/"
        }
      },
      "source": [
        "stringX = 'abcergihdo;kd;afhrlf'\n",
        "if len(stringX) > 100:\n",
        "  print('stringX  is longer than 6')\n",
        "else:\n",
        "  print('xxx')"
      ],
      "execution_count": 51,
      "outputs": [
        {
          "output_type": "stream",
          "text": [
            "xxx\n"
          ],
          "name": "stdout"
        }
      ]
    },
    {
      "cell_type": "markdown",
      "metadata": {
        "id": "-58yrzNcF2DM"
      },
      "source": [
        "ถ้า จำนวนข้อมูลของตัวแปร stringX < 10 ให้แสดงคำว่า stringX is longer than 10 แต่ถ้าเท่ากับ 20 แสดง ค่าทั้งหมดในตัวแปร stringX แต่ถ้าไม่ ให้แสดง xxx"
      ]
    },
    {
      "cell_type": "code",
      "metadata": {
        "id": "ot9zjPeYFzyA",
        "outputId": "48101a6f-a2ae-48d4-eaef-db1107f050b3",
        "colab": {
          "base_uri": "https://localhost:8080/"
        }
      },
      "source": [
        "stringX = 'abcergihdo;kd;afhrlf'\n",
        "if len(stringX) < 10:\n",
        "  print('stringX  is longer than 10')\n",
        "elif len(stringX) == 20:\n",
        "  print(stringX)\n",
        "else:\n",
        "  print('xxx')"
      ],
      "execution_count": 52,
      "outputs": [
        {
          "output_type": "stream",
          "text": [
            "abcergihdo;kd;afhrlf\n"
          ],
          "name": "stdout"
        }
      ]
    },
    {
      "cell_type": "markdown",
      "metadata": {
        "id": "YrLvvQq0F8th"
      },
      "source": [
        "Excerise 1"
      ]
    },
    {
      "cell_type": "markdown",
      "metadata": {
        "id": "qRNslADhGAxi"
      },
      "source": [
        "หาค่ามากที่สุดใน list_EX = [-4, -1, -9, 8, 11] โดยไม่ใช้ function max()"
      ]
    },
    {
      "cell_type": "code",
      "metadata": {
        "id": "GQz_abSmF5Er",
        "outputId": "2e5bec79-bf14-48b8-a4e1-5164a0d5361b",
        "colab": {
          "base_uri": "https://localhost:8080/"
        }
      },
      "source": [
        "list_EX = [-4, -1, -9, 8, 11]\n",
        "list_EX"
      ],
      "execution_count": 53,
      "outputs": [
        {
          "output_type": "execute_result",
          "data": {
            "text/plain": [
              "[-4, -1, -9, 8, 11]"
            ]
          },
          "metadata": {
            "tags": []
          },
          "execution_count": 53
        }
      ]
    },
    {
      "cell_type": "code",
      "metadata": {
        "id": "24SbEapHGEDH",
        "outputId": "f74c0263-a031-467e-9794-9aeb17336d3f",
        "colab": {
          "base_uri": "https://localhost:8080/"
        }
      },
      "source": [
        "max(list_EX)"
      ],
      "execution_count": 54,
      "outputs": [
        {
          "output_type": "execute_result",
          "data": {
            "text/plain": [
              "11"
            ]
          },
          "metadata": {
            "tags": []
          },
          "execution_count": 54
        }
      ]
    },
    {
      "cell_type": "code",
      "metadata": {
        "id": "ql7IZ6MFGGFK",
        "outputId": "1ed88316-5a36-48d2-ffa9-ddafe4d5b502",
        "colab": {
          "base_uri": "https://localhost:8080/"
        }
      },
      "source": [
        "sum(list_EX)"
      ],
      "execution_count": 55,
      "outputs": [
        {
          "output_type": "execute_result",
          "data": {
            "text/plain": [
              "5"
            ]
          },
          "metadata": {
            "tags": []
          },
          "execution_count": 55
        }
      ]
    },
    {
      "cell_type": "code",
      "metadata": {
        "id": "Y_qpQuYqGHoC",
        "outputId": "b2f831fb-228e-41df-835f-ad7e91906a7e",
        "colab": {
          "base_uri": "https://localhost:8080/"
        }
      },
      "source": [
        "min(list_EX)"
      ],
      "execution_count": 56,
      "outputs": [
        {
          "output_type": "execute_result",
          "data": {
            "text/plain": [
              "-9"
            ]
          },
          "metadata": {
            "tags": []
          },
          "execution_count": 56
        }
      ]
    },
    {
      "cell_type": "code",
      "metadata": {
        "id": "1TgazmEhGKLq",
        "outputId": "ef941365-7f46-4291-e46a-707941fe659b",
        "colab": {
          "base_uri": "https://localhost:8080/"
        }
      },
      "source": [
        "list_EX = [-4, -1, -9, 8, 11]\n",
        "MAXIMUM = -100\n",
        "for i in list_EX:\n",
        "    if i > MAXIMUM:\n",
        "      print(f'{i}>{MAXIMUM} UPDATE!,',end='')\n",
        "      MAXIMUM = i \n",
        "      print(f'now maximun is {MAXIMUM}') \n",
        "    else:\n",
        "      print('olo')\n",
        "\n",
        "print(f'Anserw is {MAXIMUM}')"
      ],
      "execution_count": 57,
      "outputs": [
        {
          "output_type": "stream",
          "text": [
            "-4>-100 UPDATE!,now maximun is -4\n",
            "-1>-4 UPDATE!,now maximun is -1\n",
            "olo\n",
            "8>-1 UPDATE!,now maximun is 8\n",
            "11>8 UPDATE!,now maximun is 11\n",
            "Anserw is 11\n"
          ],
          "name": "stdout"
        }
      ]
    },
    {
      "cell_type": "markdown",
      "metadata": {
        "id": "At6ee2PnGPzW"
      },
      "source": [
        "Function()"
      ]
    },
    {
      "cell_type": "code",
      "metadata": {
        "id": "qPihcGV1GM0i"
      },
      "source": [
        "def find_max(in_list):\n",
        "  MAXIMUM = -100\n",
        "  for i in in_list:\n",
        "      if i > MAXIMUM:\n",
        "        print(f'{i}>{MAXIMUM} UPDATE!,',end='')\n",
        "        MAXIMUM = i \n",
        "        print(f'now maximun is {MAXIMUM}') \n",
        "      else:\n",
        "        print('olo')\n",
        "\n",
        "  print(f'Anserw is {MAXIMUM}')\n",
        "  return MAXIMUM"
      ],
      "execution_count": 58,
      "outputs": []
    },
    {
      "cell_type": "code",
      "metadata": {
        "id": "mzRgRbz-GT27",
        "outputId": "8466593c-e8b9-4d0c-d23f-e65f40cd1990",
        "colab": {
          "base_uri": "https://localhost:8080/"
        }
      },
      "source": [
        "a = find_max([12,1548,15651,-66662,54585])"
      ],
      "execution_count": 59,
      "outputs": [
        {
          "output_type": "stream",
          "text": [
            "12>-100 UPDATE!,now maximun is 12\n",
            "1548>12 UPDATE!,now maximun is 1548\n",
            "15651>1548 UPDATE!,now maximun is 15651\n",
            "olo\n",
            "54585>15651 UPDATE!,now maximun is 54585\n",
            "Anserw is 54585\n"
          ],
          "name": "stdout"
        }
      ]
    },
    {
      "cell_type": "code",
      "metadata": {
        "id": "GPclRb1mGVnI",
        "outputId": "f830641d-78b8-46a6-944e-3d51ca5ca08f",
        "colab": {
          "base_uri": "https://localhost:8080/"
        }
      },
      "source": [
        "a"
      ],
      "execution_count": 60,
      "outputs": [
        {
          "output_type": "execute_result",
          "data": {
            "text/plain": [
              "54585"
            ]
          },
          "metadata": {
            "tags": []
          },
          "execution_count": 60
        }
      ]
    },
    {
      "cell_type": "code",
      "metadata": {
        "id": "0C_n-0dOGXov",
        "outputId": "0cc4cad8-86b2-4486-97a2-64e3f965a5c1",
        "colab": {
          "base_uri": "https://localhost:8080/"
        }
      },
      "source": [
        "list_EX = [-4, -1, -9, 8, 11]\n",
        "\n",
        "size_list_EX = len(list_EX)\n",
        "sizeL = size_list_EX - 1 \n",
        "\n",
        "for box in range(size_list_EX) :\n",
        "    for i in range(sizeL) :\n",
        "      if list_EX[i] < list_EX[i+1] :\n",
        "          temp = list_EX[i] \n",
        "          list_EX[i] = list_EX[i+1]\n",
        "          list_EX[i+1] = temp\n",
        "\n",
        "print(list_EX)"
      ],
      "execution_count": 61,
      "outputs": [
        {
          "output_type": "stream",
          "text": [
            "[11, 8, -1, -4, -9]\n"
          ],
          "name": "stdout"
        }
      ]
    },
    {
      "cell_type": "markdown",
      "metadata": {
        "id": "uEI-Sj_BGczP"
      },
      "source": [
        "###List Slicing"
      ]
    },
    {
      "cell_type": "markdown",
      "metadata": {
        "id": "8HETv4D4Gf90"
      },
      "source": [
        "แสดงค่าในตัวแปร example_list ที่อยู่ในตำแหน่งที่ -4 , 99 และ 4"
      ]
    },
    {
      "cell_type": "code",
      "metadata": {
        "id": "bsreEncZGamv"
      },
      "source": [
        "example_list = list(range(-4,99,4))"
      ],
      "execution_count": 62,
      "outputs": []
    },
    {
      "cell_type": "markdown",
      "metadata": {
        "id": "pY4tBQknGlZx"
      },
      "source": [
        "แสดงค่าในตัวแปร example_list ตั้งแต่ตำแหน่งที่ 0 จนถึงตัวแหน่งที่ 10"
      ]
    },
    {
      "cell_type": "code",
      "metadata": {
        "id": "2LNtXaBgGi3W",
        "outputId": "a91ffb05-a0e9-49e5-c3c6-607baa0aa958",
        "colab": {
          "base_uri": "https://localhost:8080/"
        }
      },
      "source": [
        "example_list[0:10]"
      ],
      "execution_count": 63,
      "outputs": [
        {
          "output_type": "execute_result",
          "data": {
            "text/plain": [
              "[-4, 0, 4, 8, 12, 16, 20, 24, 28, 32]"
            ]
          },
          "metadata": {
            "tags": []
          },
          "execution_count": 63
        }
      ]
    },
    {
      "cell_type": "markdown",
      "metadata": {
        "id": "ydncup92Gqgv"
      },
      "source": [
        "แสดงค่าในตัวแปร example_list ตั้งแต่ตำแหน่งแรกจนถึงตำแหน่งที่ 10"
      ]
    },
    {
      "cell_type": "code",
      "metadata": {
        "id": "l5qyhGsvGnws",
        "outputId": "3beaf72d-d51c-4b0a-e4db-e42aa0866405",
        "colab": {
          "base_uri": "https://localhost:8080/"
        }
      },
      "source": [
        "example_list[:10]"
      ],
      "execution_count": 64,
      "outputs": [
        {
          "output_type": "execute_result",
          "data": {
            "text/plain": [
              "[-4, 0, 4, 8, 12, 16, 20, 24, 28, 32]"
            ]
          },
          "metadata": {
            "tags": []
          },
          "execution_count": 64
        }
      ]
    },
    {
      "cell_type": "markdown",
      "metadata": {
        "id": "CfdP-YWvGvLH"
      },
      "source": [
        "แสดงค่าในตัวแปร example_list ที่อยู่ในตำแหน่งที่ -10 จนถึงตัวสุดท้าย"
      ]
    },
    {
      "cell_type": "code",
      "metadata": {
        "id": "yyJOcoRdGtOC",
        "outputId": "ed75fa24-b8dd-42ac-abee-d0e78b7269dd",
        "colab": {
          "base_uri": "https://localhost:8080/"
        }
      },
      "source": [
        "example_list[-10:]"
      ],
      "execution_count": 65,
      "outputs": [
        {
          "output_type": "execute_result",
          "data": {
            "text/plain": [
              "[60, 64, 68, 72, 76, 80, 84, 88, 92, 96]"
            ]
          },
          "metadata": {
            "tags": []
          },
          "execution_count": 65
        }
      ]
    },
    {
      "cell_type": "markdown",
      "metadata": {
        "id": "QEJNGvW1GzF3"
      },
      "source": [
        "แสดงค่าในตัวแปร example_list ที่อยู่ในตำแหน่งที่ 9 ถึง -2 จำนวน 4 ตัว"
      ]
    },
    {
      "cell_type": "code",
      "metadata": {
        "id": "Bzfz4pVwGw8o",
        "outputId": "f00db0cb-413e-479b-df5c-2fd18f566cd6",
        "colab": {
          "base_uri": "https://localhost:8080/"
        }
      },
      "source": [
        "example_list[9:-2:4]"
      ],
      "execution_count": 66,
      "outputs": [
        {
          "output_type": "execute_result",
          "data": {
            "text/plain": [
              "[32, 48, 64, 80]"
            ]
          },
          "metadata": {
            "tags": []
          },
          "execution_count": 66
        }
      ]
    },
    {
      "cell_type": "code",
      "metadata": {
        "id": "SHJAPGc4G08G"
      },
      "source": [
        ""
      ],
      "execution_count": null,
      "outputs": []
    }
  ]
}