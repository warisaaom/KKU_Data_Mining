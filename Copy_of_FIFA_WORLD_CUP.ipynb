{
  "nbformat": 4,
  "nbformat_minor": 0,
  "metadata": {
    "colab": {
      "name": "Copy of FIFA_WORLD CUP.ipynb",
      "provenance": [],
      "collapsed_sections": [],
      "include_colab_link": true
    },
    "kernelspec": {
      "name": "python3",
      "display_name": "Python 3"
    },
    "accelerator": "GPU"
  },
  "cells": [
    {
      "cell_type": "markdown",
      "metadata": {
        "id": "view-in-github",
        "colab_type": "text"
      },
      "source": [
        "<a href=\"https://colab.research.google.com/github/warisaaom/KKU_Data_Mining/blob/master/Copy_of_FIFA_WORLD_CUP.ipynb\" target=\"_parent\"><img src=\"https://colab.research.google.com/assets/colab-badge.svg\" alt=\"Open In Colab\"/></a>"
      ]
    },
    {
      "cell_type": "markdown",
      "metadata": {
        "id": "wdsTSEcjYgyW"
      },
      "source": [
        "# เรื่อง การทำ Classification เเต่ละวิธี เพื่อหาผลทำนายการเเพ้ชนะของการเเข่งขัน\n"
      ]
    },
    {
      "cell_type": "markdown",
      "metadata": {
        "id": "xGD2pKW8Yz0v"
      },
      "source": [
        "##Link for download dataset\n",
        "- https://www.kaggle.com/martj42/international-football-results-from-1872-to-2017?fbclid=IwAR28Slf_F03Zm4t_Rf-YfWO2Tm8bKbHSVpI_n_D09hBycYvqN08nKV0lwOE\n",
        "- https://www.kaggle.com/tadhgfitzgerald/fifa-international-soccer-mens-ranking-1993now?fbclid=IwAR1jUXhQ6o4sqgD8P4xAJostWef0VJQIVIrNqkEj9TK92HfWNPFooEX6p2Q"
      ]
    },
    {
      "cell_type": "code",
      "metadata": {
        "id": "ZN0OV6Mfip3P"
      },
      "source": [
        "import numpy as np \n",
        "import pandas as pd \n",
        "from matplotlib import pyplot as plt"
      ],
      "execution_count": null,
      "outputs": []
    },
    {
      "cell_type": "code",
      "metadata": {
        "id": "pFyYvZVvj-Wr"
      },
      "source": [
        "import pandas as pd"
      ],
      "execution_count": null,
      "outputs": []
    },
    {
      "cell_type": "code",
      "metadata": {
        "id": "3S55ebCykCVJ",
        "colab": {
          "base_uri": "https://localhost:8080/"
        },
        "outputId": "e95e8224-ff77-471f-dfc9-5a15a89da4dc"
      },
      "source": [
        "from google.colab import drive\n",
        "drive.mount('/content/drive')\n"
      ],
      "execution_count": null,
      "outputs": [
        {
          "output_type": "stream",
          "text": [
            "Mounted at /content/drive\n"
          ],
          "name": "stdout"
        }
      ]
    },
    {
      "cell_type": "code",
      "metadata": {
        "id": "V_RuVH0Mi15l"
      },
      "source": [
        "rankings = pd.read_csv('/content/drive/My Drive/DWDM_material/fifa_ranking.csv')"
      ],
      "execution_count": null,
      "outputs": []
    },
    {
      "cell_type": "code",
      "metadata": {
        "id": "OKy3n-DTkWr3",
        "colab": {
          "base_uri": "https://localhost:8080/",
          "height": 422
        },
        "outputId": "718bf923-d5a6-49b1-c0a1-b80477d59fdf"
      },
      "source": [
        "rankings"
      ],
      "execution_count": null,
      "outputs": [
        {
          "output_type": "execute_result",
          "data": {
            "text/html": [
              "<div>\n",
              "<style scoped>\n",
              "    .dataframe tbody tr th:only-of-type {\n",
              "        vertical-align: middle;\n",
              "    }\n",
              "\n",
              "    .dataframe tbody tr th {\n",
              "        vertical-align: top;\n",
              "    }\n",
              "\n",
              "    .dataframe thead th {\n",
              "        text-align: right;\n",
              "    }\n",
              "</style>\n",
              "<table border=\"1\" class=\"dataframe\">\n",
              "  <thead>\n",
              "    <tr style=\"text-align: right;\">\n",
              "      <th></th>\n",
              "      <th>rank</th>\n",
              "      <th>country_full</th>\n",
              "      <th>country_abrv</th>\n",
              "      <th>total_points</th>\n",
              "      <th>previous_points</th>\n",
              "      <th>rank_change</th>\n",
              "      <th>cur_year_avg</th>\n",
              "      <th>cur_year_avg_weighted</th>\n",
              "      <th>last_year_avg</th>\n",
              "      <th>last_year_avg_weighted</th>\n",
              "      <th>two_year_ago_avg</th>\n",
              "      <th>two_year_ago_weighted</th>\n",
              "      <th>three_year_ago_avg</th>\n",
              "      <th>three_year_ago_weighted</th>\n",
              "      <th>confederation</th>\n",
              "      <th>rank_date</th>\n",
              "    </tr>\n",
              "  </thead>\n",
              "  <tbody>\n",
              "    <tr>\n",
              "      <th>0</th>\n",
              "      <td>1</td>\n",
              "      <td>Germany</td>\n",
              "      <td>GER</td>\n",
              "      <td>0.0</td>\n",
              "      <td>57</td>\n",
              "      <td>0</td>\n",
              "      <td>0.0</td>\n",
              "      <td>0.0</td>\n",
              "      <td>0.0</td>\n",
              "      <td>0.0</td>\n",
              "      <td>0.0</td>\n",
              "      <td>0.0</td>\n",
              "      <td>0.0</td>\n",
              "      <td>0.0</td>\n",
              "      <td>UEFA</td>\n",
              "      <td>8/8/1993</td>\n",
              "    </tr>\n",
              "    <tr>\n",
              "      <th>1</th>\n",
              "      <td>2</td>\n",
              "      <td>Italy</td>\n",
              "      <td>ITA</td>\n",
              "      <td>0.0</td>\n",
              "      <td>57</td>\n",
              "      <td>0</td>\n",
              "      <td>0.0</td>\n",
              "      <td>0.0</td>\n",
              "      <td>0.0</td>\n",
              "      <td>0.0</td>\n",
              "      <td>0.0</td>\n",
              "      <td>0.0</td>\n",
              "      <td>0.0</td>\n",
              "      <td>0.0</td>\n",
              "      <td>UEFA</td>\n",
              "      <td>8/8/1993</td>\n",
              "    </tr>\n",
              "    <tr>\n",
              "      <th>2</th>\n",
              "      <td>3</td>\n",
              "      <td>Switzerland</td>\n",
              "      <td>SUI</td>\n",
              "      <td>0.0</td>\n",
              "      <td>50</td>\n",
              "      <td>9</td>\n",
              "      <td>0.0</td>\n",
              "      <td>0.0</td>\n",
              "      <td>0.0</td>\n",
              "      <td>0.0</td>\n",
              "      <td>0.0</td>\n",
              "      <td>0.0</td>\n",
              "      <td>0.0</td>\n",
              "      <td>0.0</td>\n",
              "      <td>UEFA</td>\n",
              "      <td>8/8/1993</td>\n",
              "    </tr>\n",
              "    <tr>\n",
              "      <th>3</th>\n",
              "      <td>4</td>\n",
              "      <td>Sweden</td>\n",
              "      <td>SWE</td>\n",
              "      <td>0.0</td>\n",
              "      <td>55</td>\n",
              "      <td>0</td>\n",
              "      <td>0.0</td>\n",
              "      <td>0.0</td>\n",
              "      <td>0.0</td>\n",
              "      <td>0.0</td>\n",
              "      <td>0.0</td>\n",
              "      <td>0.0</td>\n",
              "      <td>0.0</td>\n",
              "      <td>0.0</td>\n",
              "      <td>UEFA</td>\n",
              "      <td>8/8/1993</td>\n",
              "    </tr>\n",
              "    <tr>\n",
              "      <th>4</th>\n",
              "      <td>5</td>\n",
              "      <td>Argentina</td>\n",
              "      <td>ARG</td>\n",
              "      <td>0.0</td>\n",
              "      <td>51</td>\n",
              "      <td>5</td>\n",
              "      <td>0.0</td>\n",
              "      <td>0.0</td>\n",
              "      <td>0.0</td>\n",
              "      <td>0.0</td>\n",
              "      <td>0.0</td>\n",
              "      <td>0.0</td>\n",
              "      <td>0.0</td>\n",
              "      <td>0.0</td>\n",
              "      <td>CONMEBOL</td>\n",
              "      <td>8/8/1993</td>\n",
              "    </tr>\n",
              "    <tr>\n",
              "      <th>...</th>\n",
              "      <td>...</td>\n",
              "      <td>...</td>\n",
              "      <td>...</td>\n",
              "      <td>...</td>\n",
              "      <td>...</td>\n",
              "      <td>...</td>\n",
              "      <td>...</td>\n",
              "      <td>...</td>\n",
              "      <td>...</td>\n",
              "      <td>...</td>\n",
              "      <td>...</td>\n",
              "      <td>...</td>\n",
              "      <td>...</td>\n",
              "      <td>...</td>\n",
              "      <td>...</td>\n",
              "      <td>...</td>\n",
              "    </tr>\n",
              "    <tr>\n",
              "      <th>57788</th>\n",
              "      <td>206</td>\n",
              "      <td>Anguilla</td>\n",
              "      <td>AIA</td>\n",
              "      <td>0.0</td>\n",
              "      <td>0</td>\n",
              "      <td>1</td>\n",
              "      <td>0.0</td>\n",
              "      <td>0.0</td>\n",
              "      <td>0.0</td>\n",
              "      <td>0.0</td>\n",
              "      <td>0.0</td>\n",
              "      <td>0.0</td>\n",
              "      <td>0.0</td>\n",
              "      <td>0.0</td>\n",
              "      <td>CONCACAF</td>\n",
              "      <td>7/6/2018</td>\n",
              "    </tr>\n",
              "    <tr>\n",
              "      <th>57789</th>\n",
              "      <td>206</td>\n",
              "      <td>Bahamas</td>\n",
              "      <td>BAH</td>\n",
              "      <td>0.0</td>\n",
              "      <td>0</td>\n",
              "      <td>1</td>\n",
              "      <td>0.0</td>\n",
              "      <td>0.0</td>\n",
              "      <td>0.0</td>\n",
              "      <td>0.0</td>\n",
              "      <td>0.0</td>\n",
              "      <td>0.0</td>\n",
              "      <td>0.0</td>\n",
              "      <td>0.0</td>\n",
              "      <td>CONCACAF</td>\n",
              "      <td>7/6/2018</td>\n",
              "    </tr>\n",
              "    <tr>\n",
              "      <th>57790</th>\n",
              "      <td>206</td>\n",
              "      <td>Eritrea</td>\n",
              "      <td>ERI</td>\n",
              "      <td>0.0</td>\n",
              "      <td>0</td>\n",
              "      <td>1</td>\n",
              "      <td>0.0</td>\n",
              "      <td>0.0</td>\n",
              "      <td>0.0</td>\n",
              "      <td>0.0</td>\n",
              "      <td>0.0</td>\n",
              "      <td>0.0</td>\n",
              "      <td>0.0</td>\n",
              "      <td>0.0</td>\n",
              "      <td>CAF</td>\n",
              "      <td>7/6/2018</td>\n",
              "    </tr>\n",
              "    <tr>\n",
              "      <th>57791</th>\n",
              "      <td>206</td>\n",
              "      <td>Somalia</td>\n",
              "      <td>SOM</td>\n",
              "      <td>0.0</td>\n",
              "      <td>0</td>\n",
              "      <td>1</td>\n",
              "      <td>0.0</td>\n",
              "      <td>0.0</td>\n",
              "      <td>0.0</td>\n",
              "      <td>0.0</td>\n",
              "      <td>0.0</td>\n",
              "      <td>0.0</td>\n",
              "      <td>0.0</td>\n",
              "      <td>0.0</td>\n",
              "      <td>CAF</td>\n",
              "      <td>7/6/2018</td>\n",
              "    </tr>\n",
              "    <tr>\n",
              "      <th>57792</th>\n",
              "      <td>206</td>\n",
              "      <td>Tonga</td>\n",
              "      <td>TGA</td>\n",
              "      <td>0.0</td>\n",
              "      <td>0</td>\n",
              "      <td>1</td>\n",
              "      <td>0.0</td>\n",
              "      <td>0.0</td>\n",
              "      <td>0.0</td>\n",
              "      <td>0.0</td>\n",
              "      <td>0.0</td>\n",
              "      <td>0.0</td>\n",
              "      <td>0.0</td>\n",
              "      <td>0.0</td>\n",
              "      <td>OFC</td>\n",
              "      <td>7/6/2018</td>\n",
              "    </tr>\n",
              "  </tbody>\n",
              "</table>\n",
              "<p>57793 rows × 16 columns</p>\n",
              "</div>"
            ],
            "text/plain": [
              "       rank country_full  ... confederation  rank_date\n",
              "0         1      Germany  ...          UEFA   8/8/1993\n",
              "1         2        Italy  ...          UEFA   8/8/1993\n",
              "2         3  Switzerland  ...          UEFA   8/8/1993\n",
              "3         4       Sweden  ...          UEFA   8/8/1993\n",
              "4         5    Argentina  ...      CONMEBOL   8/8/1993\n",
              "...     ...          ...  ...           ...        ...\n",
              "57788   206     Anguilla  ...      CONCACAF   7/6/2018\n",
              "57789   206      Bahamas  ...      CONCACAF   7/6/2018\n",
              "57790   206      Eritrea  ...           CAF   7/6/2018\n",
              "57791   206      Somalia  ...           CAF   7/6/2018\n",
              "57792   206        Tonga  ...           OFC   7/6/2018\n",
              "\n",
              "[57793 rows x 16 columns]"
            ]
          },
          "metadata": {
            "tags": []
          },
          "execution_count": 6
        }
      ]
    },
    {
      "cell_type": "code",
      "metadata": {
        "id": "ez7nVm2MkYgO"
      },
      "source": [
        "rankings = rankings.loc[:,['rank', 'country_full', 'country_abrv', 'cur_year_avg_weighted', 'rank_date', \n",
        "                           'two_year_ago_weighted', 'three_year_ago_weighted']] #เพื่อกำหนดให้ชุดข้อมูลของ ranking มีเเค่ column ตามที่กำหนด"
      ],
      "execution_count": null,
      "outputs": []
    },
    {
      "cell_type": "code",
      "metadata": {
        "id": "sn1sOu6elwiL",
        "colab": {
          "base_uri": "https://localhost:8080/",
          "height": 422
        },
        "outputId": "bdf364db-31a0-4188-f8fc-2bd53f9738c5"
      },
      "source": [
        "rankings "
      ],
      "execution_count": null,
      "outputs": [
        {
          "output_type": "execute_result",
          "data": {
            "text/html": [
              "<div>\n",
              "<style scoped>\n",
              "    .dataframe tbody tr th:only-of-type {\n",
              "        vertical-align: middle;\n",
              "    }\n",
              "\n",
              "    .dataframe tbody tr th {\n",
              "        vertical-align: top;\n",
              "    }\n",
              "\n",
              "    .dataframe thead th {\n",
              "        text-align: right;\n",
              "    }\n",
              "</style>\n",
              "<table border=\"1\" class=\"dataframe\">\n",
              "  <thead>\n",
              "    <tr style=\"text-align: right;\">\n",
              "      <th></th>\n",
              "      <th>rank</th>\n",
              "      <th>country_full</th>\n",
              "      <th>country_abrv</th>\n",
              "      <th>cur_year_avg_weighted</th>\n",
              "      <th>rank_date</th>\n",
              "      <th>two_year_ago_weighted</th>\n",
              "      <th>three_year_ago_weighted</th>\n",
              "    </tr>\n",
              "  </thead>\n",
              "  <tbody>\n",
              "    <tr>\n",
              "      <th>0</th>\n",
              "      <td>1</td>\n",
              "      <td>Germany</td>\n",
              "      <td>GER</td>\n",
              "      <td>0.0</td>\n",
              "      <td>8/8/1993</td>\n",
              "      <td>0.0</td>\n",
              "      <td>0.0</td>\n",
              "    </tr>\n",
              "    <tr>\n",
              "      <th>1</th>\n",
              "      <td>2</td>\n",
              "      <td>Italy</td>\n",
              "      <td>ITA</td>\n",
              "      <td>0.0</td>\n",
              "      <td>8/8/1993</td>\n",
              "      <td>0.0</td>\n",
              "      <td>0.0</td>\n",
              "    </tr>\n",
              "    <tr>\n",
              "      <th>2</th>\n",
              "      <td>3</td>\n",
              "      <td>Switzerland</td>\n",
              "      <td>SUI</td>\n",
              "      <td>0.0</td>\n",
              "      <td>8/8/1993</td>\n",
              "      <td>0.0</td>\n",
              "      <td>0.0</td>\n",
              "    </tr>\n",
              "    <tr>\n",
              "      <th>3</th>\n",
              "      <td>4</td>\n",
              "      <td>Sweden</td>\n",
              "      <td>SWE</td>\n",
              "      <td>0.0</td>\n",
              "      <td>8/8/1993</td>\n",
              "      <td>0.0</td>\n",
              "      <td>0.0</td>\n",
              "    </tr>\n",
              "    <tr>\n",
              "      <th>4</th>\n",
              "      <td>5</td>\n",
              "      <td>Argentina</td>\n",
              "      <td>ARG</td>\n",
              "      <td>0.0</td>\n",
              "      <td>8/8/1993</td>\n",
              "      <td>0.0</td>\n",
              "      <td>0.0</td>\n",
              "    </tr>\n",
              "    <tr>\n",
              "      <th>...</th>\n",
              "      <td>...</td>\n",
              "      <td>...</td>\n",
              "      <td>...</td>\n",
              "      <td>...</td>\n",
              "      <td>...</td>\n",
              "      <td>...</td>\n",
              "      <td>...</td>\n",
              "    </tr>\n",
              "    <tr>\n",
              "      <th>57788</th>\n",
              "      <td>206</td>\n",
              "      <td>Anguilla</td>\n",
              "      <td>AIA</td>\n",
              "      <td>0.0</td>\n",
              "      <td>7/6/2018</td>\n",
              "      <td>0.0</td>\n",
              "      <td>0.0</td>\n",
              "    </tr>\n",
              "    <tr>\n",
              "      <th>57789</th>\n",
              "      <td>206</td>\n",
              "      <td>Bahamas</td>\n",
              "      <td>BAH</td>\n",
              "      <td>0.0</td>\n",
              "      <td>7/6/2018</td>\n",
              "      <td>0.0</td>\n",
              "      <td>0.0</td>\n",
              "    </tr>\n",
              "    <tr>\n",
              "      <th>57790</th>\n",
              "      <td>206</td>\n",
              "      <td>Eritrea</td>\n",
              "      <td>ERI</td>\n",
              "      <td>0.0</td>\n",
              "      <td>7/6/2018</td>\n",
              "      <td>0.0</td>\n",
              "      <td>0.0</td>\n",
              "    </tr>\n",
              "    <tr>\n",
              "      <th>57791</th>\n",
              "      <td>206</td>\n",
              "      <td>Somalia</td>\n",
              "      <td>SOM</td>\n",
              "      <td>0.0</td>\n",
              "      <td>7/6/2018</td>\n",
              "      <td>0.0</td>\n",
              "      <td>0.0</td>\n",
              "    </tr>\n",
              "    <tr>\n",
              "      <th>57792</th>\n",
              "      <td>206</td>\n",
              "      <td>Tonga</td>\n",
              "      <td>TGA</td>\n",
              "      <td>0.0</td>\n",
              "      <td>7/6/2018</td>\n",
              "      <td>0.0</td>\n",
              "      <td>0.0</td>\n",
              "    </tr>\n",
              "  </tbody>\n",
              "</table>\n",
              "<p>57793 rows × 7 columns</p>\n",
              "</div>"
            ],
            "text/plain": [
              "       rank country_full  ... two_year_ago_weighted  three_year_ago_weighted\n",
              "0         1      Germany  ...                   0.0                      0.0\n",
              "1         2        Italy  ...                   0.0                      0.0\n",
              "2         3  Switzerland  ...                   0.0                      0.0\n",
              "3         4       Sweden  ...                   0.0                      0.0\n",
              "4         5    Argentina  ...                   0.0                      0.0\n",
              "...     ...          ...  ...                   ...                      ...\n",
              "57788   206     Anguilla  ...                   0.0                      0.0\n",
              "57789   206      Bahamas  ...                   0.0                      0.0\n",
              "57790   206      Eritrea  ...                   0.0                      0.0\n",
              "57791   206      Somalia  ...                   0.0                      0.0\n",
              "57792   206        Tonga  ...                   0.0                      0.0\n",
              "\n",
              "[57793 rows x 7 columns]"
            ]
          },
          "metadata": {
            "tags": []
          },
          "execution_count": 8
        }
      ]
    },
    {
      "cell_type": "code",
      "metadata": {
        "id": "kwgXxMuUlxvX"
      },
      "source": [
        "rankings = rankings.replace({\"IR Iran\": \"Iran\"}) #เพื่อเปลี่ยนชื่อจาก IR Iran เป็น Iran"
      ],
      "execution_count": null,
      "outputs": []
    },
    {
      "cell_type": "code",
      "metadata": {
        "id": "pKR-PqdwmtnE"
      },
      "source": [
        "rankings['weighted_points'] =  rankings['cur_year_avg_weighted'] + rankings['two_year_ago_weighted'] + rankings['three_year_ago_weighted'] #สร้าง column weighted_points โดย การใช้ค่าใน 3 column ที่กำหนดมา + กัน"
      ],
      "execution_count": null,
      "outputs": []
    },
    {
      "cell_type": "code",
      "metadata": {
        "id": "sg3E9GoLnIMG",
        "colab": {
          "base_uri": "https://localhost:8080/"
        },
        "outputId": "24a01221-ad28-4294-ff31-532a075e4c72"
      },
      "source": [
        "rankings.info() "
      ],
      "execution_count": null,
      "outputs": [
        {
          "output_type": "stream",
          "text": [
            "<class 'pandas.core.frame.DataFrame'>\n",
            "RangeIndex: 57793 entries, 0 to 57792\n",
            "Data columns (total 8 columns):\n",
            " #   Column                   Non-Null Count  Dtype  \n",
            "---  ------                   --------------  -----  \n",
            " 0   rank                     57793 non-null  int64  \n",
            " 1   country_full             57793 non-null  object \n",
            " 2   country_abrv             57793 non-null  object \n",
            " 3   cur_year_avg_weighted    57793 non-null  float64\n",
            " 4   rank_date                57793 non-null  object \n",
            " 5   two_year_ago_weighted    57793 non-null  float64\n",
            " 6   three_year_ago_weighted  57793 non-null  float64\n",
            " 7   weighted_points          57793 non-null  float64\n",
            "dtypes: float64(4), int64(1), object(3)\n",
            "memory usage: 3.5+ MB\n"
          ],
          "name": "stdout"
        }
      ]
    },
    {
      "cell_type": "code",
      "metadata": {
        "id": "wmMBr7fIm1WZ"
      },
      "source": [
        "rankings['rank_date'] = pd.to_datetime(rankings['rank_date'])"
      ],
      "execution_count": null,
      "outputs": []
    },
    {
      "cell_type": "code",
      "metadata": {
        "id": "releU1VQm1YW",
        "colab": {
          "base_uri": "https://localhost:8080/"
        },
        "outputId": "469440ee-81f2-41bc-bf34-cc8c7dd77087"
      },
      "source": [
        "rankings.info() "
      ],
      "execution_count": null,
      "outputs": [
        {
          "output_type": "stream",
          "text": [
            "<class 'pandas.core.frame.DataFrame'>\n",
            "RangeIndex: 57793 entries, 0 to 57792\n",
            "Data columns (total 8 columns):\n",
            " #   Column                   Non-Null Count  Dtype         \n",
            "---  ------                   --------------  -----         \n",
            " 0   rank                     57793 non-null  int64         \n",
            " 1   country_full             57793 non-null  object        \n",
            " 2   country_abrv             57793 non-null  object        \n",
            " 3   cur_year_avg_weighted    57793 non-null  float64       \n",
            " 4   rank_date                57793 non-null  datetime64[ns]\n",
            " 5   two_year_ago_weighted    57793 non-null  float64       \n",
            " 6   three_year_ago_weighted  57793 non-null  float64       \n",
            " 7   weighted_points          57793 non-null  float64       \n",
            "dtypes: datetime64[ns](1), float64(4), int64(1), object(2)\n",
            "memory usage: 3.5+ MB\n"
          ],
          "name": "stdout"
        }
      ]
    },
    {
      "cell_type": "markdown",
      "metadata": {
        "id": "HIgtxy9nuQ3D"
      },
      "source": [
        "## *matches Table*"
      ]
    },
    {
      "cell_type": "code",
      "metadata": {
        "id": "rhYRZHZ7m1ah"
      },
      "source": [
        "matches = pd.read_csv('/content/drive/My Drive/DWDM_material/results.csv')"
      ],
      "execution_count": null,
      "outputs": []
    },
    {
      "cell_type": "code",
      "metadata": {
        "id": "f6Nx5kHroOsg",
        "colab": {
          "base_uri": "https://localhost:8080/",
          "height": 590
        },
        "outputId": "5040fcb6-ed47-4011-de66-6b96f04d10f1"
      },
      "source": [
        "matches"
      ],
      "execution_count": null,
      "outputs": [
        {
          "output_type": "execute_result",
          "data": {
            "text/html": [
              "<div>\n",
              "<style scoped>\n",
              "    .dataframe tbody tr th:only-of-type {\n",
              "        vertical-align: middle;\n",
              "    }\n",
              "\n",
              "    .dataframe tbody tr th {\n",
              "        vertical-align: top;\n",
              "    }\n",
              "\n",
              "    .dataframe thead th {\n",
              "        text-align: right;\n",
              "    }\n",
              "</style>\n",
              "<table border=\"1\" class=\"dataframe\">\n",
              "  <thead>\n",
              "    <tr style=\"text-align: right;\">\n",
              "      <th></th>\n",
              "      <th>date</th>\n",
              "      <th>home_team</th>\n",
              "      <th>away_team</th>\n",
              "      <th>home_score</th>\n",
              "      <th>away_score</th>\n",
              "      <th>tournament</th>\n",
              "      <th>city</th>\n",
              "      <th>country</th>\n",
              "      <th>neutral</th>\n",
              "    </tr>\n",
              "  </thead>\n",
              "  <tbody>\n",
              "    <tr>\n",
              "      <th>0</th>\n",
              "      <td>1872-11-30</td>\n",
              "      <td>Scotland</td>\n",
              "      <td>England</td>\n",
              "      <td>0</td>\n",
              "      <td>0</td>\n",
              "      <td>Friendly</td>\n",
              "      <td>Glasgow</td>\n",
              "      <td>Scotland</td>\n",
              "      <td>False</td>\n",
              "    </tr>\n",
              "    <tr>\n",
              "      <th>1</th>\n",
              "      <td>1873-03-08</td>\n",
              "      <td>England</td>\n",
              "      <td>Scotland</td>\n",
              "      <td>4</td>\n",
              "      <td>2</td>\n",
              "      <td>Friendly</td>\n",
              "      <td>London</td>\n",
              "      <td>England</td>\n",
              "      <td>False</td>\n",
              "    </tr>\n",
              "    <tr>\n",
              "      <th>2</th>\n",
              "      <td>1874-03-07</td>\n",
              "      <td>Scotland</td>\n",
              "      <td>England</td>\n",
              "      <td>2</td>\n",
              "      <td>1</td>\n",
              "      <td>Friendly</td>\n",
              "      <td>Glasgow</td>\n",
              "      <td>Scotland</td>\n",
              "      <td>False</td>\n",
              "    </tr>\n",
              "    <tr>\n",
              "      <th>3</th>\n",
              "      <td>1875-03-06</td>\n",
              "      <td>England</td>\n",
              "      <td>Scotland</td>\n",
              "      <td>2</td>\n",
              "      <td>2</td>\n",
              "      <td>Friendly</td>\n",
              "      <td>London</td>\n",
              "      <td>England</td>\n",
              "      <td>False</td>\n",
              "    </tr>\n",
              "    <tr>\n",
              "      <th>4</th>\n",
              "      <td>1876-03-04</td>\n",
              "      <td>Scotland</td>\n",
              "      <td>England</td>\n",
              "      <td>3</td>\n",
              "      <td>0</td>\n",
              "      <td>Friendly</td>\n",
              "      <td>Glasgow</td>\n",
              "      <td>Scotland</td>\n",
              "      <td>False</td>\n",
              "    </tr>\n",
              "    <tr>\n",
              "      <th>...</th>\n",
              "      <td>...</td>\n",
              "      <td>...</td>\n",
              "      <td>...</td>\n",
              "      <td>...</td>\n",
              "      <td>...</td>\n",
              "      <td>...</td>\n",
              "      <td>...</td>\n",
              "      <td>...</td>\n",
              "      <td>...</td>\n",
              "    </tr>\n",
              "    <tr>\n",
              "      <th>41635</th>\n",
              "      <td>8/9/2020</td>\n",
              "      <td>Luxembourg</td>\n",
              "      <td>Montenegro</td>\n",
              "      <td>0</td>\n",
              "      <td>1</td>\n",
              "      <td>UEFA Nations League</td>\n",
              "      <td>Luxembourg City</td>\n",
              "      <td>Luxembourg</td>\n",
              "      <td>False</td>\n",
              "    </tr>\n",
              "    <tr>\n",
              "      <th>41636</th>\n",
              "      <td>8/9/2020</td>\n",
              "      <td>Cyprus</td>\n",
              "      <td>Azerbaijan</td>\n",
              "      <td>0</td>\n",
              "      <td>1</td>\n",
              "      <td>UEFA Nations League</td>\n",
              "      <td>Nicosia</td>\n",
              "      <td>Cyprus</td>\n",
              "      <td>False</td>\n",
              "    </tr>\n",
              "    <tr>\n",
              "      <th>41637</th>\n",
              "      <td>8/9/2020</td>\n",
              "      <td>Armenia</td>\n",
              "      <td>Estonia</td>\n",
              "      <td>2</td>\n",
              "      <td>0</td>\n",
              "      <td>UEFA Nations League</td>\n",
              "      <td>Yerevan</td>\n",
              "      <td>Armenia</td>\n",
              "      <td>False</td>\n",
              "    </tr>\n",
              "    <tr>\n",
              "      <th>41638</th>\n",
              "      <td>8/9/2020</td>\n",
              "      <td>Georgia</td>\n",
              "      <td>North Macedonia</td>\n",
              "      <td>1</td>\n",
              "      <td>1</td>\n",
              "      <td>UEFA Nations League</td>\n",
              "      <td>Tbilisi</td>\n",
              "      <td>Georgia</td>\n",
              "      <td>False</td>\n",
              "    </tr>\n",
              "    <tr>\n",
              "      <th>41639</th>\n",
              "      <td>8/9/2020</td>\n",
              "      <td>San Marino</td>\n",
              "      <td>Liechtenstein</td>\n",
              "      <td>0</td>\n",
              "      <td>2</td>\n",
              "      <td>UEFA Nations League</td>\n",
              "      <td>Rimini</td>\n",
              "      <td>Italy</td>\n",
              "      <td>True</td>\n",
              "    </tr>\n",
              "  </tbody>\n",
              "</table>\n",
              "<p>41640 rows × 9 columns</p>\n",
              "</div>"
            ],
            "text/plain": [
              "             date   home_team  ...     country  neutral\n",
              "0      1872-11-30    Scotland  ...    Scotland    False\n",
              "1      1873-03-08     England  ...     England    False\n",
              "2      1874-03-07    Scotland  ...    Scotland    False\n",
              "3      1875-03-06     England  ...     England    False\n",
              "4      1876-03-04    Scotland  ...    Scotland    False\n",
              "...           ...         ...  ...         ...      ...\n",
              "41635    8/9/2020  Luxembourg  ...  Luxembourg    False\n",
              "41636    8/9/2020      Cyprus  ...      Cyprus    False\n",
              "41637    8/9/2020     Armenia  ...     Armenia    False\n",
              "41638    8/9/2020     Georgia  ...     Georgia    False\n",
              "41639    8/9/2020  San Marino  ...       Italy     True\n",
              "\n",
              "[41640 rows x 9 columns]"
            ]
          },
          "metadata": {
            "tags": []
          },
          "execution_count": 15
        }
      ]
    },
    {
      "cell_type": "code",
      "metadata": {
        "id": "3bTh_B0Zm1c0"
      },
      "source": [
        "matches =  matches.replace({'Germany DR': 'Germany', 'China': 'China PR'})#เปลี่ยนชื่อจาก Germany DR เเละ China ให้เป็น Germany กับ China PR ตามลำดับ"
      ],
      "execution_count": null,
      "outputs": []
    },
    {
      "cell_type": "code",
      "metadata": {
        "id": "DQnQKlZ7tsqq",
        "colab": {
          "base_uri": "https://localhost:8080/"
        },
        "outputId": "e93b5de5-9f85-48a6-bc92-09311a1f342e"
      },
      "source": [
        "matches.info()"
      ],
      "execution_count": null,
      "outputs": [
        {
          "output_type": "stream",
          "text": [
            "<class 'pandas.core.frame.DataFrame'>\n",
            "RangeIndex: 41640 entries, 0 to 41639\n",
            "Data columns (total 9 columns):\n",
            " #   Column      Non-Null Count  Dtype \n",
            "---  ------      --------------  ----- \n",
            " 0   date        41640 non-null  object\n",
            " 1   home_team   41640 non-null  object\n",
            " 2   away_team   41640 non-null  object\n",
            " 3   home_score  41640 non-null  int64 \n",
            " 4   away_score  41640 non-null  int64 \n",
            " 5   tournament  41640 non-null  object\n",
            " 6   city        41640 non-null  object\n",
            " 7   country     41640 non-null  object\n",
            " 8   neutral     41640 non-null  bool  \n",
            "dtypes: bool(1), int64(2), object(6)\n",
            "memory usage: 2.6+ MB\n"
          ],
          "name": "stdout"
        }
      ]
    },
    {
      "cell_type": "code",
      "metadata": {
        "id": "3rmze1oBm1hX"
      },
      "source": [
        "matches['date'] = pd.to_datetime(matches['date'])  "
      ],
      "execution_count": null,
      "outputs": []
    },
    {
      "cell_type": "code",
      "metadata": {
        "id": "Xb4714gXr9f7",
        "colab": {
          "base_uri": "https://localhost:8080/"
        },
        "outputId": "290a3afa-c68d-42e4-d534-397ea2f6a30d"
      },
      "source": [
        "matches.info()"
      ],
      "execution_count": null,
      "outputs": [
        {
          "output_type": "stream",
          "text": [
            "<class 'pandas.core.frame.DataFrame'>\n",
            "RangeIndex: 41640 entries, 0 to 41639\n",
            "Data columns (total 9 columns):\n",
            " #   Column      Non-Null Count  Dtype         \n",
            "---  ------      --------------  -----         \n",
            " 0   date        41640 non-null  datetime64[ns]\n",
            " 1   home_team   41640 non-null  object        \n",
            " 2   away_team   41640 non-null  object        \n",
            " 3   home_score  41640 non-null  int64         \n",
            " 4   away_score  41640 non-null  int64         \n",
            " 5   tournament  41640 non-null  object        \n",
            " 6   city        41640 non-null  object        \n",
            " 7   country     41640 non-null  object        \n",
            " 8   neutral     41640 non-null  bool          \n",
            "dtypes: bool(1), datetime64[ns](1), int64(2), object(5)\n",
            "memory usage: 2.6+ MB\n"
          ],
          "name": "stdout"
        }
      ]
    },
    {
      "cell_type": "code",
      "metadata": {
        "id": "XEiQSe_ZwxWZ"
      },
      "source": [
        "# want to have the ranks for every day \n",
        "rankings = rankings.set_index(['rank_date'])\\\n",
        "            .groupby(['country_full'], group_keys=False)\\\n",
        "            .resample('D').first()\\\n",
        "            .fillna(method='ffill')\\\n",
        "            .reset_index()"
      ],
      "execution_count": null,
      "outputs": []
    },
    {
      "cell_type": "code",
      "metadata": {
        "id": "W5SXgPrWylQl",
        "colab": {
          "base_uri": "https://localhost:8080/",
          "height": 590
        },
        "outputId": "e6108e76-5bc4-43f2-d626-31891412c5b8"
      },
      "source": [
        "matches "
      ],
      "execution_count": null,
      "outputs": [
        {
          "output_type": "execute_result",
          "data": {
            "text/html": [
              "<div>\n",
              "<style scoped>\n",
              "    .dataframe tbody tr th:only-of-type {\n",
              "        vertical-align: middle;\n",
              "    }\n",
              "\n",
              "    .dataframe tbody tr th {\n",
              "        vertical-align: top;\n",
              "    }\n",
              "\n",
              "    .dataframe thead th {\n",
              "        text-align: right;\n",
              "    }\n",
              "</style>\n",
              "<table border=\"1\" class=\"dataframe\">\n",
              "  <thead>\n",
              "    <tr style=\"text-align: right;\">\n",
              "      <th></th>\n",
              "      <th>date</th>\n",
              "      <th>home_team</th>\n",
              "      <th>away_team</th>\n",
              "      <th>home_score</th>\n",
              "      <th>away_score</th>\n",
              "      <th>tournament</th>\n",
              "      <th>city</th>\n",
              "      <th>country</th>\n",
              "      <th>neutral</th>\n",
              "    </tr>\n",
              "  </thead>\n",
              "  <tbody>\n",
              "    <tr>\n",
              "      <th>0</th>\n",
              "      <td>1872-11-30</td>\n",
              "      <td>Scotland</td>\n",
              "      <td>England</td>\n",
              "      <td>0</td>\n",
              "      <td>0</td>\n",
              "      <td>Friendly</td>\n",
              "      <td>Glasgow</td>\n",
              "      <td>Scotland</td>\n",
              "      <td>False</td>\n",
              "    </tr>\n",
              "    <tr>\n",
              "      <th>1</th>\n",
              "      <td>1873-03-08</td>\n",
              "      <td>England</td>\n",
              "      <td>Scotland</td>\n",
              "      <td>4</td>\n",
              "      <td>2</td>\n",
              "      <td>Friendly</td>\n",
              "      <td>London</td>\n",
              "      <td>England</td>\n",
              "      <td>False</td>\n",
              "    </tr>\n",
              "    <tr>\n",
              "      <th>2</th>\n",
              "      <td>1874-03-07</td>\n",
              "      <td>Scotland</td>\n",
              "      <td>England</td>\n",
              "      <td>2</td>\n",
              "      <td>1</td>\n",
              "      <td>Friendly</td>\n",
              "      <td>Glasgow</td>\n",
              "      <td>Scotland</td>\n",
              "      <td>False</td>\n",
              "    </tr>\n",
              "    <tr>\n",
              "      <th>3</th>\n",
              "      <td>1875-03-06</td>\n",
              "      <td>England</td>\n",
              "      <td>Scotland</td>\n",
              "      <td>2</td>\n",
              "      <td>2</td>\n",
              "      <td>Friendly</td>\n",
              "      <td>London</td>\n",
              "      <td>England</td>\n",
              "      <td>False</td>\n",
              "    </tr>\n",
              "    <tr>\n",
              "      <th>4</th>\n",
              "      <td>1876-03-04</td>\n",
              "      <td>Scotland</td>\n",
              "      <td>England</td>\n",
              "      <td>3</td>\n",
              "      <td>0</td>\n",
              "      <td>Friendly</td>\n",
              "      <td>Glasgow</td>\n",
              "      <td>Scotland</td>\n",
              "      <td>False</td>\n",
              "    </tr>\n",
              "    <tr>\n",
              "      <th>...</th>\n",
              "      <td>...</td>\n",
              "      <td>...</td>\n",
              "      <td>...</td>\n",
              "      <td>...</td>\n",
              "      <td>...</td>\n",
              "      <td>...</td>\n",
              "      <td>...</td>\n",
              "      <td>...</td>\n",
              "      <td>...</td>\n",
              "    </tr>\n",
              "    <tr>\n",
              "      <th>41635</th>\n",
              "      <td>2020-08-09</td>\n",
              "      <td>Luxembourg</td>\n",
              "      <td>Montenegro</td>\n",
              "      <td>0</td>\n",
              "      <td>1</td>\n",
              "      <td>UEFA Nations League</td>\n",
              "      <td>Luxembourg City</td>\n",
              "      <td>Luxembourg</td>\n",
              "      <td>False</td>\n",
              "    </tr>\n",
              "    <tr>\n",
              "      <th>41636</th>\n",
              "      <td>2020-08-09</td>\n",
              "      <td>Cyprus</td>\n",
              "      <td>Azerbaijan</td>\n",
              "      <td>0</td>\n",
              "      <td>1</td>\n",
              "      <td>UEFA Nations League</td>\n",
              "      <td>Nicosia</td>\n",
              "      <td>Cyprus</td>\n",
              "      <td>False</td>\n",
              "    </tr>\n",
              "    <tr>\n",
              "      <th>41637</th>\n",
              "      <td>2020-08-09</td>\n",
              "      <td>Armenia</td>\n",
              "      <td>Estonia</td>\n",
              "      <td>2</td>\n",
              "      <td>0</td>\n",
              "      <td>UEFA Nations League</td>\n",
              "      <td>Yerevan</td>\n",
              "      <td>Armenia</td>\n",
              "      <td>False</td>\n",
              "    </tr>\n",
              "    <tr>\n",
              "      <th>41638</th>\n",
              "      <td>2020-08-09</td>\n",
              "      <td>Georgia</td>\n",
              "      <td>North Macedonia</td>\n",
              "      <td>1</td>\n",
              "      <td>1</td>\n",
              "      <td>UEFA Nations League</td>\n",
              "      <td>Tbilisi</td>\n",
              "      <td>Georgia</td>\n",
              "      <td>False</td>\n",
              "    </tr>\n",
              "    <tr>\n",
              "      <th>41639</th>\n",
              "      <td>2020-08-09</td>\n",
              "      <td>San Marino</td>\n",
              "      <td>Liechtenstein</td>\n",
              "      <td>0</td>\n",
              "      <td>2</td>\n",
              "      <td>UEFA Nations League</td>\n",
              "      <td>Rimini</td>\n",
              "      <td>Italy</td>\n",
              "      <td>True</td>\n",
              "    </tr>\n",
              "  </tbody>\n",
              "</table>\n",
              "<p>41640 rows × 9 columns</p>\n",
              "</div>"
            ],
            "text/plain": [
              "            date   home_team  ...     country  neutral\n",
              "0     1872-11-30    Scotland  ...    Scotland    False\n",
              "1     1873-03-08     England  ...     England    False\n",
              "2     1874-03-07    Scotland  ...    Scotland    False\n",
              "3     1875-03-06     England  ...     England    False\n",
              "4     1876-03-04    Scotland  ...    Scotland    False\n",
              "...          ...         ...  ...         ...      ...\n",
              "41635 2020-08-09  Luxembourg  ...  Luxembourg    False\n",
              "41636 2020-08-09      Cyprus  ...      Cyprus    False\n",
              "41637 2020-08-09     Armenia  ...     Armenia    False\n",
              "41638 2020-08-09     Georgia  ...     Georgia    False\n",
              "41639 2020-08-09  San Marino  ...       Italy     True\n",
              "\n",
              "[41640 rows x 9 columns]"
            ]
          },
          "metadata": {
            "tags": []
          },
          "execution_count": 21
        }
      ]
    },
    {
      "cell_type": "code",
      "metadata": {
        "id": "AXdwfJq1xmXS"
      },
      "source": [
        "# join the ranks เป็นการนำชุดข้อมูลตาราง matches เเละ ranking เป็นรวมกัน โดยใช้คำสั่ง merge \n",
        "matches = matches.merge(rankings, \n",
        "                        left_on=['date', 'home_team'], \n",
        "                        right_on=['rank_date', 'country_full'])\n",
        "matches = matches.merge(rankings, \n",
        "                        left_on=['date', 'away_team'], \n",
        "                        right_on=['rank_date', 'country_full'], \n",
        "                        suffixes=('_home', '_away'))"
      ],
      "execution_count": null,
      "outputs": []
    },
    {
      "cell_type": "code",
      "metadata": {
        "id": "J3Rtew-30HMI",
        "colab": {
          "base_uri": "https://localhost:8080/",
          "height": 640
        },
        "outputId": "b450c88f-8c16-4163-ee5d-7939f0baefeb"
      },
      "source": [
        "matches"
      ],
      "execution_count": null,
      "outputs": [
        {
          "output_type": "execute_result",
          "data": {
            "text/html": [
              "<div>\n",
              "<style scoped>\n",
              "    .dataframe tbody tr th:only-of-type {\n",
              "        vertical-align: middle;\n",
              "    }\n",
              "\n",
              "    .dataframe tbody tr th {\n",
              "        vertical-align: top;\n",
              "    }\n",
              "\n",
              "    .dataframe thead th {\n",
              "        text-align: right;\n",
              "    }\n",
              "</style>\n",
              "<table border=\"1\" class=\"dataframe\">\n",
              "  <thead>\n",
              "    <tr style=\"text-align: right;\">\n",
              "      <th></th>\n",
              "      <th>date</th>\n",
              "      <th>home_team</th>\n",
              "      <th>away_team</th>\n",
              "      <th>home_score</th>\n",
              "      <th>away_score</th>\n",
              "      <th>tournament</th>\n",
              "      <th>city</th>\n",
              "      <th>country</th>\n",
              "      <th>neutral</th>\n",
              "      <th>rank_date_home</th>\n",
              "      <th>rank_home</th>\n",
              "      <th>country_full_home</th>\n",
              "      <th>country_abrv_home</th>\n",
              "      <th>cur_year_avg_weighted_home</th>\n",
              "      <th>two_year_ago_weighted_home</th>\n",
              "      <th>three_year_ago_weighted_home</th>\n",
              "      <th>weighted_points_home</th>\n",
              "      <th>rank_date_away</th>\n",
              "      <th>rank_away</th>\n",
              "      <th>country_full_away</th>\n",
              "      <th>country_abrv_away</th>\n",
              "      <th>cur_year_avg_weighted_away</th>\n",
              "      <th>two_year_ago_weighted_away</th>\n",
              "      <th>three_year_ago_weighted_away</th>\n",
              "      <th>weighted_points_away</th>\n",
              "    </tr>\n",
              "  </thead>\n",
              "  <tbody>\n",
              "    <tr>\n",
              "      <th>0</th>\n",
              "      <td>1993-09-01</td>\n",
              "      <td>Sierra Leone</td>\n",
              "      <td>Togo</td>\n",
              "      <td>0</td>\n",
              "      <td>0</td>\n",
              "      <td>African Cup of Nations qualification</td>\n",
              "      <td>Conakry</td>\n",
              "      <td>Guinea</td>\n",
              "      <td>True</td>\n",
              "      <td>1993-09-01</td>\n",
              "      <td>86.0</td>\n",
              "      <td>Sierra Leone</td>\n",
              "      <td>SLE</td>\n",
              "      <td>0.00</td>\n",
              "      <td>0.00</td>\n",
              "      <td>0.00</td>\n",
              "      <td>0.00</td>\n",
              "      <td>1993-09-01</td>\n",
              "      <td>114.0</td>\n",
              "      <td>Togo</td>\n",
              "      <td>TOG</td>\n",
              "      <td>0.00</td>\n",
              "      <td>0.00</td>\n",
              "      <td>0.00</td>\n",
              "      <td>0.00</td>\n",
              "    </tr>\n",
              "    <tr>\n",
              "      <th>1</th>\n",
              "      <td>1993-10-01</td>\n",
              "      <td>Angola</td>\n",
              "      <td>Zimbabwe</td>\n",
              "      <td>1</td>\n",
              "      <td>1</td>\n",
              "      <td>FIFA World Cup qualification</td>\n",
              "      <td>Luanda</td>\n",
              "      <td>Angola</td>\n",
              "      <td>False</td>\n",
              "      <td>1993-10-01</td>\n",
              "      <td>97.0</td>\n",
              "      <td>Angola</td>\n",
              "      <td>ANG</td>\n",
              "      <td>0.00</td>\n",
              "      <td>0.00</td>\n",
              "      <td>0.00</td>\n",
              "      <td>0.00</td>\n",
              "      <td>1993-10-01</td>\n",
              "      <td>47.0</td>\n",
              "      <td>Zimbabwe</td>\n",
              "      <td>ZIM</td>\n",
              "      <td>0.00</td>\n",
              "      <td>0.00</td>\n",
              "      <td>0.00</td>\n",
              "      <td>0.00</td>\n",
              "    </tr>\n",
              "    <tr>\n",
              "      <th>2</th>\n",
              "      <td>1993-10-01</td>\n",
              "      <td>Botswana</td>\n",
              "      <td>South Africa</td>\n",
              "      <td>0</td>\n",
              "      <td>2</td>\n",
              "      <td>Friendly</td>\n",
              "      <td>Gaborone</td>\n",
              "      <td>Botswana</td>\n",
              "      <td>False</td>\n",
              "      <td>1993-10-01</td>\n",
              "      <td>136.0</td>\n",
              "      <td>Botswana</td>\n",
              "      <td>BOT</td>\n",
              "      <td>0.00</td>\n",
              "      <td>0.00</td>\n",
              "      <td>0.00</td>\n",
              "      <td>0.00</td>\n",
              "      <td>1993-10-01</td>\n",
              "      <td>95.0</td>\n",
              "      <td>South Africa</td>\n",
              "      <td>RSA</td>\n",
              "      <td>0.00</td>\n",
              "      <td>0.00</td>\n",
              "      <td>0.00</td>\n",
              "      <td>0.00</td>\n",
              "    </tr>\n",
              "    <tr>\n",
              "      <th>3</th>\n",
              "      <td>1993-10-01</td>\n",
              "      <td>Senegal</td>\n",
              "      <td>Algeria</td>\n",
              "      <td>1</td>\n",
              "      <td>2</td>\n",
              "      <td>African Cup of Nations qualification</td>\n",
              "      <td>Dakar</td>\n",
              "      <td>Senegal</td>\n",
              "      <td>False</td>\n",
              "      <td>1993-10-01</td>\n",
              "      <td>57.0</td>\n",
              "      <td>Senegal</td>\n",
              "      <td>SEN</td>\n",
              "      <td>0.00</td>\n",
              "      <td>0.00</td>\n",
              "      <td>0.00</td>\n",
              "      <td>0.00</td>\n",
              "      <td>1993-10-01</td>\n",
              "      <td>30.0</td>\n",
              "      <td>Algeria</td>\n",
              "      <td>ALG</td>\n",
              "      <td>0.00</td>\n",
              "      <td>0.00</td>\n",
              "      <td>0.00</td>\n",
              "      <td>0.00</td>\n",
              "    </tr>\n",
              "    <tr>\n",
              "      <th>4</th>\n",
              "      <td>1993-10-01</td>\n",
              "      <td>Tunisia</td>\n",
              "      <td>Bulgaria</td>\n",
              "      <td>3</td>\n",
              "      <td>0</td>\n",
              "      <td>Friendly</td>\n",
              "      <td>Béja</td>\n",
              "      <td>Tunisia</td>\n",
              "      <td>False</td>\n",
              "      <td>1993-10-01</td>\n",
              "      <td>34.0</td>\n",
              "      <td>Tunisia</td>\n",
              "      <td>TUN</td>\n",
              "      <td>0.00</td>\n",
              "      <td>0.00</td>\n",
              "      <td>0.00</td>\n",
              "      <td>0.00</td>\n",
              "      <td>1993-10-01</td>\n",
              "      <td>37.0</td>\n",
              "      <td>Bulgaria</td>\n",
              "      <td>BUL</td>\n",
              "      <td>0.00</td>\n",
              "      <td>0.00</td>\n",
              "      <td>0.00</td>\n",
              "      <td>0.00</td>\n",
              "    </tr>\n",
              "    <tr>\n",
              "      <th>...</th>\n",
              "      <td>...</td>\n",
              "      <td>...</td>\n",
              "      <td>...</td>\n",
              "      <td>...</td>\n",
              "      <td>...</td>\n",
              "      <td>...</td>\n",
              "      <td>...</td>\n",
              "      <td>...</td>\n",
              "      <td>...</td>\n",
              "      <td>...</td>\n",
              "      <td>...</td>\n",
              "      <td>...</td>\n",
              "      <td>...</td>\n",
              "      <td>...</td>\n",
              "      <td>...</td>\n",
              "      <td>...</td>\n",
              "      <td>...</td>\n",
              "      <td>...</td>\n",
              "      <td>...</td>\n",
              "      <td>...</td>\n",
              "      <td>...</td>\n",
              "      <td>...</td>\n",
              "      <td>...</td>\n",
              "      <td>...</td>\n",
              "      <td>...</td>\n",
              "    </tr>\n",
              "    <tr>\n",
              "      <th>18229</th>\n",
              "      <td>2018-01-12</td>\n",
              "      <td>Malaysia</td>\n",
              "      <td>Thailand</td>\n",
              "      <td>0</td>\n",
              "      <td>0</td>\n",
              "      <td>AFF Championship</td>\n",
              "      <td>Kuala Lumpur</td>\n",
              "      <td>Malaysia</td>\n",
              "      <td>False</td>\n",
              "      <td>2018-01-12</td>\n",
              "      <td>174.0</td>\n",
              "      <td>Malaysia</td>\n",
              "      <td>MAS</td>\n",
              "      <td>22.42</td>\n",
              "      <td>23.18</td>\n",
              "      <td>13.98</td>\n",
              "      <td>59.58</td>\n",
              "      <td>2018-01-12</td>\n",
              "      <td>130.0</td>\n",
              "      <td>Thailand</td>\n",
              "      <td>THA</td>\n",
              "      <td>100.06</td>\n",
              "      <td>60.31</td>\n",
              "      <td>20.27</td>\n",
              "      <td>180.64</td>\n",
              "    </tr>\n",
              "    <tr>\n",
              "      <th>18230</th>\n",
              "      <td>2018-02-12</td>\n",
              "      <td>Philippines</td>\n",
              "      <td>Vietnam</td>\n",
              "      <td>1</td>\n",
              "      <td>2</td>\n",
              "      <td>AFF Championship</td>\n",
              "      <td>Bacolod</td>\n",
              "      <td>Philippines</td>\n",
              "      <td>False</td>\n",
              "      <td>2018-02-12</td>\n",
              "      <td>123.0</td>\n",
              "      <td>Philippines</td>\n",
              "      <td>PHI</td>\n",
              "      <td>126.44</td>\n",
              "      <td>44.86</td>\n",
              "      <td>21.57</td>\n",
              "      <td>192.87</td>\n",
              "      <td>2018-02-12</td>\n",
              "      <td>112.0</td>\n",
              "      <td>Vietnam</td>\n",
              "      <td>VIE</td>\n",
              "      <td>180.98</td>\n",
              "      <td>36.34</td>\n",
              "      <td>24.53</td>\n",
              "      <td>241.85</td>\n",
              "    </tr>\n",
              "    <tr>\n",
              "      <th>18231</th>\n",
              "      <td>2018-05-12</td>\n",
              "      <td>Thailand</td>\n",
              "      <td>Malaysia</td>\n",
              "      <td>2</td>\n",
              "      <td>2</td>\n",
              "      <td>AFF Championship</td>\n",
              "      <td>Bangkok</td>\n",
              "      <td>Thailand</td>\n",
              "      <td>False</td>\n",
              "      <td>2018-05-12</td>\n",
              "      <td>129.0</td>\n",
              "      <td>Thailand</td>\n",
              "      <td>THA</td>\n",
              "      <td>100.06</td>\n",
              "      <td>60.31</td>\n",
              "      <td>22.12</td>\n",
              "      <td>182.49</td>\n",
              "      <td>2018-05-12</td>\n",
              "      <td>178.0</td>\n",
              "      <td>Malaysia</td>\n",
              "      <td>MAS</td>\n",
              "      <td>22.42</td>\n",
              "      <td>23.18</td>\n",
              "      <td>10.21</td>\n",
              "      <td>55.81</td>\n",
              "    </tr>\n",
              "    <tr>\n",
              "      <th>18232</th>\n",
              "      <td>2018-06-12</td>\n",
              "      <td>Vietnam</td>\n",
              "      <td>Philippines</td>\n",
              "      <td>2</td>\n",
              "      <td>1</td>\n",
              "      <td>AFF Championship</td>\n",
              "      <td>Hanoi</td>\n",
              "      <td>Vietnam</td>\n",
              "      <td>False</td>\n",
              "      <td>2018-06-12</td>\n",
              "      <td>102.0</td>\n",
              "      <td>Vietnam</td>\n",
              "      <td>VIE</td>\n",
              "      <td>222.70</td>\n",
              "      <td>44.09</td>\n",
              "      <td>18.15</td>\n",
              "      <td>284.94</td>\n",
              "      <td>2018-06-12</td>\n",
              "      <td>111.0</td>\n",
              "      <td>Philippines</td>\n",
              "      <td>PHI</td>\n",
              "      <td>151.51</td>\n",
              "      <td>62.40</td>\n",
              "      <td>22.76</td>\n",
              "      <td>236.67</td>\n",
              "    </tr>\n",
              "    <tr>\n",
              "      <th>18233</th>\n",
              "      <td>2018-11-12</td>\n",
              "      <td>Malaysia</td>\n",
              "      <td>Vietnam</td>\n",
              "      <td>2</td>\n",
              "      <td>2</td>\n",
              "      <td>AFF Championship</td>\n",
              "      <td>Kuala Lumpur</td>\n",
              "      <td>Malaysia</td>\n",
              "      <td>False</td>\n",
              "      <td>2018-11-12</td>\n",
              "      <td>171.0</td>\n",
              "      <td>Malaysia</td>\n",
              "      <td>MAS</td>\n",
              "      <td>28.48</td>\n",
              "      <td>32.79</td>\n",
              "      <td>9.39</td>\n",
              "      <td>70.66</td>\n",
              "      <td>2018-11-12</td>\n",
              "      <td>102.0</td>\n",
              "      <td>Vietnam</td>\n",
              "      <td>VIE</td>\n",
              "      <td>222.70</td>\n",
              "      <td>47.52</td>\n",
              "      <td>16.50</td>\n",
              "      <td>286.72</td>\n",
              "    </tr>\n",
              "  </tbody>\n",
              "</table>\n",
              "<p>18234 rows × 25 columns</p>\n",
              "</div>"
            ],
            "text/plain": [
              "            date  ... weighted_points_away\n",
              "0     1993-09-01  ...                 0.00\n",
              "1     1993-10-01  ...                 0.00\n",
              "2     1993-10-01  ...                 0.00\n",
              "3     1993-10-01  ...                 0.00\n",
              "4     1993-10-01  ...                 0.00\n",
              "...          ...  ...                  ...\n",
              "18229 2018-01-12  ...               180.64\n",
              "18230 2018-02-12  ...               241.85\n",
              "18231 2018-05-12  ...                55.81\n",
              "18232 2018-06-12  ...               236.67\n",
              "18233 2018-11-12  ...               286.72\n",
              "\n",
              "[18234 rows x 25 columns]"
            ]
          },
          "metadata": {
            "tags": []
          },
          "execution_count": 23
        }
      ]
    },
    {
      "cell_type": "code",
      "metadata": {
        "id": "qNVD418b0IXm"
      },
      "source": [
        "# สร้าง column เพื่อ นำมาใช้ในกระบวนการ classification ตามลำดับ\n",
        "matches['rank_difference'] = abs(matches['rank_home'] - matches['rank_away'])\n",
        "matches['average_rank'] = (matches['rank_home'] + matches['rank_away'])/2\n",
        "matches['point_difference'] = abs(matches['weighted_points_home'] - matches['weighted_points_away'])\n",
        "matches['score_difference'] = abs(matches['home_score'] - matches['away_score'])\n",
        "matches['is_won'] = matches['score_difference'] >0\n",
        "matches['is_stake'] = matches['tournament'] != 'Friendly'"
      ],
      "execution_count": null,
      "outputs": []
    },
    {
      "cell_type": "code",
      "metadata": {
        "id": "TmpPauub2d5y",
        "colab": {
          "base_uri": "https://localhost:8080/",
          "height": 640
        },
        "outputId": "7e80810d-effe-4fe1-8d2f-f75eef7d8287"
      },
      "source": [
        "matches"
      ],
      "execution_count": null,
      "outputs": [
        {
          "output_type": "execute_result",
          "data": {
            "text/html": [
              "<div>\n",
              "<style scoped>\n",
              "    .dataframe tbody tr th:only-of-type {\n",
              "        vertical-align: middle;\n",
              "    }\n",
              "\n",
              "    .dataframe tbody tr th {\n",
              "        vertical-align: top;\n",
              "    }\n",
              "\n",
              "    .dataframe thead th {\n",
              "        text-align: right;\n",
              "    }\n",
              "</style>\n",
              "<table border=\"1\" class=\"dataframe\">\n",
              "  <thead>\n",
              "    <tr style=\"text-align: right;\">\n",
              "      <th></th>\n",
              "      <th>date</th>\n",
              "      <th>home_team</th>\n",
              "      <th>away_team</th>\n",
              "      <th>home_score</th>\n",
              "      <th>away_score</th>\n",
              "      <th>tournament</th>\n",
              "      <th>city</th>\n",
              "      <th>country</th>\n",
              "      <th>neutral</th>\n",
              "      <th>rank_date_home</th>\n",
              "      <th>rank_home</th>\n",
              "      <th>country_full_home</th>\n",
              "      <th>country_abrv_home</th>\n",
              "      <th>cur_year_avg_weighted_home</th>\n",
              "      <th>two_year_ago_weighted_home</th>\n",
              "      <th>three_year_ago_weighted_home</th>\n",
              "      <th>weighted_points_home</th>\n",
              "      <th>rank_date_away</th>\n",
              "      <th>rank_away</th>\n",
              "      <th>country_full_away</th>\n",
              "      <th>country_abrv_away</th>\n",
              "      <th>cur_year_avg_weighted_away</th>\n",
              "      <th>two_year_ago_weighted_away</th>\n",
              "      <th>three_year_ago_weighted_away</th>\n",
              "      <th>weighted_points_away</th>\n",
              "      <th>rank_difference</th>\n",
              "      <th>average_rank</th>\n",
              "      <th>point_difference</th>\n",
              "      <th>score_difference</th>\n",
              "      <th>is_won</th>\n",
              "      <th>is_stake</th>\n",
              "    </tr>\n",
              "  </thead>\n",
              "  <tbody>\n",
              "    <tr>\n",
              "      <th>0</th>\n",
              "      <td>1993-09-01</td>\n",
              "      <td>Sierra Leone</td>\n",
              "      <td>Togo</td>\n",
              "      <td>0</td>\n",
              "      <td>0</td>\n",
              "      <td>African Cup of Nations qualification</td>\n",
              "      <td>Conakry</td>\n",
              "      <td>Guinea</td>\n",
              "      <td>True</td>\n",
              "      <td>1993-09-01</td>\n",
              "      <td>86.0</td>\n",
              "      <td>Sierra Leone</td>\n",
              "      <td>SLE</td>\n",
              "      <td>0.00</td>\n",
              "      <td>0.00</td>\n",
              "      <td>0.00</td>\n",
              "      <td>0.00</td>\n",
              "      <td>1993-09-01</td>\n",
              "      <td>114.0</td>\n",
              "      <td>Togo</td>\n",
              "      <td>TOG</td>\n",
              "      <td>0.00</td>\n",
              "      <td>0.00</td>\n",
              "      <td>0.00</td>\n",
              "      <td>0.00</td>\n",
              "      <td>-28.0</td>\n",
              "      <td>100.0</td>\n",
              "      <td>0.00</td>\n",
              "      <td>0</td>\n",
              "      <td>False</td>\n",
              "      <td>True</td>\n",
              "    </tr>\n",
              "    <tr>\n",
              "      <th>1</th>\n",
              "      <td>1993-10-01</td>\n",
              "      <td>Angola</td>\n",
              "      <td>Zimbabwe</td>\n",
              "      <td>1</td>\n",
              "      <td>1</td>\n",
              "      <td>FIFA World Cup qualification</td>\n",
              "      <td>Luanda</td>\n",
              "      <td>Angola</td>\n",
              "      <td>False</td>\n",
              "      <td>1993-10-01</td>\n",
              "      <td>97.0</td>\n",
              "      <td>Angola</td>\n",
              "      <td>ANG</td>\n",
              "      <td>0.00</td>\n",
              "      <td>0.00</td>\n",
              "      <td>0.00</td>\n",
              "      <td>0.00</td>\n",
              "      <td>1993-10-01</td>\n",
              "      <td>47.0</td>\n",
              "      <td>Zimbabwe</td>\n",
              "      <td>ZIM</td>\n",
              "      <td>0.00</td>\n",
              "      <td>0.00</td>\n",
              "      <td>0.00</td>\n",
              "      <td>0.00</td>\n",
              "      <td>50.0</td>\n",
              "      <td>72.0</td>\n",
              "      <td>0.00</td>\n",
              "      <td>0</td>\n",
              "      <td>False</td>\n",
              "      <td>True</td>\n",
              "    </tr>\n",
              "    <tr>\n",
              "      <th>2</th>\n",
              "      <td>1993-10-01</td>\n",
              "      <td>Botswana</td>\n",
              "      <td>South Africa</td>\n",
              "      <td>0</td>\n",
              "      <td>2</td>\n",
              "      <td>Friendly</td>\n",
              "      <td>Gaborone</td>\n",
              "      <td>Botswana</td>\n",
              "      <td>False</td>\n",
              "      <td>1993-10-01</td>\n",
              "      <td>136.0</td>\n",
              "      <td>Botswana</td>\n",
              "      <td>BOT</td>\n",
              "      <td>0.00</td>\n",
              "      <td>0.00</td>\n",
              "      <td>0.00</td>\n",
              "      <td>0.00</td>\n",
              "      <td>1993-10-01</td>\n",
              "      <td>95.0</td>\n",
              "      <td>South Africa</td>\n",
              "      <td>RSA</td>\n",
              "      <td>0.00</td>\n",
              "      <td>0.00</td>\n",
              "      <td>0.00</td>\n",
              "      <td>0.00</td>\n",
              "      <td>41.0</td>\n",
              "      <td>115.5</td>\n",
              "      <td>0.00</td>\n",
              "      <td>2</td>\n",
              "      <td>True</td>\n",
              "      <td>False</td>\n",
              "    </tr>\n",
              "    <tr>\n",
              "      <th>3</th>\n",
              "      <td>1993-10-01</td>\n",
              "      <td>Senegal</td>\n",
              "      <td>Algeria</td>\n",
              "      <td>1</td>\n",
              "      <td>2</td>\n",
              "      <td>African Cup of Nations qualification</td>\n",
              "      <td>Dakar</td>\n",
              "      <td>Senegal</td>\n",
              "      <td>False</td>\n",
              "      <td>1993-10-01</td>\n",
              "      <td>57.0</td>\n",
              "      <td>Senegal</td>\n",
              "      <td>SEN</td>\n",
              "      <td>0.00</td>\n",
              "      <td>0.00</td>\n",
              "      <td>0.00</td>\n",
              "      <td>0.00</td>\n",
              "      <td>1993-10-01</td>\n",
              "      <td>30.0</td>\n",
              "      <td>Algeria</td>\n",
              "      <td>ALG</td>\n",
              "      <td>0.00</td>\n",
              "      <td>0.00</td>\n",
              "      <td>0.00</td>\n",
              "      <td>0.00</td>\n",
              "      <td>27.0</td>\n",
              "      <td>43.5</td>\n",
              "      <td>0.00</td>\n",
              "      <td>1</td>\n",
              "      <td>True</td>\n",
              "      <td>True</td>\n",
              "    </tr>\n",
              "    <tr>\n",
              "      <th>4</th>\n",
              "      <td>1993-10-01</td>\n",
              "      <td>Tunisia</td>\n",
              "      <td>Bulgaria</td>\n",
              "      <td>3</td>\n",
              "      <td>0</td>\n",
              "      <td>Friendly</td>\n",
              "      <td>Béja</td>\n",
              "      <td>Tunisia</td>\n",
              "      <td>False</td>\n",
              "      <td>1993-10-01</td>\n",
              "      <td>34.0</td>\n",
              "      <td>Tunisia</td>\n",
              "      <td>TUN</td>\n",
              "      <td>0.00</td>\n",
              "      <td>0.00</td>\n",
              "      <td>0.00</td>\n",
              "      <td>0.00</td>\n",
              "      <td>1993-10-01</td>\n",
              "      <td>37.0</td>\n",
              "      <td>Bulgaria</td>\n",
              "      <td>BUL</td>\n",
              "      <td>0.00</td>\n",
              "      <td>0.00</td>\n",
              "      <td>0.00</td>\n",
              "      <td>0.00</td>\n",
              "      <td>-3.0</td>\n",
              "      <td>35.5</td>\n",
              "      <td>0.00</td>\n",
              "      <td>3</td>\n",
              "      <td>True</td>\n",
              "      <td>False</td>\n",
              "    </tr>\n",
              "    <tr>\n",
              "      <th>...</th>\n",
              "      <td>...</td>\n",
              "      <td>...</td>\n",
              "      <td>...</td>\n",
              "      <td>...</td>\n",
              "      <td>...</td>\n",
              "      <td>...</td>\n",
              "      <td>...</td>\n",
              "      <td>...</td>\n",
              "      <td>...</td>\n",
              "      <td>...</td>\n",
              "      <td>...</td>\n",
              "      <td>...</td>\n",
              "      <td>...</td>\n",
              "      <td>...</td>\n",
              "      <td>...</td>\n",
              "      <td>...</td>\n",
              "      <td>...</td>\n",
              "      <td>...</td>\n",
              "      <td>...</td>\n",
              "      <td>...</td>\n",
              "      <td>...</td>\n",
              "      <td>...</td>\n",
              "      <td>...</td>\n",
              "      <td>...</td>\n",
              "      <td>...</td>\n",
              "      <td>...</td>\n",
              "      <td>...</td>\n",
              "      <td>...</td>\n",
              "      <td>...</td>\n",
              "      <td>...</td>\n",
              "      <td>...</td>\n",
              "    </tr>\n",
              "    <tr>\n",
              "      <th>18229</th>\n",
              "      <td>2018-01-12</td>\n",
              "      <td>Malaysia</td>\n",
              "      <td>Thailand</td>\n",
              "      <td>0</td>\n",
              "      <td>0</td>\n",
              "      <td>AFF Championship</td>\n",
              "      <td>Kuala Lumpur</td>\n",
              "      <td>Malaysia</td>\n",
              "      <td>False</td>\n",
              "      <td>2018-01-12</td>\n",
              "      <td>174.0</td>\n",
              "      <td>Malaysia</td>\n",
              "      <td>MAS</td>\n",
              "      <td>22.42</td>\n",
              "      <td>23.18</td>\n",
              "      <td>13.98</td>\n",
              "      <td>59.58</td>\n",
              "      <td>2018-01-12</td>\n",
              "      <td>130.0</td>\n",
              "      <td>Thailand</td>\n",
              "      <td>THA</td>\n",
              "      <td>100.06</td>\n",
              "      <td>60.31</td>\n",
              "      <td>20.27</td>\n",
              "      <td>180.64</td>\n",
              "      <td>44.0</td>\n",
              "      <td>152.0</td>\n",
              "      <td>-121.06</td>\n",
              "      <td>0</td>\n",
              "      <td>False</td>\n",
              "      <td>True</td>\n",
              "    </tr>\n",
              "    <tr>\n",
              "      <th>18230</th>\n",
              "      <td>2018-02-12</td>\n",
              "      <td>Philippines</td>\n",
              "      <td>Vietnam</td>\n",
              "      <td>1</td>\n",
              "      <td>2</td>\n",
              "      <td>AFF Championship</td>\n",
              "      <td>Bacolod</td>\n",
              "      <td>Philippines</td>\n",
              "      <td>False</td>\n",
              "      <td>2018-02-12</td>\n",
              "      <td>123.0</td>\n",
              "      <td>Philippines</td>\n",
              "      <td>PHI</td>\n",
              "      <td>126.44</td>\n",
              "      <td>44.86</td>\n",
              "      <td>21.57</td>\n",
              "      <td>192.87</td>\n",
              "      <td>2018-02-12</td>\n",
              "      <td>112.0</td>\n",
              "      <td>Vietnam</td>\n",
              "      <td>VIE</td>\n",
              "      <td>180.98</td>\n",
              "      <td>36.34</td>\n",
              "      <td>24.53</td>\n",
              "      <td>241.85</td>\n",
              "      <td>11.0</td>\n",
              "      <td>117.5</td>\n",
              "      <td>-48.98</td>\n",
              "      <td>1</td>\n",
              "      <td>True</td>\n",
              "      <td>True</td>\n",
              "    </tr>\n",
              "    <tr>\n",
              "      <th>18231</th>\n",
              "      <td>2018-05-12</td>\n",
              "      <td>Thailand</td>\n",
              "      <td>Malaysia</td>\n",
              "      <td>2</td>\n",
              "      <td>2</td>\n",
              "      <td>AFF Championship</td>\n",
              "      <td>Bangkok</td>\n",
              "      <td>Thailand</td>\n",
              "      <td>False</td>\n",
              "      <td>2018-05-12</td>\n",
              "      <td>129.0</td>\n",
              "      <td>Thailand</td>\n",
              "      <td>THA</td>\n",
              "      <td>100.06</td>\n",
              "      <td>60.31</td>\n",
              "      <td>22.12</td>\n",
              "      <td>182.49</td>\n",
              "      <td>2018-05-12</td>\n",
              "      <td>178.0</td>\n",
              "      <td>Malaysia</td>\n",
              "      <td>MAS</td>\n",
              "      <td>22.42</td>\n",
              "      <td>23.18</td>\n",
              "      <td>10.21</td>\n",
              "      <td>55.81</td>\n",
              "      <td>-49.0</td>\n",
              "      <td>153.5</td>\n",
              "      <td>126.68</td>\n",
              "      <td>0</td>\n",
              "      <td>False</td>\n",
              "      <td>True</td>\n",
              "    </tr>\n",
              "    <tr>\n",
              "      <th>18232</th>\n",
              "      <td>2018-06-12</td>\n",
              "      <td>Vietnam</td>\n",
              "      <td>Philippines</td>\n",
              "      <td>2</td>\n",
              "      <td>1</td>\n",
              "      <td>AFF Championship</td>\n",
              "      <td>Hanoi</td>\n",
              "      <td>Vietnam</td>\n",
              "      <td>False</td>\n",
              "      <td>2018-06-12</td>\n",
              "      <td>102.0</td>\n",
              "      <td>Vietnam</td>\n",
              "      <td>VIE</td>\n",
              "      <td>222.70</td>\n",
              "      <td>44.09</td>\n",
              "      <td>18.15</td>\n",
              "      <td>284.94</td>\n",
              "      <td>2018-06-12</td>\n",
              "      <td>111.0</td>\n",
              "      <td>Philippines</td>\n",
              "      <td>PHI</td>\n",
              "      <td>151.51</td>\n",
              "      <td>62.40</td>\n",
              "      <td>22.76</td>\n",
              "      <td>236.67</td>\n",
              "      <td>-9.0</td>\n",
              "      <td>106.5</td>\n",
              "      <td>48.27</td>\n",
              "      <td>1</td>\n",
              "      <td>True</td>\n",
              "      <td>True</td>\n",
              "    </tr>\n",
              "    <tr>\n",
              "      <th>18233</th>\n",
              "      <td>2018-11-12</td>\n",
              "      <td>Malaysia</td>\n",
              "      <td>Vietnam</td>\n",
              "      <td>2</td>\n",
              "      <td>2</td>\n",
              "      <td>AFF Championship</td>\n",
              "      <td>Kuala Lumpur</td>\n",
              "      <td>Malaysia</td>\n",
              "      <td>False</td>\n",
              "      <td>2018-11-12</td>\n",
              "      <td>171.0</td>\n",
              "      <td>Malaysia</td>\n",
              "      <td>MAS</td>\n",
              "      <td>28.48</td>\n",
              "      <td>32.79</td>\n",
              "      <td>9.39</td>\n",
              "      <td>70.66</td>\n",
              "      <td>2018-11-12</td>\n",
              "      <td>102.0</td>\n",
              "      <td>Vietnam</td>\n",
              "      <td>VIE</td>\n",
              "      <td>222.70</td>\n",
              "      <td>47.52</td>\n",
              "      <td>16.50</td>\n",
              "      <td>286.72</td>\n",
              "      <td>69.0</td>\n",
              "      <td>136.5</td>\n",
              "      <td>-216.06</td>\n",
              "      <td>0</td>\n",
              "      <td>False</td>\n",
              "      <td>True</td>\n",
              "    </tr>\n",
              "  </tbody>\n",
              "</table>\n",
              "<p>18234 rows × 31 columns</p>\n",
              "</div>"
            ],
            "text/plain": [
              "            date     home_team  ... is_won  is_stake\n",
              "0     1993-09-01  Sierra Leone  ...  False      True\n",
              "1     1993-10-01        Angola  ...  False      True\n",
              "2     1993-10-01      Botswana  ...   True     False\n",
              "3     1993-10-01       Senegal  ...   True      True\n",
              "4     1993-10-01       Tunisia  ...   True     False\n",
              "...          ...           ...  ...    ...       ...\n",
              "18229 2018-01-12      Malaysia  ...  False      True\n",
              "18230 2018-02-12   Philippines  ...   True      True\n",
              "18231 2018-05-12      Thailand  ...  False      True\n",
              "18232 2018-06-12       Vietnam  ...   True      True\n",
              "18233 2018-11-12      Malaysia  ...  False      True\n",
              "\n",
              "[18234 rows x 31 columns]"
            ]
          },
          "metadata": {
            "tags": []
          },
          "execution_count": 25
        }
      ]
    },
    {
      "cell_type": "code",
      "metadata": {
        "colab": {
          "base_uri": "https://localhost:8080/"
        },
        "id": "0ZyG9K3wbrPw",
        "outputId": "7d73e625-2d2a-4e8c-9966-ac59af7f41e5"
      },
      "source": [
        "matches['is_won'] = matches['is_won'].map({False: 0,True: 1}) # เปลี่ยนให้ ค่าข้อมูลใน is_won จาก False,True ให้เป็น 0,1 ตามลำดับ\n",
        "matches['is_won']"
      ],
      "execution_count": null,
      "outputs": [
        {
          "output_type": "execute_result",
          "data": {
            "text/plain": [
              "0        0\n",
              "1        0\n",
              "2        1\n",
              "3        1\n",
              "4        1\n",
              "        ..\n",
              "18229    0\n",
              "18230    1\n",
              "18231    0\n",
              "18232    1\n",
              "18233    0\n",
              "Name: is_won, Length: 18234, dtype: int64"
            ]
          },
          "metadata": {
            "tags": []
          },
          "execution_count": 68
        }
      ]
    },
    {
      "cell_type": "code",
      "metadata": {
        "colab": {
          "base_uri": "https://localhost:8080/",
          "height": 640
        },
        "id": "gYSre2Grhogq",
        "outputId": "065dd96c-e56c-4dcb-d4b9-b633d0c87899"
      },
      "source": [
        "matches"
      ],
      "execution_count": null,
      "outputs": [
        {
          "output_type": "execute_result",
          "data": {
            "text/html": [
              "<div>\n",
              "<style scoped>\n",
              "    .dataframe tbody tr th:only-of-type {\n",
              "        vertical-align: middle;\n",
              "    }\n",
              "\n",
              "    .dataframe tbody tr th {\n",
              "        vertical-align: top;\n",
              "    }\n",
              "\n",
              "    .dataframe thead th {\n",
              "        text-align: right;\n",
              "    }\n",
              "</style>\n",
              "<table border=\"1\" class=\"dataframe\">\n",
              "  <thead>\n",
              "    <tr style=\"text-align: right;\">\n",
              "      <th></th>\n",
              "      <th>date</th>\n",
              "      <th>home_team</th>\n",
              "      <th>away_team</th>\n",
              "      <th>home_score</th>\n",
              "      <th>away_score</th>\n",
              "      <th>tournament</th>\n",
              "      <th>city</th>\n",
              "      <th>country</th>\n",
              "      <th>neutral</th>\n",
              "      <th>rank_date_home</th>\n",
              "      <th>rank_home</th>\n",
              "      <th>country_full_home</th>\n",
              "      <th>country_abrv_home</th>\n",
              "      <th>cur_year_avg_weighted_home</th>\n",
              "      <th>two_year_ago_weighted_home</th>\n",
              "      <th>three_year_ago_weighted_home</th>\n",
              "      <th>weighted_points_home</th>\n",
              "      <th>rank_date_away</th>\n",
              "      <th>rank_away</th>\n",
              "      <th>country_full_away</th>\n",
              "      <th>country_abrv_away</th>\n",
              "      <th>cur_year_avg_weighted_away</th>\n",
              "      <th>two_year_ago_weighted_away</th>\n",
              "      <th>three_year_ago_weighted_away</th>\n",
              "      <th>weighted_points_away</th>\n",
              "      <th>rank_difference</th>\n",
              "      <th>average_rank</th>\n",
              "      <th>point_difference</th>\n",
              "      <th>score_difference</th>\n",
              "      <th>is_won</th>\n",
              "      <th>is_stake</th>\n",
              "    </tr>\n",
              "  </thead>\n",
              "  <tbody>\n",
              "    <tr>\n",
              "      <th>0</th>\n",
              "      <td>1993-09-01</td>\n",
              "      <td>Sierra Leone</td>\n",
              "      <td>Togo</td>\n",
              "      <td>0</td>\n",
              "      <td>0</td>\n",
              "      <td>African Cup of Nations qualification</td>\n",
              "      <td>Conakry</td>\n",
              "      <td>Guinea</td>\n",
              "      <td>True</td>\n",
              "      <td>1993-09-01</td>\n",
              "      <td>86.0</td>\n",
              "      <td>Sierra Leone</td>\n",
              "      <td>SLE</td>\n",
              "      <td>0.00</td>\n",
              "      <td>0.00</td>\n",
              "      <td>0.00</td>\n",
              "      <td>0.00</td>\n",
              "      <td>1993-09-01</td>\n",
              "      <td>114.0</td>\n",
              "      <td>Togo</td>\n",
              "      <td>TOG</td>\n",
              "      <td>0.00</td>\n",
              "      <td>0.00</td>\n",
              "      <td>0.00</td>\n",
              "      <td>0.00</td>\n",
              "      <td>-28.0</td>\n",
              "      <td>100.0</td>\n",
              "      <td>0.00</td>\n",
              "      <td>0</td>\n",
              "      <td>0</td>\n",
              "      <td>True</td>\n",
              "    </tr>\n",
              "    <tr>\n",
              "      <th>1</th>\n",
              "      <td>1993-10-01</td>\n",
              "      <td>Angola</td>\n",
              "      <td>Zimbabwe</td>\n",
              "      <td>1</td>\n",
              "      <td>1</td>\n",
              "      <td>FIFA World Cup qualification</td>\n",
              "      <td>Luanda</td>\n",
              "      <td>Angola</td>\n",
              "      <td>False</td>\n",
              "      <td>1993-10-01</td>\n",
              "      <td>97.0</td>\n",
              "      <td>Angola</td>\n",
              "      <td>ANG</td>\n",
              "      <td>0.00</td>\n",
              "      <td>0.00</td>\n",
              "      <td>0.00</td>\n",
              "      <td>0.00</td>\n",
              "      <td>1993-10-01</td>\n",
              "      <td>47.0</td>\n",
              "      <td>Zimbabwe</td>\n",
              "      <td>ZIM</td>\n",
              "      <td>0.00</td>\n",
              "      <td>0.00</td>\n",
              "      <td>0.00</td>\n",
              "      <td>0.00</td>\n",
              "      <td>50.0</td>\n",
              "      <td>72.0</td>\n",
              "      <td>0.00</td>\n",
              "      <td>0</td>\n",
              "      <td>0</td>\n",
              "      <td>True</td>\n",
              "    </tr>\n",
              "    <tr>\n",
              "      <th>2</th>\n",
              "      <td>1993-10-01</td>\n",
              "      <td>Botswana</td>\n",
              "      <td>South Africa</td>\n",
              "      <td>0</td>\n",
              "      <td>2</td>\n",
              "      <td>Friendly</td>\n",
              "      <td>Gaborone</td>\n",
              "      <td>Botswana</td>\n",
              "      <td>False</td>\n",
              "      <td>1993-10-01</td>\n",
              "      <td>136.0</td>\n",
              "      <td>Botswana</td>\n",
              "      <td>BOT</td>\n",
              "      <td>0.00</td>\n",
              "      <td>0.00</td>\n",
              "      <td>0.00</td>\n",
              "      <td>0.00</td>\n",
              "      <td>1993-10-01</td>\n",
              "      <td>95.0</td>\n",
              "      <td>South Africa</td>\n",
              "      <td>RSA</td>\n",
              "      <td>0.00</td>\n",
              "      <td>0.00</td>\n",
              "      <td>0.00</td>\n",
              "      <td>0.00</td>\n",
              "      <td>41.0</td>\n",
              "      <td>115.5</td>\n",
              "      <td>0.00</td>\n",
              "      <td>2</td>\n",
              "      <td>1</td>\n",
              "      <td>False</td>\n",
              "    </tr>\n",
              "    <tr>\n",
              "      <th>3</th>\n",
              "      <td>1993-10-01</td>\n",
              "      <td>Senegal</td>\n",
              "      <td>Algeria</td>\n",
              "      <td>1</td>\n",
              "      <td>2</td>\n",
              "      <td>African Cup of Nations qualification</td>\n",
              "      <td>Dakar</td>\n",
              "      <td>Senegal</td>\n",
              "      <td>False</td>\n",
              "      <td>1993-10-01</td>\n",
              "      <td>57.0</td>\n",
              "      <td>Senegal</td>\n",
              "      <td>SEN</td>\n",
              "      <td>0.00</td>\n",
              "      <td>0.00</td>\n",
              "      <td>0.00</td>\n",
              "      <td>0.00</td>\n",
              "      <td>1993-10-01</td>\n",
              "      <td>30.0</td>\n",
              "      <td>Algeria</td>\n",
              "      <td>ALG</td>\n",
              "      <td>0.00</td>\n",
              "      <td>0.00</td>\n",
              "      <td>0.00</td>\n",
              "      <td>0.00</td>\n",
              "      <td>27.0</td>\n",
              "      <td>43.5</td>\n",
              "      <td>0.00</td>\n",
              "      <td>1</td>\n",
              "      <td>1</td>\n",
              "      <td>True</td>\n",
              "    </tr>\n",
              "    <tr>\n",
              "      <th>4</th>\n",
              "      <td>1993-10-01</td>\n",
              "      <td>Tunisia</td>\n",
              "      <td>Bulgaria</td>\n",
              "      <td>3</td>\n",
              "      <td>0</td>\n",
              "      <td>Friendly</td>\n",
              "      <td>Béja</td>\n",
              "      <td>Tunisia</td>\n",
              "      <td>False</td>\n",
              "      <td>1993-10-01</td>\n",
              "      <td>34.0</td>\n",
              "      <td>Tunisia</td>\n",
              "      <td>TUN</td>\n",
              "      <td>0.00</td>\n",
              "      <td>0.00</td>\n",
              "      <td>0.00</td>\n",
              "      <td>0.00</td>\n",
              "      <td>1993-10-01</td>\n",
              "      <td>37.0</td>\n",
              "      <td>Bulgaria</td>\n",
              "      <td>BUL</td>\n",
              "      <td>0.00</td>\n",
              "      <td>0.00</td>\n",
              "      <td>0.00</td>\n",
              "      <td>0.00</td>\n",
              "      <td>-3.0</td>\n",
              "      <td>35.5</td>\n",
              "      <td>0.00</td>\n",
              "      <td>3</td>\n",
              "      <td>1</td>\n",
              "      <td>False</td>\n",
              "    </tr>\n",
              "    <tr>\n",
              "      <th>...</th>\n",
              "      <td>...</td>\n",
              "      <td>...</td>\n",
              "      <td>...</td>\n",
              "      <td>...</td>\n",
              "      <td>...</td>\n",
              "      <td>...</td>\n",
              "      <td>...</td>\n",
              "      <td>...</td>\n",
              "      <td>...</td>\n",
              "      <td>...</td>\n",
              "      <td>...</td>\n",
              "      <td>...</td>\n",
              "      <td>...</td>\n",
              "      <td>...</td>\n",
              "      <td>...</td>\n",
              "      <td>...</td>\n",
              "      <td>...</td>\n",
              "      <td>...</td>\n",
              "      <td>...</td>\n",
              "      <td>...</td>\n",
              "      <td>...</td>\n",
              "      <td>...</td>\n",
              "      <td>...</td>\n",
              "      <td>...</td>\n",
              "      <td>...</td>\n",
              "      <td>...</td>\n",
              "      <td>...</td>\n",
              "      <td>...</td>\n",
              "      <td>...</td>\n",
              "      <td>...</td>\n",
              "      <td>...</td>\n",
              "    </tr>\n",
              "    <tr>\n",
              "      <th>18229</th>\n",
              "      <td>2018-01-12</td>\n",
              "      <td>Malaysia</td>\n",
              "      <td>Thailand</td>\n",
              "      <td>0</td>\n",
              "      <td>0</td>\n",
              "      <td>AFF Championship</td>\n",
              "      <td>Kuala Lumpur</td>\n",
              "      <td>Malaysia</td>\n",
              "      <td>False</td>\n",
              "      <td>2018-01-12</td>\n",
              "      <td>174.0</td>\n",
              "      <td>Malaysia</td>\n",
              "      <td>MAS</td>\n",
              "      <td>22.42</td>\n",
              "      <td>23.18</td>\n",
              "      <td>13.98</td>\n",
              "      <td>59.58</td>\n",
              "      <td>2018-01-12</td>\n",
              "      <td>130.0</td>\n",
              "      <td>Thailand</td>\n",
              "      <td>THA</td>\n",
              "      <td>100.06</td>\n",
              "      <td>60.31</td>\n",
              "      <td>20.27</td>\n",
              "      <td>180.64</td>\n",
              "      <td>44.0</td>\n",
              "      <td>152.0</td>\n",
              "      <td>-121.06</td>\n",
              "      <td>0</td>\n",
              "      <td>0</td>\n",
              "      <td>True</td>\n",
              "    </tr>\n",
              "    <tr>\n",
              "      <th>18230</th>\n",
              "      <td>2018-02-12</td>\n",
              "      <td>Philippines</td>\n",
              "      <td>Vietnam</td>\n",
              "      <td>1</td>\n",
              "      <td>2</td>\n",
              "      <td>AFF Championship</td>\n",
              "      <td>Bacolod</td>\n",
              "      <td>Philippines</td>\n",
              "      <td>False</td>\n",
              "      <td>2018-02-12</td>\n",
              "      <td>123.0</td>\n",
              "      <td>Philippines</td>\n",
              "      <td>PHI</td>\n",
              "      <td>126.44</td>\n",
              "      <td>44.86</td>\n",
              "      <td>21.57</td>\n",
              "      <td>192.87</td>\n",
              "      <td>2018-02-12</td>\n",
              "      <td>112.0</td>\n",
              "      <td>Vietnam</td>\n",
              "      <td>VIE</td>\n",
              "      <td>180.98</td>\n",
              "      <td>36.34</td>\n",
              "      <td>24.53</td>\n",
              "      <td>241.85</td>\n",
              "      <td>11.0</td>\n",
              "      <td>117.5</td>\n",
              "      <td>-48.98</td>\n",
              "      <td>1</td>\n",
              "      <td>1</td>\n",
              "      <td>True</td>\n",
              "    </tr>\n",
              "    <tr>\n",
              "      <th>18231</th>\n",
              "      <td>2018-05-12</td>\n",
              "      <td>Thailand</td>\n",
              "      <td>Malaysia</td>\n",
              "      <td>2</td>\n",
              "      <td>2</td>\n",
              "      <td>AFF Championship</td>\n",
              "      <td>Bangkok</td>\n",
              "      <td>Thailand</td>\n",
              "      <td>False</td>\n",
              "      <td>2018-05-12</td>\n",
              "      <td>129.0</td>\n",
              "      <td>Thailand</td>\n",
              "      <td>THA</td>\n",
              "      <td>100.06</td>\n",
              "      <td>60.31</td>\n",
              "      <td>22.12</td>\n",
              "      <td>182.49</td>\n",
              "      <td>2018-05-12</td>\n",
              "      <td>178.0</td>\n",
              "      <td>Malaysia</td>\n",
              "      <td>MAS</td>\n",
              "      <td>22.42</td>\n",
              "      <td>23.18</td>\n",
              "      <td>10.21</td>\n",
              "      <td>55.81</td>\n",
              "      <td>-49.0</td>\n",
              "      <td>153.5</td>\n",
              "      <td>126.68</td>\n",
              "      <td>0</td>\n",
              "      <td>0</td>\n",
              "      <td>True</td>\n",
              "    </tr>\n",
              "    <tr>\n",
              "      <th>18232</th>\n",
              "      <td>2018-06-12</td>\n",
              "      <td>Vietnam</td>\n",
              "      <td>Philippines</td>\n",
              "      <td>2</td>\n",
              "      <td>1</td>\n",
              "      <td>AFF Championship</td>\n",
              "      <td>Hanoi</td>\n",
              "      <td>Vietnam</td>\n",
              "      <td>False</td>\n",
              "      <td>2018-06-12</td>\n",
              "      <td>102.0</td>\n",
              "      <td>Vietnam</td>\n",
              "      <td>VIE</td>\n",
              "      <td>222.70</td>\n",
              "      <td>44.09</td>\n",
              "      <td>18.15</td>\n",
              "      <td>284.94</td>\n",
              "      <td>2018-06-12</td>\n",
              "      <td>111.0</td>\n",
              "      <td>Philippines</td>\n",
              "      <td>PHI</td>\n",
              "      <td>151.51</td>\n",
              "      <td>62.40</td>\n",
              "      <td>22.76</td>\n",
              "      <td>236.67</td>\n",
              "      <td>-9.0</td>\n",
              "      <td>106.5</td>\n",
              "      <td>48.27</td>\n",
              "      <td>1</td>\n",
              "      <td>1</td>\n",
              "      <td>True</td>\n",
              "    </tr>\n",
              "    <tr>\n",
              "      <th>18233</th>\n",
              "      <td>2018-11-12</td>\n",
              "      <td>Malaysia</td>\n",
              "      <td>Vietnam</td>\n",
              "      <td>2</td>\n",
              "      <td>2</td>\n",
              "      <td>AFF Championship</td>\n",
              "      <td>Kuala Lumpur</td>\n",
              "      <td>Malaysia</td>\n",
              "      <td>False</td>\n",
              "      <td>2018-11-12</td>\n",
              "      <td>171.0</td>\n",
              "      <td>Malaysia</td>\n",
              "      <td>MAS</td>\n",
              "      <td>28.48</td>\n",
              "      <td>32.79</td>\n",
              "      <td>9.39</td>\n",
              "      <td>70.66</td>\n",
              "      <td>2018-11-12</td>\n",
              "      <td>102.0</td>\n",
              "      <td>Vietnam</td>\n",
              "      <td>VIE</td>\n",
              "      <td>222.70</td>\n",
              "      <td>47.52</td>\n",
              "      <td>16.50</td>\n",
              "      <td>286.72</td>\n",
              "      <td>69.0</td>\n",
              "      <td>136.5</td>\n",
              "      <td>-216.06</td>\n",
              "      <td>0</td>\n",
              "      <td>0</td>\n",
              "      <td>True</td>\n",
              "    </tr>\n",
              "  </tbody>\n",
              "</table>\n",
              "<p>18234 rows × 31 columns</p>\n",
              "</div>"
            ],
            "text/plain": [
              "            date     home_team  ... is_won  is_stake\n",
              "0     1993-09-01  Sierra Leone  ...      0      True\n",
              "1     1993-10-01        Angola  ...      0      True\n",
              "2     1993-10-01      Botswana  ...      1     False\n",
              "3     1993-10-01       Senegal  ...      1      True\n",
              "4     1993-10-01       Tunisia  ...      1     False\n",
              "...          ...           ...  ...    ...       ...\n",
              "18229 2018-01-12      Malaysia  ...      0      True\n",
              "18230 2018-02-12   Philippines  ...      1      True\n",
              "18231 2018-05-12      Thailand  ...      0      True\n",
              "18232 2018-06-12       Vietnam  ...      1      True\n",
              "18233 2018-11-12      Malaysia  ...      0      True\n",
              "\n",
              "[18234 rows x 31 columns]"
            ]
          },
          "metadata": {
            "tags": []
          },
          "execution_count": 27
        }
      ]
    },
    {
      "cell_type": "code",
      "metadata": {
        "colab": {
          "base_uri": "https://localhost:8080/"
        },
        "id": "L-K2w8i6nBSi",
        "outputId": "434f79b8-5a38-457b-91ea-8e0fae253a35"
      },
      "source": [
        "matches['is_stake'] = matches['is_stake'].map({False: 1,True: 0}) # เปลี่ยนให้ ค่าข้อมูลใน is_stake จาก False,True ให้เป็น 1,0 ตามลำดับ 1 แทนความหมายว่า เตะในบ้าน 0 แทนความหมายว่า เตะนอกบ้าน\n",
        "matches['is_stake']"
      ],
      "execution_count": null,
      "outputs": [
        {
          "output_type": "execute_result",
          "data": {
            "text/plain": [
              "0        0\n",
              "1        0\n",
              "2        1\n",
              "3        0\n",
              "4        1\n",
              "        ..\n",
              "18229    0\n",
              "18230    0\n",
              "18231    0\n",
              "18232    0\n",
              "18233    0\n",
              "Name: is_stake, Length: 18234, dtype: int64"
            ]
          },
          "metadata": {
            "tags": []
          },
          "execution_count": 63
        }
      ]
    },
    {
      "cell_type": "code",
      "metadata": {
        "colab": {
          "base_uri": "https://localhost:8080/",
          "height": 640
        },
        "id": "0rWMTFw1oJ8Q",
        "outputId": "9f9252dd-b082-499d-de41-7d62bd55738b"
      },
      "source": [
        "matches"
      ],
      "execution_count": null,
      "outputs": [
        {
          "output_type": "execute_result",
          "data": {
            "text/html": [
              "<div>\n",
              "<style scoped>\n",
              "    .dataframe tbody tr th:only-of-type {\n",
              "        vertical-align: middle;\n",
              "    }\n",
              "\n",
              "    .dataframe tbody tr th {\n",
              "        vertical-align: top;\n",
              "    }\n",
              "\n",
              "    .dataframe thead th {\n",
              "        text-align: right;\n",
              "    }\n",
              "</style>\n",
              "<table border=\"1\" class=\"dataframe\">\n",
              "  <thead>\n",
              "    <tr style=\"text-align: right;\">\n",
              "      <th></th>\n",
              "      <th>date</th>\n",
              "      <th>home_team</th>\n",
              "      <th>away_team</th>\n",
              "      <th>home_score</th>\n",
              "      <th>away_score</th>\n",
              "      <th>tournament</th>\n",
              "      <th>city</th>\n",
              "      <th>country</th>\n",
              "      <th>neutral</th>\n",
              "      <th>rank_date_home</th>\n",
              "      <th>rank_home</th>\n",
              "      <th>country_full_home</th>\n",
              "      <th>country_abrv_home</th>\n",
              "      <th>cur_year_avg_weighted_home</th>\n",
              "      <th>two_year_ago_weighted_home</th>\n",
              "      <th>three_year_ago_weighted_home</th>\n",
              "      <th>weighted_points_home</th>\n",
              "      <th>rank_date_away</th>\n",
              "      <th>rank_away</th>\n",
              "      <th>country_full_away</th>\n",
              "      <th>country_abrv_away</th>\n",
              "      <th>cur_year_avg_weighted_away</th>\n",
              "      <th>two_year_ago_weighted_away</th>\n",
              "      <th>three_year_ago_weighted_away</th>\n",
              "      <th>weighted_points_away</th>\n",
              "      <th>rank_difference</th>\n",
              "      <th>average_rank</th>\n",
              "      <th>point_difference</th>\n",
              "      <th>score_difference</th>\n",
              "      <th>is_won</th>\n",
              "      <th>is_stake</th>\n",
              "    </tr>\n",
              "  </thead>\n",
              "  <tbody>\n",
              "    <tr>\n",
              "      <th>0</th>\n",
              "      <td>1993-09-01</td>\n",
              "      <td>Sierra Leone</td>\n",
              "      <td>Togo</td>\n",
              "      <td>0</td>\n",
              "      <td>0</td>\n",
              "      <td>African Cup of Nations qualification</td>\n",
              "      <td>Conakry</td>\n",
              "      <td>Guinea</td>\n",
              "      <td>0</td>\n",
              "      <td>1993-09-01</td>\n",
              "      <td>86.0</td>\n",
              "      <td>Sierra Leone</td>\n",
              "      <td>SLE</td>\n",
              "      <td>0.00</td>\n",
              "      <td>0.00</td>\n",
              "      <td>0.00</td>\n",
              "      <td>0.00</td>\n",
              "      <td>1993-09-01</td>\n",
              "      <td>114.0</td>\n",
              "      <td>Togo</td>\n",
              "      <td>TOG</td>\n",
              "      <td>0.00</td>\n",
              "      <td>0.00</td>\n",
              "      <td>0.00</td>\n",
              "      <td>0.00</td>\n",
              "      <td>-28.0</td>\n",
              "      <td>100.0</td>\n",
              "      <td>0.00</td>\n",
              "      <td>0</td>\n",
              "      <td>0</td>\n",
              "      <td>0</td>\n",
              "    </tr>\n",
              "    <tr>\n",
              "      <th>1</th>\n",
              "      <td>1993-10-01</td>\n",
              "      <td>Angola</td>\n",
              "      <td>Zimbabwe</td>\n",
              "      <td>1</td>\n",
              "      <td>1</td>\n",
              "      <td>FIFA World Cup qualification</td>\n",
              "      <td>Luanda</td>\n",
              "      <td>Angola</td>\n",
              "      <td>1</td>\n",
              "      <td>1993-10-01</td>\n",
              "      <td>97.0</td>\n",
              "      <td>Angola</td>\n",
              "      <td>ANG</td>\n",
              "      <td>0.00</td>\n",
              "      <td>0.00</td>\n",
              "      <td>0.00</td>\n",
              "      <td>0.00</td>\n",
              "      <td>1993-10-01</td>\n",
              "      <td>47.0</td>\n",
              "      <td>Zimbabwe</td>\n",
              "      <td>ZIM</td>\n",
              "      <td>0.00</td>\n",
              "      <td>0.00</td>\n",
              "      <td>0.00</td>\n",
              "      <td>0.00</td>\n",
              "      <td>50.0</td>\n",
              "      <td>72.0</td>\n",
              "      <td>0.00</td>\n",
              "      <td>0</td>\n",
              "      <td>0</td>\n",
              "      <td>0</td>\n",
              "    </tr>\n",
              "    <tr>\n",
              "      <th>2</th>\n",
              "      <td>1993-10-01</td>\n",
              "      <td>Botswana</td>\n",
              "      <td>South Africa</td>\n",
              "      <td>0</td>\n",
              "      <td>2</td>\n",
              "      <td>Friendly</td>\n",
              "      <td>Gaborone</td>\n",
              "      <td>Botswana</td>\n",
              "      <td>1</td>\n",
              "      <td>1993-10-01</td>\n",
              "      <td>136.0</td>\n",
              "      <td>Botswana</td>\n",
              "      <td>BOT</td>\n",
              "      <td>0.00</td>\n",
              "      <td>0.00</td>\n",
              "      <td>0.00</td>\n",
              "      <td>0.00</td>\n",
              "      <td>1993-10-01</td>\n",
              "      <td>95.0</td>\n",
              "      <td>South Africa</td>\n",
              "      <td>RSA</td>\n",
              "      <td>0.00</td>\n",
              "      <td>0.00</td>\n",
              "      <td>0.00</td>\n",
              "      <td>0.00</td>\n",
              "      <td>41.0</td>\n",
              "      <td>115.5</td>\n",
              "      <td>0.00</td>\n",
              "      <td>2</td>\n",
              "      <td>1</td>\n",
              "      <td>1</td>\n",
              "    </tr>\n",
              "    <tr>\n",
              "      <th>3</th>\n",
              "      <td>1993-10-01</td>\n",
              "      <td>Senegal</td>\n",
              "      <td>Algeria</td>\n",
              "      <td>1</td>\n",
              "      <td>2</td>\n",
              "      <td>African Cup of Nations qualification</td>\n",
              "      <td>Dakar</td>\n",
              "      <td>Senegal</td>\n",
              "      <td>1</td>\n",
              "      <td>1993-10-01</td>\n",
              "      <td>57.0</td>\n",
              "      <td>Senegal</td>\n",
              "      <td>SEN</td>\n",
              "      <td>0.00</td>\n",
              "      <td>0.00</td>\n",
              "      <td>0.00</td>\n",
              "      <td>0.00</td>\n",
              "      <td>1993-10-01</td>\n",
              "      <td>30.0</td>\n",
              "      <td>Algeria</td>\n",
              "      <td>ALG</td>\n",
              "      <td>0.00</td>\n",
              "      <td>0.00</td>\n",
              "      <td>0.00</td>\n",
              "      <td>0.00</td>\n",
              "      <td>27.0</td>\n",
              "      <td>43.5</td>\n",
              "      <td>0.00</td>\n",
              "      <td>1</td>\n",
              "      <td>1</td>\n",
              "      <td>0</td>\n",
              "    </tr>\n",
              "    <tr>\n",
              "      <th>4</th>\n",
              "      <td>1993-10-01</td>\n",
              "      <td>Tunisia</td>\n",
              "      <td>Bulgaria</td>\n",
              "      <td>3</td>\n",
              "      <td>0</td>\n",
              "      <td>Friendly</td>\n",
              "      <td>Béja</td>\n",
              "      <td>Tunisia</td>\n",
              "      <td>1</td>\n",
              "      <td>1993-10-01</td>\n",
              "      <td>34.0</td>\n",
              "      <td>Tunisia</td>\n",
              "      <td>TUN</td>\n",
              "      <td>0.00</td>\n",
              "      <td>0.00</td>\n",
              "      <td>0.00</td>\n",
              "      <td>0.00</td>\n",
              "      <td>1993-10-01</td>\n",
              "      <td>37.0</td>\n",
              "      <td>Bulgaria</td>\n",
              "      <td>BUL</td>\n",
              "      <td>0.00</td>\n",
              "      <td>0.00</td>\n",
              "      <td>0.00</td>\n",
              "      <td>0.00</td>\n",
              "      <td>-3.0</td>\n",
              "      <td>35.5</td>\n",
              "      <td>0.00</td>\n",
              "      <td>3</td>\n",
              "      <td>1</td>\n",
              "      <td>1</td>\n",
              "    </tr>\n",
              "    <tr>\n",
              "      <th>...</th>\n",
              "      <td>...</td>\n",
              "      <td>...</td>\n",
              "      <td>...</td>\n",
              "      <td>...</td>\n",
              "      <td>...</td>\n",
              "      <td>...</td>\n",
              "      <td>...</td>\n",
              "      <td>...</td>\n",
              "      <td>...</td>\n",
              "      <td>...</td>\n",
              "      <td>...</td>\n",
              "      <td>...</td>\n",
              "      <td>...</td>\n",
              "      <td>...</td>\n",
              "      <td>...</td>\n",
              "      <td>...</td>\n",
              "      <td>...</td>\n",
              "      <td>...</td>\n",
              "      <td>...</td>\n",
              "      <td>...</td>\n",
              "      <td>...</td>\n",
              "      <td>...</td>\n",
              "      <td>...</td>\n",
              "      <td>...</td>\n",
              "      <td>...</td>\n",
              "      <td>...</td>\n",
              "      <td>...</td>\n",
              "      <td>...</td>\n",
              "      <td>...</td>\n",
              "      <td>...</td>\n",
              "      <td>...</td>\n",
              "    </tr>\n",
              "    <tr>\n",
              "      <th>18229</th>\n",
              "      <td>2018-01-12</td>\n",
              "      <td>Malaysia</td>\n",
              "      <td>Thailand</td>\n",
              "      <td>0</td>\n",
              "      <td>0</td>\n",
              "      <td>AFF Championship</td>\n",
              "      <td>Kuala Lumpur</td>\n",
              "      <td>Malaysia</td>\n",
              "      <td>1</td>\n",
              "      <td>2018-01-12</td>\n",
              "      <td>174.0</td>\n",
              "      <td>Malaysia</td>\n",
              "      <td>MAS</td>\n",
              "      <td>22.42</td>\n",
              "      <td>23.18</td>\n",
              "      <td>13.98</td>\n",
              "      <td>59.58</td>\n",
              "      <td>2018-01-12</td>\n",
              "      <td>130.0</td>\n",
              "      <td>Thailand</td>\n",
              "      <td>THA</td>\n",
              "      <td>100.06</td>\n",
              "      <td>60.31</td>\n",
              "      <td>20.27</td>\n",
              "      <td>180.64</td>\n",
              "      <td>44.0</td>\n",
              "      <td>152.0</td>\n",
              "      <td>-121.06</td>\n",
              "      <td>0</td>\n",
              "      <td>0</td>\n",
              "      <td>0</td>\n",
              "    </tr>\n",
              "    <tr>\n",
              "      <th>18230</th>\n",
              "      <td>2018-02-12</td>\n",
              "      <td>Philippines</td>\n",
              "      <td>Vietnam</td>\n",
              "      <td>1</td>\n",
              "      <td>2</td>\n",
              "      <td>AFF Championship</td>\n",
              "      <td>Bacolod</td>\n",
              "      <td>Philippines</td>\n",
              "      <td>1</td>\n",
              "      <td>2018-02-12</td>\n",
              "      <td>123.0</td>\n",
              "      <td>Philippines</td>\n",
              "      <td>PHI</td>\n",
              "      <td>126.44</td>\n",
              "      <td>44.86</td>\n",
              "      <td>21.57</td>\n",
              "      <td>192.87</td>\n",
              "      <td>2018-02-12</td>\n",
              "      <td>112.0</td>\n",
              "      <td>Vietnam</td>\n",
              "      <td>VIE</td>\n",
              "      <td>180.98</td>\n",
              "      <td>36.34</td>\n",
              "      <td>24.53</td>\n",
              "      <td>241.85</td>\n",
              "      <td>11.0</td>\n",
              "      <td>117.5</td>\n",
              "      <td>-48.98</td>\n",
              "      <td>1</td>\n",
              "      <td>1</td>\n",
              "      <td>0</td>\n",
              "    </tr>\n",
              "    <tr>\n",
              "      <th>18231</th>\n",
              "      <td>2018-05-12</td>\n",
              "      <td>Thailand</td>\n",
              "      <td>Malaysia</td>\n",
              "      <td>2</td>\n",
              "      <td>2</td>\n",
              "      <td>AFF Championship</td>\n",
              "      <td>Bangkok</td>\n",
              "      <td>Thailand</td>\n",
              "      <td>1</td>\n",
              "      <td>2018-05-12</td>\n",
              "      <td>129.0</td>\n",
              "      <td>Thailand</td>\n",
              "      <td>THA</td>\n",
              "      <td>100.06</td>\n",
              "      <td>60.31</td>\n",
              "      <td>22.12</td>\n",
              "      <td>182.49</td>\n",
              "      <td>2018-05-12</td>\n",
              "      <td>178.0</td>\n",
              "      <td>Malaysia</td>\n",
              "      <td>MAS</td>\n",
              "      <td>22.42</td>\n",
              "      <td>23.18</td>\n",
              "      <td>10.21</td>\n",
              "      <td>55.81</td>\n",
              "      <td>-49.0</td>\n",
              "      <td>153.5</td>\n",
              "      <td>126.68</td>\n",
              "      <td>0</td>\n",
              "      <td>0</td>\n",
              "      <td>0</td>\n",
              "    </tr>\n",
              "    <tr>\n",
              "      <th>18232</th>\n",
              "      <td>2018-06-12</td>\n",
              "      <td>Vietnam</td>\n",
              "      <td>Philippines</td>\n",
              "      <td>2</td>\n",
              "      <td>1</td>\n",
              "      <td>AFF Championship</td>\n",
              "      <td>Hanoi</td>\n",
              "      <td>Vietnam</td>\n",
              "      <td>1</td>\n",
              "      <td>2018-06-12</td>\n",
              "      <td>102.0</td>\n",
              "      <td>Vietnam</td>\n",
              "      <td>VIE</td>\n",
              "      <td>222.70</td>\n",
              "      <td>44.09</td>\n",
              "      <td>18.15</td>\n",
              "      <td>284.94</td>\n",
              "      <td>2018-06-12</td>\n",
              "      <td>111.0</td>\n",
              "      <td>Philippines</td>\n",
              "      <td>PHI</td>\n",
              "      <td>151.51</td>\n",
              "      <td>62.40</td>\n",
              "      <td>22.76</td>\n",
              "      <td>236.67</td>\n",
              "      <td>-9.0</td>\n",
              "      <td>106.5</td>\n",
              "      <td>48.27</td>\n",
              "      <td>1</td>\n",
              "      <td>1</td>\n",
              "      <td>0</td>\n",
              "    </tr>\n",
              "    <tr>\n",
              "      <th>18233</th>\n",
              "      <td>2018-11-12</td>\n",
              "      <td>Malaysia</td>\n",
              "      <td>Vietnam</td>\n",
              "      <td>2</td>\n",
              "      <td>2</td>\n",
              "      <td>AFF Championship</td>\n",
              "      <td>Kuala Lumpur</td>\n",
              "      <td>Malaysia</td>\n",
              "      <td>1</td>\n",
              "      <td>2018-11-12</td>\n",
              "      <td>171.0</td>\n",
              "      <td>Malaysia</td>\n",
              "      <td>MAS</td>\n",
              "      <td>28.48</td>\n",
              "      <td>32.79</td>\n",
              "      <td>9.39</td>\n",
              "      <td>70.66</td>\n",
              "      <td>2018-11-12</td>\n",
              "      <td>102.0</td>\n",
              "      <td>Vietnam</td>\n",
              "      <td>VIE</td>\n",
              "      <td>222.70</td>\n",
              "      <td>47.52</td>\n",
              "      <td>16.50</td>\n",
              "      <td>286.72</td>\n",
              "      <td>69.0</td>\n",
              "      <td>136.5</td>\n",
              "      <td>-216.06</td>\n",
              "      <td>0</td>\n",
              "      <td>0</td>\n",
              "      <td>0</td>\n",
              "    </tr>\n",
              "  </tbody>\n",
              "</table>\n",
              "<p>18234 rows × 31 columns</p>\n",
              "</div>"
            ],
            "text/plain": [
              "            date     home_team  ... is_won  is_stake\n",
              "0     1993-09-01  Sierra Leone  ...      0         0\n",
              "1     1993-10-01        Angola  ...      0         0\n",
              "2     1993-10-01      Botswana  ...      1         1\n",
              "3     1993-10-01       Senegal  ...      1         0\n",
              "4     1993-10-01       Tunisia  ...      1         1\n",
              "...          ...           ...  ...    ...       ...\n",
              "18229 2018-01-12      Malaysia  ...      0         0\n",
              "18230 2018-02-12   Philippines  ...      1         0\n",
              "18231 2018-05-12      Thailand  ...      0         0\n",
              "18232 2018-06-12       Vietnam  ...      1         0\n",
              "18233 2018-11-12      Malaysia  ...      0         0\n",
              "\n",
              "[18234 rows x 31 columns]"
            ]
          },
          "metadata": {
            "tags": []
          },
          "execution_count": 50
        }
      ]
    },
    {
      "cell_type": "code",
      "metadata": {
        "colab": {
          "base_uri": "https://localhost:8080/"
        },
        "id": "jr4gqOTmJWvT",
        "outputId": "66c37b09-59a6-4aab-c574-f5822167cede"
      },
      "source": [
        "matches.shape"
      ],
      "execution_count": null,
      "outputs": [
        {
          "output_type": "execute_result",
          "data": {
            "text/plain": [
              "(18234, 31)"
            ]
          },
          "metadata": {
            "tags": []
          },
          "execution_count": 51
        }
      ]
    },
    {
      "cell_type": "code",
      "metadata": {
        "colab": {
          "base_uri": "https://localhost:8080/",
          "height": 402
        },
        "id": "awTEflIONFhY",
        "outputId": "11de14b2-0d0b-433e-fac0-1338674619d1"
      },
      "source": [
        "X = matches[['average_rank','rank_difference','point_difference','is_stake']]\n",
        "X"
      ],
      "execution_count": null,
      "outputs": [
        {
          "output_type": "execute_result",
          "data": {
            "text/html": [
              "<div>\n",
              "<style scoped>\n",
              "    .dataframe tbody tr th:only-of-type {\n",
              "        vertical-align: middle;\n",
              "    }\n",
              "\n",
              "    .dataframe tbody tr th {\n",
              "        vertical-align: top;\n",
              "    }\n",
              "\n",
              "    .dataframe thead th {\n",
              "        text-align: right;\n",
              "    }\n",
              "</style>\n",
              "<table border=\"1\" class=\"dataframe\">\n",
              "  <thead>\n",
              "    <tr style=\"text-align: right;\">\n",
              "      <th></th>\n",
              "      <th>average_rank</th>\n",
              "      <th>rank_difference</th>\n",
              "      <th>point_difference</th>\n",
              "      <th>is_stake</th>\n",
              "    </tr>\n",
              "  </thead>\n",
              "  <tbody>\n",
              "    <tr>\n",
              "      <th>0</th>\n",
              "      <td>100.0</td>\n",
              "      <td>28.0</td>\n",
              "      <td>0.00</td>\n",
              "      <td>0</td>\n",
              "    </tr>\n",
              "    <tr>\n",
              "      <th>1</th>\n",
              "      <td>72.0</td>\n",
              "      <td>50.0</td>\n",
              "      <td>0.00</td>\n",
              "      <td>0</td>\n",
              "    </tr>\n",
              "    <tr>\n",
              "      <th>2</th>\n",
              "      <td>115.5</td>\n",
              "      <td>41.0</td>\n",
              "      <td>0.00</td>\n",
              "      <td>1</td>\n",
              "    </tr>\n",
              "    <tr>\n",
              "      <th>3</th>\n",
              "      <td>43.5</td>\n",
              "      <td>27.0</td>\n",
              "      <td>0.00</td>\n",
              "      <td>0</td>\n",
              "    </tr>\n",
              "    <tr>\n",
              "      <th>4</th>\n",
              "      <td>35.5</td>\n",
              "      <td>3.0</td>\n",
              "      <td>0.00</td>\n",
              "      <td>1</td>\n",
              "    </tr>\n",
              "    <tr>\n",
              "      <th>...</th>\n",
              "      <td>...</td>\n",
              "      <td>...</td>\n",
              "      <td>...</td>\n",
              "      <td>...</td>\n",
              "    </tr>\n",
              "    <tr>\n",
              "      <th>18229</th>\n",
              "      <td>152.0</td>\n",
              "      <td>44.0</td>\n",
              "      <td>121.06</td>\n",
              "      <td>0</td>\n",
              "    </tr>\n",
              "    <tr>\n",
              "      <th>18230</th>\n",
              "      <td>117.5</td>\n",
              "      <td>11.0</td>\n",
              "      <td>48.98</td>\n",
              "      <td>0</td>\n",
              "    </tr>\n",
              "    <tr>\n",
              "      <th>18231</th>\n",
              "      <td>153.5</td>\n",
              "      <td>49.0</td>\n",
              "      <td>126.68</td>\n",
              "      <td>0</td>\n",
              "    </tr>\n",
              "    <tr>\n",
              "      <th>18232</th>\n",
              "      <td>106.5</td>\n",
              "      <td>9.0</td>\n",
              "      <td>48.27</td>\n",
              "      <td>0</td>\n",
              "    </tr>\n",
              "    <tr>\n",
              "      <th>18233</th>\n",
              "      <td>136.5</td>\n",
              "      <td>69.0</td>\n",
              "      <td>216.06</td>\n",
              "      <td>0</td>\n",
              "    </tr>\n",
              "  </tbody>\n",
              "</table>\n",
              "<p>18234 rows × 4 columns</p>\n",
              "</div>"
            ],
            "text/plain": [
              "       average_rank  rank_difference  point_difference  is_stake\n",
              "0             100.0             28.0              0.00         0\n",
              "1              72.0             50.0              0.00         0\n",
              "2             115.5             41.0              0.00         1\n",
              "3              43.5             27.0              0.00         0\n",
              "4              35.5              3.0              0.00         1\n",
              "...             ...              ...               ...       ...\n",
              "18229         152.0             44.0            121.06         0\n",
              "18230         117.5             11.0             48.98         0\n",
              "18231         153.5             49.0            126.68         0\n",
              "18232         106.5              9.0             48.27         0\n",
              "18233         136.5             69.0            216.06         0\n",
              "\n",
              "[18234 rows x 4 columns]"
            ]
          },
          "metadata": {
            "tags": []
          },
          "execution_count": 85
        }
      ]
    },
    {
      "cell_type": "code",
      "metadata": {
        "id": "PTXPiOUlOSJq"
      },
      "source": [
        "X = X.values"
      ],
      "execution_count": null,
      "outputs": []
    },
    {
      "cell_type": "code",
      "metadata": {
        "colab": {
          "base_uri": "https://localhost:8080/",
          "height": 402
        },
        "id": "xgdq5A_4OKHE",
        "outputId": "ca38c7ef-9d52-41df-b874-b7dbea62577c"
      },
      "source": [
        "y = matches[['is_won']]\n",
        "y"
      ],
      "execution_count": null,
      "outputs": [
        {
          "output_type": "execute_result",
          "data": {
            "text/html": [
              "<div>\n",
              "<style scoped>\n",
              "    .dataframe tbody tr th:only-of-type {\n",
              "        vertical-align: middle;\n",
              "    }\n",
              "\n",
              "    .dataframe tbody tr th {\n",
              "        vertical-align: top;\n",
              "    }\n",
              "\n",
              "    .dataframe thead th {\n",
              "        text-align: right;\n",
              "    }\n",
              "</style>\n",
              "<table border=\"1\" class=\"dataframe\">\n",
              "  <thead>\n",
              "    <tr style=\"text-align: right;\">\n",
              "      <th></th>\n",
              "      <th>is_won</th>\n",
              "    </tr>\n",
              "  </thead>\n",
              "  <tbody>\n",
              "    <tr>\n",
              "      <th>0</th>\n",
              "      <td>0</td>\n",
              "    </tr>\n",
              "    <tr>\n",
              "      <th>1</th>\n",
              "      <td>0</td>\n",
              "    </tr>\n",
              "    <tr>\n",
              "      <th>2</th>\n",
              "      <td>1</td>\n",
              "    </tr>\n",
              "    <tr>\n",
              "      <th>3</th>\n",
              "      <td>1</td>\n",
              "    </tr>\n",
              "    <tr>\n",
              "      <th>4</th>\n",
              "      <td>1</td>\n",
              "    </tr>\n",
              "    <tr>\n",
              "      <th>...</th>\n",
              "      <td>...</td>\n",
              "    </tr>\n",
              "    <tr>\n",
              "      <th>18229</th>\n",
              "      <td>0</td>\n",
              "    </tr>\n",
              "    <tr>\n",
              "      <th>18230</th>\n",
              "      <td>1</td>\n",
              "    </tr>\n",
              "    <tr>\n",
              "      <th>18231</th>\n",
              "      <td>0</td>\n",
              "    </tr>\n",
              "    <tr>\n",
              "      <th>18232</th>\n",
              "      <td>1</td>\n",
              "    </tr>\n",
              "    <tr>\n",
              "      <th>18233</th>\n",
              "      <td>0</td>\n",
              "    </tr>\n",
              "  </tbody>\n",
              "</table>\n",
              "<p>18234 rows × 1 columns</p>\n",
              "</div>"
            ],
            "text/plain": [
              "       is_won\n",
              "0           0\n",
              "1           0\n",
              "2           1\n",
              "3           1\n",
              "4           1\n",
              "...       ...\n",
              "18229       0\n",
              "18230       1\n",
              "18231       0\n",
              "18232       1\n",
              "18233       0\n",
              "\n",
              "[18234 rows x 1 columns]"
            ]
          },
          "metadata": {
            "tags": []
          },
          "execution_count": 87
        }
      ]
    },
    {
      "cell_type": "code",
      "metadata": {
        "id": "knbNBINtOXsX"
      },
      "source": [
        "y = y.values"
      ],
      "execution_count": null,
      "outputs": []
    },
    {
      "cell_type": "code",
      "metadata": {
        "id": "Y61GNE1fjJ8b"
      },
      "source": [
        "from sklearn.model_selection import train_test_split\n",
        "X_train, X_test, y_train, y_test = train_test_split(X, y, test_size=0.3) # 70% training and 30% test"
      ],
      "execution_count": null,
      "outputs": []
    },
    {
      "cell_type": "code",
      "metadata": {
        "colab": {
          "base_uri": "https://localhost:8080/"
        },
        "id": "5odxgq-0kOWa",
        "outputId": "ae2ea2f0-8fde-4f41-cf97-36e436cd8c21"
      },
      "source": [
        "X_train.shape"
      ],
      "execution_count": null,
      "outputs": [
        {
          "output_type": "execute_result",
          "data": {
            "text/plain": [
              "(12763, 4)"
            ]
          },
          "metadata": {
            "tags": []
          },
          "execution_count": 92
        }
      ]
    },
    {
      "cell_type": "code",
      "metadata": {
        "colab": {
          "base_uri": "https://localhost:8080/"
        },
        "id": "E9iU-KrQkUAX",
        "outputId": "34eefb51-e417-4d09-d1fa-4171ac3fa111"
      },
      "source": [
        "X_test.shape"
      ],
      "execution_count": null,
      "outputs": [
        {
          "output_type": "execute_result",
          "data": {
            "text/plain": [
              "(5471, 4)"
            ]
          },
          "metadata": {
            "tags": []
          },
          "execution_count": 93
        }
      ]
    },
    {
      "cell_type": "code",
      "metadata": {
        "colab": {
          "base_uri": "https://localhost:8080/"
        },
        "id": "36lHBhuekXAs",
        "outputId": "dd2f2015-83a0-4a51-f77c-446c99064694"
      },
      "source": [
        "y_train.shape"
      ],
      "execution_count": null,
      "outputs": [
        {
          "output_type": "execute_result",
          "data": {
            "text/plain": [
              "(12763, 1)"
            ]
          },
          "metadata": {
            "tags": []
          },
          "execution_count": 94
        }
      ]
    },
    {
      "cell_type": "code",
      "metadata": {
        "colab": {
          "base_uri": "https://localhost:8080/"
        },
        "id": "-AxiAhnNkcWN",
        "outputId": "43410953-2e02-4d09-d918-1cc9285e0d36"
      },
      "source": [
        "y_test.shape"
      ],
      "execution_count": null,
      "outputs": [
        {
          "output_type": "execute_result",
          "data": {
            "text/plain": [
              "(5471, 1)"
            ]
          },
          "metadata": {
            "tags": []
          },
          "execution_count": 95
        }
      ]
    },
    {
      "cell_type": "markdown",
      "metadata": {
        "id": "Yok1ZKzlfMIu"
      },
      "source": [
        "ตัวแปรต้น หรือ Feature ที่ใช้สำหรับการทำนายผล แพ้-ชนะ\n",
        "\n",
        "1. 'average_rank'\n",
        "\n",
        "2. 'rank_difference'\n",
        "\n",
        "3. 'point_difference'\n",
        "\n",
        "4. 'is_stake'\n",
        "\n",
        "ตัวแปรตาม หรือ Target ที่ต้องการทำนาย มีค่าเป็น แพ้-ชนะ\n",
        "\n",
        "1 = ชนะ\n",
        "\n",
        "0 = แพ้"
      ]
    },
    {
      "cell_type": "markdown",
      "metadata": {
        "id": "YFcpAYLdGpGq"
      },
      "source": [
        "#RandomForest"
      ]
    },
    {
      "cell_type": "code",
      "metadata": {
        "colab": {
          "base_uri": "https://localhost:8080/"
        },
        "id": "P3u4qpztPjNL",
        "outputId": "1fa0bd55-1a46-4181-d470-4a30d9cd2f9f"
      },
      "source": [
        "from sklearn.ensemble import RandomForestClassifier\n",
        "skRF = RandomForestClassifier()\n",
        "skRF.fit(X_train,y_train)"
      ],
      "execution_count": null,
      "outputs": [
        {
          "output_type": "stream",
          "text": [
            "/usr/local/lib/python3.6/dist-packages/ipykernel_launcher.py:3: DataConversionWarning: A column-vector y was passed when a 1d array was expected. Please change the shape of y to (n_samples,), for example using ravel().\n",
            "  This is separate from the ipykernel package so we can avoid doing imports until\n"
          ],
          "name": "stderr"
        },
        {
          "output_type": "execute_result",
          "data": {
            "text/plain": [
              "RandomForestClassifier(bootstrap=True, ccp_alpha=0.0, class_weight=None,\n",
              "                       criterion='gini', max_depth=None, max_features='auto',\n",
              "                       max_leaf_nodes=None, max_samples=None,\n",
              "                       min_impurity_decrease=0.0, min_impurity_split=None,\n",
              "                       min_samples_leaf=1, min_samples_split=2,\n",
              "                       min_weight_fraction_leaf=0.0, n_estimators=100,\n",
              "                       n_jobs=None, oob_score=False, random_state=None,\n",
              "                       verbose=0, warm_start=False)"
            ]
          },
          "metadata": {
            "tags": []
          },
          "execution_count": 111
        }
      ]
    },
    {
      "cell_type": "code",
      "metadata": {
        "colab": {
          "base_uri": "https://localhost:8080/"
        },
        "id": "NdHjjudQlCVc",
        "outputId": "c0fac273-b225-4c0c-f77e-bf0ef63bf3be"
      },
      "source": [
        "skRF.score(X_test,y_test)"
      ],
      "execution_count": null,
      "outputs": [
        {
          "output_type": "execute_result",
          "data": {
            "text/plain": [
              "0.6976786693474685"
            ]
          },
          "metadata": {
            "tags": []
          },
          "execution_count": 112
        }
      ]
    },
    {
      "cell_type": "markdown",
      "metadata": {
        "id": "c5W57q8NzYDu"
      },
      "source": [
        "#การวัดประสิทธิภาพสมการในการจำแนกประเภท ผล เเพ้-ชนะ"
      ]
    },
    {
      "cell_type": "code",
      "metadata": {
        "id": "sXbYxf_6lpu6"
      },
      "source": [
        "y_pd = skRF.predict(X_test)"
      ],
      "execution_count": null,
      "outputs": []
    },
    {
      "cell_type": "code",
      "metadata": {
        "id": "14uNNY1MyjmS"
      },
      "source": [
        "from sklearn import  metrics"
      ],
      "execution_count": null,
      "outputs": []
    },
    {
      "cell_type": "code",
      "metadata": {
        "colab": {
          "base_uri": "https://localhost:8080/"
        },
        "id": "JklhD6vylnBg",
        "outputId": "9ed0336f-6ee4-47bb-8a5d-f11c4ebb6df9"
      },
      "source": [
        "from sklearn.metrics import classification_report, confusion_matrix\n",
        "cm = confusion_matrix(y_test, y_pd)\n",
        "cm"
      ],
      "execution_count": null,
      "outputs": [
        {
          "output_type": "execute_result",
          "data": {
            "text/plain": [
              "array([[ 177, 1158],\n",
              "       [ 496, 3640]])"
            ]
          },
          "metadata": {
            "tags": []
          },
          "execution_count": 114
        }
      ]
    },
    {
      "cell_type": "markdown",
      "metadata": {
        "id": "kE8XnNaCmAWA"
      },
      "source": [
        "### จากผลการจำแนกของผลการแพ้ชนะ เเสดงให้เห็นว่า \n",
        "### มีคู่ที่ชนะจากการจำแนกถูกต้องทั้งหมด 177 คู่ ค่าความแม่นยำอยู่ที่ 0.13\n",
        "### คู่ที่แพ้จากการจำแนกถูกต้องทั้งหมด 3640 คู่ ค่าความแม่นยำอยู่ที่ 0.88\n",
        "### จะเห็นว่าตัวเเบบ Randomforest จะให้ความเเม่นยำการทำนายเอนไปทางชนะมากกว่า ซึ่งผลทำนายที่ควรจะเป็น ต้องมีความเเม่นยำที่เยอะ เเละใกล้เคียงกัน"
      ]
    },
    {
      "cell_type": "code",
      "metadata": {
        "colab": {
          "base_uri": "https://localhost:8080/"
        },
        "id": "nqhQ8QmNyRHo",
        "outputId": "ae2eee89-141f-4802-d8fe-3069eb713252"
      },
      "source": [
        "print(metrics.classification_report(y_test, y_pd))"
      ],
      "execution_count": null,
      "outputs": [
        {
          "output_type": "stream",
          "text": [
            "              precision    recall  f1-score   support\n",
            "\n",
            "           0       0.26      0.13      0.18      1335\n",
            "           1       0.76      0.88      0.81      4136\n",
            "\n",
            "    accuracy                           0.70      5471\n",
            "   macro avg       0.51      0.51      0.50      5471\n",
            "weighted avg       0.64      0.70      0.66      5471\n",
            "\n"
          ],
          "name": "stdout"
        }
      ]
    },
    {
      "cell_type": "markdown",
      "metadata": {
        "id": "EBnsN2l8Rng9"
      },
      "source": [
        "#2.Classificattion(KNN)\n",
        "\n",
        "\n",
        "\n"
      ]
    },
    {
      "cell_type": "code",
      "metadata": {
        "id": "q24niYZ8QT4F"
      },
      "source": [
        "from sklearn.neighbors import KNeighborsClassifier\n",
        "myKNN = KNeighborsClassifier(n_neighbors=3)"
      ],
      "execution_count": null,
      "outputs": []
    },
    {
      "cell_type": "code",
      "metadata": {
        "colab": {
          "base_uri": "https://localhost:8080/"
        },
        "id": "NoCkiH-bRyP7",
        "outputId": "6bddd351-f6b9-4db7-895b-3b5bbd80d791"
      },
      "source": [
        "myKNN.fit(X_train,y_train)"
      ],
      "execution_count": null,
      "outputs": [
        {
          "output_type": "stream",
          "text": [
            "/usr/local/lib/python3.6/dist-packages/ipykernel_launcher.py:1: DataConversionWarning: A column-vector y was passed when a 1d array was expected. Please change the shape of y to (n_samples, ), for example using ravel().\n",
            "  \"\"\"Entry point for launching an IPython kernel.\n"
          ],
          "name": "stderr"
        },
        {
          "output_type": "execute_result",
          "data": {
            "text/plain": [
              "KNeighborsClassifier(algorithm='auto', leaf_size=30, metric='minkowski',\n",
              "                     metric_params=None, n_jobs=None, n_neighbors=3, p=2,\n",
              "                     weights='uniform')"
            ]
          },
          "metadata": {
            "tags": []
          },
          "execution_count": 116
        }
      ]
    },
    {
      "cell_type": "code",
      "metadata": {
        "colab": {
          "base_uri": "https://localhost:8080/"
        },
        "id": "OdjOcLBKR0n-",
        "outputId": "76928917-fa72-4056-d7ad-dc1304a5ebd7"
      },
      "source": [
        "myKNN.predict_proba(X_test)"
      ],
      "execution_count": null,
      "outputs": [
        {
          "output_type": "execute_result",
          "data": {
            "text/plain": [
              "array([[0.33333333, 0.66666667],\n",
              "       [0.33333333, 0.66666667],\n",
              "       [0.        , 1.        ],\n",
              "       ...,\n",
              "       [0.33333333, 0.66666667],\n",
              "       [0.33333333, 0.66666667],\n",
              "       [0.        , 1.        ]])"
            ]
          },
          "metadata": {
            "tags": []
          },
          "execution_count": 117
        }
      ]
    },
    {
      "cell_type": "code",
      "metadata": {
        "id": "11IxvSWxR5Ky"
      },
      "source": [
        "from sklearn.model_selection import cross_val_score"
      ],
      "execution_count": null,
      "outputs": []
    },
    {
      "cell_type": "code",
      "metadata": {
        "colab": {
          "base_uri": "https://localhost:8080/"
        },
        "id": "xzVSLtdvR8dX",
        "outputId": "a79df350-dae0-42ca-bc7a-e41ad3e7dfcb"
      },
      "source": [
        "KNN_k3_wU = KNeighborsClassifier(n_neighbors=3)\n",
        "cross_val_score(KNN_k3_wU, X_train, y_train, cv=5).mean()"
      ],
      "execution_count": null,
      "outputs": [
        {
          "output_type": "stream",
          "text": [
            "/usr/local/lib/python3.6/dist-packages/sklearn/model_selection/_validation.py:515: DataConversionWarning: A column-vector y was passed when a 1d array was expected. Please change the shape of y to (n_samples, ), for example using ravel().\n",
            "  estimator.fit(X_train, y_train, **fit_params)\n",
            "/usr/local/lib/python3.6/dist-packages/sklearn/model_selection/_validation.py:515: DataConversionWarning: A column-vector y was passed when a 1d array was expected. Please change the shape of y to (n_samples, ), for example using ravel().\n",
            "  estimator.fit(X_train, y_train, **fit_params)\n",
            "/usr/local/lib/python3.6/dist-packages/sklearn/model_selection/_validation.py:515: DataConversionWarning: A column-vector y was passed when a 1d array was expected. Please change the shape of y to (n_samples, ), for example using ravel().\n",
            "  estimator.fit(X_train, y_train, **fit_params)\n",
            "/usr/local/lib/python3.6/dist-packages/sklearn/model_selection/_validation.py:515: DataConversionWarning: A column-vector y was passed when a 1d array was expected. Please change the shape of y to (n_samples, ), for example using ravel().\n",
            "  estimator.fit(X_train, y_train, **fit_params)\n",
            "/usr/local/lib/python3.6/dist-packages/sklearn/model_selection/_validation.py:515: DataConversionWarning: A column-vector y was passed when a 1d array was expected. Please change the shape of y to (n_samples, ), for example using ravel().\n",
            "  estimator.fit(X_train, y_train, **fit_params)\n"
          ],
          "name": "stderr"
        },
        {
          "output_type": "execute_result",
          "data": {
            "text/plain": [
              "0.6911389821059986"
            ]
          },
          "metadata": {
            "tags": []
          },
          "execution_count": 119
        }
      ]
    },
    {
      "cell_type": "code",
      "metadata": {
        "colab": {
          "base_uri": "https://localhost:8080/"
        },
        "id": "pHvlw2IJSFNJ",
        "outputId": "76ea3283-cd20-4849-d5ce-44bf8d00ea79"
      },
      "source": [
        "KNN_k3_wD = KNeighborsClassifier(n_neighbors=3,weights='distance')\n",
        "cross_val_score(KNN_k3_wD, X_train, y_train, cv=5).mean()"
      ],
      "execution_count": null,
      "outputs": [
        {
          "output_type": "stream",
          "text": [
            "/usr/local/lib/python3.6/dist-packages/sklearn/model_selection/_validation.py:515: DataConversionWarning: A column-vector y was passed when a 1d array was expected. Please change the shape of y to (n_samples, ), for example using ravel().\n",
            "  estimator.fit(X_train, y_train, **fit_params)\n",
            "/usr/local/lib/python3.6/dist-packages/sklearn/model_selection/_validation.py:515: DataConversionWarning: A column-vector y was passed when a 1d array was expected. Please change the shape of y to (n_samples, ), for example using ravel().\n",
            "  estimator.fit(X_train, y_train, **fit_params)\n",
            "/usr/local/lib/python3.6/dist-packages/sklearn/model_selection/_validation.py:515: DataConversionWarning: A column-vector y was passed when a 1d array was expected. Please change the shape of y to (n_samples, ), for example using ravel().\n",
            "  estimator.fit(X_train, y_train, **fit_params)\n",
            "/usr/local/lib/python3.6/dist-packages/sklearn/model_selection/_validation.py:515: DataConversionWarning: A column-vector y was passed when a 1d array was expected. Please change the shape of y to (n_samples, ), for example using ravel().\n",
            "  estimator.fit(X_train, y_train, **fit_params)\n",
            "/usr/local/lib/python3.6/dist-packages/sklearn/model_selection/_validation.py:515: DataConversionWarning: A column-vector y was passed when a 1d array was expected. Please change the shape of y to (n_samples, ), for example using ravel().\n",
            "  estimator.fit(X_train, y_train, **fit_params)\n"
          ],
          "name": "stderr"
        },
        {
          "output_type": "execute_result",
          "data": {
            "text/plain": [
              "0.6739795642719181"
            ]
          },
          "metadata": {
            "tags": []
          },
          "execution_count": 120
        }
      ]
    },
    {
      "cell_type": "code",
      "metadata": {
        "colab": {
          "base_uri": "https://localhost:8080/"
        },
        "id": "LOD4zbgcSIMm",
        "outputId": "2df19b47-70a5-4843-c8ef-d634197f9f5e"
      },
      "source": [
        "KNN_k20_wD = KNeighborsClassifier(n_neighbors=20,weights='distance')\n",
        "cross_val_score(KNN_k20_wD, X_train, y_train, cv=5).mean()"
      ],
      "execution_count": null,
      "outputs": [
        {
          "output_type": "stream",
          "text": [
            "/usr/local/lib/python3.6/dist-packages/sklearn/model_selection/_validation.py:515: DataConversionWarning: A column-vector y was passed when a 1d array was expected. Please change the shape of y to (n_samples, ), for example using ravel().\n",
            "  estimator.fit(X_train, y_train, **fit_params)\n",
            "/usr/local/lib/python3.6/dist-packages/sklearn/model_selection/_validation.py:515: DataConversionWarning: A column-vector y was passed when a 1d array was expected. Please change the shape of y to (n_samples, ), for example using ravel().\n",
            "  estimator.fit(X_train, y_train, **fit_params)\n",
            "/usr/local/lib/python3.6/dist-packages/sklearn/model_selection/_validation.py:515: DataConversionWarning: A column-vector y was passed when a 1d array was expected. Please change the shape of y to (n_samples, ), for example using ravel().\n",
            "  estimator.fit(X_train, y_train, **fit_params)\n",
            "/usr/local/lib/python3.6/dist-packages/sklearn/model_selection/_validation.py:515: DataConversionWarning: A column-vector y was passed when a 1d array was expected. Please change the shape of y to (n_samples, ), for example using ravel().\n",
            "  estimator.fit(X_train, y_train, **fit_params)\n",
            "/usr/local/lib/python3.6/dist-packages/sklearn/model_selection/_validation.py:515: DataConversionWarning: A column-vector y was passed when a 1d array was expected. Please change the shape of y to (n_samples, ), for example using ravel().\n",
            "  estimator.fit(X_train, y_train, **fit_params)\n"
          ],
          "name": "stderr"
        },
        {
          "output_type": "execute_result",
          "data": {
            "text/plain": [
              "0.7236541127470663"
            ]
          },
          "metadata": {
            "tags": []
          },
          "execution_count": 121
        }
      ]
    },
    {
      "cell_type": "code",
      "metadata": {
        "colab": {
          "base_uri": "https://localhost:8080/"
        },
        "id": "obUL4MdkSURK",
        "outputId": "9b6d8cbb-b768-4ebf-d449-aaa0722d0803"
      },
      "source": [
        "KNN_k20_wU = KNeighborsClassifier(n_neighbors=20)\n",
        "KNN_k20_wU.fit(X_train,y_train)\n",
        "KNN_k20_wU.score(X_test,y_test)"
      ],
      "execution_count": null,
      "outputs": [
        {
          "output_type": "stream",
          "text": [
            "/usr/local/lib/python3.6/dist-packages/ipykernel_launcher.py:2: DataConversionWarning: A column-vector y was passed when a 1d array was expected. Please change the shape of y to (n_samples, ), for example using ravel().\n",
            "  \n"
          ],
          "name": "stderr"
        },
        {
          "output_type": "execute_result",
          "data": {
            "text/plain": [
              "0.746664229574118"
            ]
          },
          "metadata": {
            "tags": []
          },
          "execution_count": 122
        }
      ]
    },
    {
      "cell_type": "markdown",
      "metadata": {
        "id": "V4kidR-4NPz3"
      },
      "source": [
        "###จากผลการใช้ตัวแบบ KNN ในการทำนาย พบว่า การใส่ค่า n_neighbors= 20 ขึ้นไป จะทำให้ผลออกมาอยู่ที่ 0.74-0.75 โดยประมาณ"
      ]
    },
    {
      "cell_type": "markdown",
      "metadata": {
        "id": "Cw-CbfK3UBzk"
      },
      "source": [
        "#3.DecisionTree"
      ]
    },
    {
      "cell_type": "code",
      "metadata": {
        "id": "yOv2J4rrUHuB"
      },
      "source": [
        "from sklearn.tree import DecisionTreeClassifier\n",
        "myTree = DecisionTreeClassifier(criterion='entropy')"
      ],
      "execution_count": null,
      "outputs": []
    },
    {
      "cell_type": "code",
      "metadata": {
        "colab": {
          "base_uri": "https://localhost:8080/"
        },
        "id": "Jk8B7rQIoKMd",
        "outputId": "879321c3-0b7a-4ea3-fb7e-f04d44d99e98"
      },
      "source": [
        "skDT = DecisionTreeClassifier()\n",
        "skDT.fit(X_train,y_train)"
      ],
      "execution_count": null,
      "outputs": [
        {
          "output_type": "execute_result",
          "data": {
            "text/plain": [
              "DecisionTreeClassifier(ccp_alpha=0.0, class_weight=None, criterion='gini',\n",
              "                       max_depth=None, max_features=None, max_leaf_nodes=None,\n",
              "                       min_impurity_decrease=0.0, min_impurity_split=None,\n",
              "                       min_samples_leaf=1, min_samples_split=2,\n",
              "                       min_weight_fraction_leaf=0.0, presort='deprecated',\n",
              "                       random_state=None, splitter='best')"
            ]
          },
          "metadata": {
            "tags": []
          },
          "execution_count": 129
        }
      ]
    },
    {
      "cell_type": "code",
      "metadata": {
        "colab": {
          "base_uri": "https://localhost:8080/"
        },
        "id": "E-Qi04BtoXNd",
        "outputId": "74c4db10-a96a-4b11-9aa4-847f534e50d3"
      },
      "source": [
        "skDT.score(X_test,y_test)"
      ],
      "execution_count": null,
      "outputs": [
        {
          "output_type": "execute_result",
          "data": {
            "text/plain": [
              "0.6338877718881375"
            ]
          },
          "metadata": {
            "tags": []
          },
          "execution_count": 130
        }
      ]
    },
    {
      "cell_type": "markdown",
      "metadata": {
        "id": "vkYQAWIKolgn"
      },
      "source": [
        "#Logres"
      ]
    },
    {
      "cell_type": "code",
      "metadata": {
        "id": "CtzxPxC7sBsB"
      },
      "source": [
        "from sklearn.linear_model import LogisticRegression"
      ],
      "execution_count": null,
      "outputs": []
    },
    {
      "cell_type": "code",
      "metadata": {
        "colab": {
          "base_uri": "https://localhost:8080/"
        },
        "id": "b5MEywj7smFM",
        "outputId": "f946ed1e-428d-4361-8b6d-11a5934c1f10"
      },
      "source": [
        "skLR = LogisticRegression()\n",
        "skLR.fit(X_train, y_train)"
      ],
      "execution_count": null,
      "outputs": [
        {
          "output_type": "stream",
          "text": [
            "/usr/local/lib/python3.6/dist-packages/sklearn/utils/validation.py:760: DataConversionWarning: A column-vector y was passed when a 1d array was expected. Please change the shape of y to (n_samples, ), for example using ravel().\n",
            "  y = column_or_1d(y, warn=True)\n"
          ],
          "name": "stderr"
        },
        {
          "output_type": "execute_result",
          "data": {
            "text/plain": [
              "LogisticRegression(C=1.0, class_weight=None, dual=False, fit_intercept=True,\n",
              "                   intercept_scaling=1, l1_ratio=None, max_iter=100,\n",
              "                   multi_class='auto', n_jobs=None, penalty='l2',\n",
              "                   random_state=None, solver='lbfgs', tol=0.0001, verbose=0,\n",
              "                   warm_start=False)"
            ]
          },
          "metadata": {
            "tags": []
          },
          "execution_count": 134
        }
      ]
    },
    {
      "cell_type": "code",
      "metadata": {
        "colab": {
          "base_uri": "https://localhost:8080/"
        },
        "id": "0Gr440CHuAmA",
        "outputId": "dc934b10-aec0-4296-a0ec-cb48a64348f9"
      },
      "source": [
        "X_test"
      ],
      "execution_count": null,
      "outputs": [
        {
          "output_type": "execute_result",
          "data": {
            "text/plain": [
              "array([[ 60.5 ,   7.  ,   0.  ,   1.  ],\n",
              "       [ 21.  ,   4.  ,   0.  ,   0.  ],\n",
              "       [ 31.  ,  42.  , 409.97,   1.  ],\n",
              "       ...,\n",
              "       [  4.  ,   2.  ,   0.  ,   0.  ],\n",
              "       [ 70.5 ,  23.  ,   0.  ,   0.  ],\n",
              "       [151.5 ,  61.  ,   0.  ,   1.  ]])"
            ]
          },
          "metadata": {
            "tags": []
          },
          "execution_count": 137
        }
      ]
    },
    {
      "cell_type": "code",
      "metadata": {
        "colab": {
          "base_uri": "https://localhost:8080/"
        },
        "id": "w1cdpXapuG2-",
        "outputId": "a8534f37-6207-4763-9d28-61090db635a6"
      },
      "source": [
        "y_test"
      ],
      "execution_count": null,
      "outputs": [
        {
          "output_type": "execute_result",
          "data": {
            "text/plain": [
              "array([[1],\n",
              "       [1],\n",
              "       [0],\n",
              "       ...,\n",
              "       [1],\n",
              "       [1],\n",
              "       [0]], dtype=int64)"
            ]
          },
          "metadata": {
            "tags": []
          },
          "execution_count": 140
        }
      ]
    },
    {
      "cell_type": "code",
      "metadata": {
        "colab": {
          "base_uri": "https://localhost:8080/"
        },
        "id": "w-GHXavJtCRO",
        "outputId": "dd5f4bee-545a-4b1d-e309-2b8cb031ea79"
      },
      "source": [
        "skLR.predict_proba(X_test)"
      ],
      "execution_count": null,
      "outputs": [
        {
          "output_type": "execute_result",
          "data": {
            "text/plain": [
              "array([[0.32777807, 0.67222193],\n",
              "       [0.29873923, 0.70126077],\n",
              "       [0.26870361, 0.73129639],\n",
              "       ...,\n",
              "       [0.30797582, 0.69202418],\n",
              "       [0.25076417, 0.74923583],\n",
              "       [0.20971094, 0.79028906]])"
            ]
          },
          "metadata": {
            "tags": []
          },
          "execution_count": 136
        }
      ]
    },
    {
      "cell_type": "code",
      "metadata": {
        "colab": {
          "base_uri": "https://localhost:8080/"
        },
        "id": "-p5ZC0osuQv9",
        "outputId": "97d26338-20d3-45a2-cc1e-30c6c94da351"
      },
      "source": [
        "skLR.score(X_test,y_test)"
      ],
      "execution_count": null,
      "outputs": [
        {
          "output_type": "execute_result",
          "data": {
            "text/plain": [
              "0.7559861085724731"
            ]
          },
          "metadata": {
            "tags": []
          },
          "execution_count": 141
        }
      ]
    },
    {
      "cell_type": "markdown",
      "metadata": {
        "id": "V0x1q8CBqGyW"
      },
      "source": [
        "# สรุปผล"
      ]
    },
    {
      "cell_type": "code",
      "metadata": {
        "id": "vR8KQK7n24fw"
      },
      "source": [
        "import matplotlib.pyplot as plt"
      ],
      "execution_count": null,
      "outputs": []
    },
    {
      "cell_type": "code",
      "metadata": {
        "id": "IYaQRztB29K3"
      },
      "source": [
        "def GG() :\n",
        "      x = range(4)\n",
        "      y = (0.69,0.74,0.63,0.75)\n",
        "      max = 0.75\n",
        "      xtick = (\"RandomForest\",\"KNN\",\"DecisionTree\",\"LogisticRegression\")\n",
        "      plt.bar(x,y,color=\"Blue\")\n",
        "      plt.xticks(x,xtick,color=\"white\")\n",
        "      plt.axhline(max, color = \"red\", linestyle=\"--\")\n",
        "      plt.title(\"Compare the accuracy of the subject\",color=\"red\", fontsize=17)\n",
        "      plt.ylabel(\"accuracy\",color=\"white\",fontsize=12)\n",
        "      plt.show()"
      ],
      "execution_count": null,
      "outputs": []
    },
    {
      "cell_type": "code",
      "metadata": {
        "colab": {
          "base_uri": "https://localhost:8080/",
          "height": 285
        },
        "id": "dSUgRUMi4xJT",
        "outputId": "a8a14288-ed3b-48ca-b8e7-37247e612af4"
      },
      "source": [
        "GG()"
      ],
      "execution_count": null,
      "outputs": [
        {
          "output_type": "display_data",
          "data": {
            "image/png": "[encoded data removed]",
            "text/plain": [
              "<Figure size 432x288 with 1 Axes>"
            ]
          },
          "metadata": {
            "tags": []
          }
        }
      ]
    },
    {
      "cell_type": "markdown",
      "metadata": {
        "id": "R7JRWqmX6cPy"
      },
      "source": [
        "### ตัวเเบบที่เหมาะสมที่สุดกับชุดข้อมูลนี้ คือ ตัวแบบของ LogisticRegression โดยมีค่ามากที่สุดในทั้ง 4 ตัวแบบ คือ 0.756"
      ]
    }
  ]
}