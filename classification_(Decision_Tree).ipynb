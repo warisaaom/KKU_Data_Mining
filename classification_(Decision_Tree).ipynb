{
  "nbformat": 4,
  "nbformat_minor": 0,
  "metadata": {
    "colab": {
      "name": "classification (Decision Tree).ipynb",
      "provenance": [],
      "include_colab_link": true
    },
    "kernelspec": {
      "name": "python3",
      "display_name": "Python 3"
    }
  },
  "cells": [
    {
      "cell_type": "markdown",
      "metadata": {
        "id": "view-in-github",
        "colab_type": "text"
      },
      "source": [
        "<a href=\"https://colab.research.google.com/github/warisaaom/KKU_Data_Mining/blob/master/classification_(Decision_Tree).ipynb\" target=\"_parent\"><img src=\"https://colab.research.google.com/assets/colab-badge.svg\" alt=\"Open In Colab\"/></a>"
      ]
    },
    {
      "cell_type": "markdown",
      "metadata": {
        "id": "ik8YzVZo67Mj"
      },
      "source": [
        "import ข้อมูล iris จาก Sklearnจากนั้นตั้งตัวแปร X เพื่อเก็บตัวแปร data และ ตัวแปร y เพื่อเก็บตัวแปร target"
      ]
    },
    {
      "cell_type": "markdown",
      "metadata": {
        "id": "aaNdl0-eQ_Rw"
      },
      "source": [
        "##Load Data"
      ]
    },
    {
      "cell_type": "code",
      "metadata": {
        "id": "1iNmt0RhQ-7L"
      },
      "source": [
        "from sklearn import datasets\n",
        "iris_data = datasets.load_iris()\n",
        "x\n",
        " = iris_data['data']\n",
        "y = iris_data['target']"
      ],
      "execution_count": null,
      "outputs": []
    },
    {
      "cell_type": "markdown",
      "metadata": {
        "id": "LzAcxkGAR1Wy"
      },
      "source": [
        "##Decision Tree"
      ]
    },
    {
      "cell_type": "markdown",
      "metadata": {
        "id": "C2vGthDwSBk5"
      },
      "source": [
        "##import"
      ]
    },
    {
      "cell_type": "markdown",
      "metadata": {
        "id": "i1SBgr3h7F9V"
      },
      "source": [
        "import DecisionTreeClassifier เพื่อทำ Decisiontree"
      ]
    },
    {
      "cell_type": "code",
      "metadata": {
        "id": "W8enTUIkQd7U"
      },
      "source": [
        "from sklearn.tree import DecisionTreeClassifier"
      ],
      "execution_count": null,
      "outputs": []
    },
    {
      "cell_type": "markdown",
      "metadata": {
        "id": "v8lJky7aTWqE"
      },
      "source": [
        "##Define"
      ]
    },
    {
      "cell_type": "markdown",
      "metadata": {
        "id": "2MFGCdH-7J2w"
      },
      "source": [
        "กำหนดค่าของ Decision tree ว่าจะมีค่า critertion เป็นแบบไหน แล้วจะใช้ depth สูงสุดเท่าใด"
      ]
    },
    {
      "cell_type": "code",
      "metadata": {
        "id": "iiRyD060RWy4"
      },
      "source": [
        "myTree = DecisionTreeClassifier(criterion='entropy',max_depth=2)"
      ],
      "execution_count": null,
      "outputs": []
    },
    {
      "cell_type": "markdown",
      "metadata": {
        "id": "zXK1gUrYTr-n"
      },
      "source": [
        "##Train"
      ]
    },
    {
      "cell_type": "markdown",
      "metadata": {
        "id": "58nFf8ih7OKl"
      },
      "source": [
        "ทำการ Train โดยตัวแปร X ที่recordตั้งแต่ตัวที่ 0 ถึง ตัวที่2 นับจากท้าย และ y ที่recordตั้งแต่ตัวที่ 0 ถึง ตัวที่2 นับจากท้าย"
      ]
    },
    {
      "cell_type": "code",
      "metadata": {
        "id": "fQzMa5vyTql8",
        "colab": {
          "base_uri": "https://localhost:8080/",
          "height": 119
        },
        "outputId": "072bd79c-545d-4a54-959b-1c43596cd37e"
      },
      "source": [
        "myTree.fit(x[:-2,:],y[:-2])\n"
      ],
      "execution_count": null,
      "outputs": [
        {
          "output_type": "execute_result",
          "data": {
            "text/plain": [
              "DecisionTreeClassifier(ccp_alpha=0.0, class_weight=None, criterion='entropy',\n",
              "                       max_depth=2, max_features=None, max_leaf_nodes=None,\n",
              "                       min_impurity_decrease=0.0, min_impurity_split=None,\n",
              "                       min_samples_leaf=1, min_samples_split=2,\n",
              "                       min_weight_fraction_leaf=0.0, presort='deprecated',\n",
              "                       random_state=None, splitter='best')"
            ]
          },
          "metadata": {
            "tags": []
          },
          "execution_count": 43
        }
      ]
    },
    {
      "cell_type": "markdown",
      "metadata": {
        "id": "0o9RhXFtUSiP"
      },
      "source": [
        "##Test"
      ]
    },
    {
      "cell_type": "markdown",
      "metadata": {
        "id": "daL817aR7Rrj"
      },
      "source": [
        "ทำการทดสอบ"
      ]
    },
    {
      "cell_type": "code",
      "metadata": {
        "id": "PLDxQLShT8FZ",
        "colab": {
          "base_uri": "https://localhost:8080/",
          "height": 34
        },
        "outputId": "60a46b0c-cccf-4a68-fe44-82c8f01e49ff"
      },
      "source": [
        "myTree.predict(x[-2:,:])\n"
      ],
      "execution_count": null,
      "outputs": [
        {
          "output_type": "execute_result",
          "data": {
            "text/plain": [
              "array([2, 2])"
            ]
          },
          "metadata": {
            "tags": []
          },
          "execution_count": 44
        }
      ]
    },
    {
      "cell_type": "markdown",
      "metadata": {
        "id": "wbTZxufEVSiH"
      },
      "source": [
        "##Draw Tree"
      ]
    },
    {
      "cell_type": "code",
      "metadata": {
        "id": "KDXkZwTeVOYa"
      },
      "source": [
        "from sklearn.tree import plot_tree"
      ],
      "execution_count": null,
      "outputs": []
    },
    {
      "cell_type": "markdown",
      "metadata": {
        "id": "qDpIoOMQ7dLM"
      },
      "source": [
        "plot กราฟออกมาจะได้ว่า ขั้นแรกตัวแปรที่ X[3] ถ้าน้อยกว่า 0.8 จะทำนายได้ว่าค่าvalueที่ทำนายได้คือ 0 ถ้าไม่ ต่อมาตัวแปรที่ X[3] ถ้าน้อยกว่า 1.75 จะทำนายได้ว่าค่าvalueที่ทำนายได้คือ 1 ถ้าไม่จะทำนายได้ว่าค่าvalueที่ทำนายได้คือ 2"
      ]
    },
    {
      "cell_type": "code",
      "metadata": {
        "id": "KS-a--7uVj_4",
        "colab": {
          "base_uri": "https://localhost:8080/",
          "height": 333
        },
        "outputId": "6047f6d3-bd00-44b1-d7b8-80ad52e1ded3"
      },
      "source": [
        "plot_tree(myTree)\n"
      ],
      "execution_count": null,
      "outputs": [
        {
          "output_type": "execute_result",
          "data": {
            "text/plain": [
              "[Text(133.92000000000002, 181.2, 'X[3] <= 0.8\\nentropy = 1.585\\nsamples = 148\\nvalue = [50, 50, 48]'),\n",
              " Text(66.96000000000001, 108.72, 'entropy = 0.0\\nsamples = 50\\nvalue = [50, 0, 0]'),\n",
              " Text(200.88000000000002, 108.72, 'X[3] <= 1.75\\nentropy = 1.0\\nsamples = 98\\nvalue = [0, 50, 48]'),\n",
              " Text(133.92000000000002, 36.23999999999998, 'entropy = 0.445\\nsamples = 54\\nvalue = [0, 49, 5]'),\n",
              " Text(267.84000000000003, 36.23999999999998, 'entropy = 0.156\\nsamples = 44\\nvalue = [0, 1, 43]')]"
            ]
          },
          "metadata": {
            "tags": []
          },
          "execution_count": 46
        },
        {
          "output_type": "display_data",
          "data": {
            "image/png": "[encoded data removed]",
            "text/plain": [
              "<Figure size 432x288 with 1 Axes>"
            ]
          },
          "metadata": {
            "tags": [],
            "needs_background": "light"
          }
        }
      ]
    },
    {
      "cell_type": "markdown",
      "metadata": {
        "id": "Z2LRNKla7kHT"
      },
      "source": [
        "เรียกดูค่า X 2ตัวสุดท้าย"
      ]
    },
    {
      "cell_type": "code",
      "metadata": {
        "id": "rbOYV2OkVmuY",
        "colab": {
          "base_uri": "https://localhost:8080/",
          "height": 51
        },
        "outputId": "2b83e137-2ba9-4d6b-bc9d-7e481c976f20"
      },
      "source": [
        "x[-2:,:]"
      ],
      "execution_count": null,
      "outputs": [
        {
          "output_type": "execute_result",
          "data": {
            "text/plain": [
              "array([[6.2, 3.4, 5.4, 2.3],\n",
              "       [5.9, 3. , 5.1, 1.8]])"
            ]
          },
          "metadata": {
            "tags": []
          },
          "execution_count": 47
        }
      ]
    },
    {
      "cell_type": "code",
      "metadata": {
        "id": "0ojwlafWXaKJ"
      },
      "source": [
        ""
      ],
      "execution_count": null,
      "outputs": []
    }
  ]
}